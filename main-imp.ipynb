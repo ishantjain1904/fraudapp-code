{
 "cells": [
  {
   "cell_type": "code",
   "execution_count": 1,
   "id": "445d2d2e",
   "metadata": {},
   "outputs": [],
   "source": [
    "#import libraries\n",
    "import re\n",
    "import random\n",
    "import numpy as np\n",
    "import pandas as pd\n",
    "import matplotlib.pyplot as plt\n",
    "import seaborn as sns\n",
    "import joblib\n",
    "from sklearn.tree import DecisionTreeClassifier\n",
    "from sklearn.ensemble import RandomForestClassifier,AdaBoostClassifier,StackingClassifier \n",
    "from sklearn.metrics import confusion_matrix,accuracy_score,classification_report\n",
    "from sklearn.model_selection import RandomizedSearchCV,GridSearchCV\n",
    "from sklearn.model_selection import train_test_split\n",
    "from sklearn.linear_model import LogisticRegression\n",
    "import warnings\n",
    "warnings.filterwarnings('ignore')"
   ]
  },
  {
   "cell_type": "code",
   "execution_count": 2,
   "id": "f4c0dfdc",
   "metadata": {},
   "outputs": [],
   "source": [
    "#load dataset\n",
    "dataset= pd.read_excel(\"Output-table-prep.xlsx\")"
   ]
  },
  {
   "cell_type": "code",
   "execution_count": 3,
   "id": "0f4d1978",
   "metadata": {
    "scrolled": true
   },
   "outputs": [
    {
     "data": {
      "text/html": [
       "<div>\n",
       "<style scoped>\n",
       "    .dataframe tbody tr th:only-of-type {\n",
       "        vertical-align: middle;\n",
       "    }\n",
       "\n",
       "    .dataframe tbody tr th {\n",
       "        vertical-align: top;\n",
       "    }\n",
       "\n",
       "    .dataframe thead th {\n",
       "        text-align: right;\n",
       "    }\n",
       "</style>\n",
       "<table border=\"1\" class=\"dataframe\">\n",
       "  <thead>\n",
       "    <tr style=\"text-align: right;\">\n",
       "      <th></th>\n",
       "      <th>City</th>\n",
       "      <th>State</th>\n",
       "      <th>title</th>\n",
       "      <th>supporters</th>\n",
       "      <th>raised</th>\n",
       "      <th>needed</th>\n",
       "      <th>posted_by</th>\n",
       "      <th>benefited_to</th>\n",
       "      <th>tax benifits</th>\n",
       "      <th>AboutBenefittedPerson</th>\n",
       "      <th>image</th>\n",
       "      <th>genuine</th>\n",
       "    </tr>\n",
       "  </thead>\n",
       "  <tbody>\n",
       "    <tr>\n",
       "      <th>0</th>\n",
       "      <td>Ponda</td>\n",
       "      <td>Goa</td>\n",
       "      <td>2 Year Old Kaavi Budkuley Needs Your Help Figh...</td>\n",
       "      <td>2206</td>\n",
       "      <td>Rs.22,44,963</td>\n",
       "      <td>Rs.16,00,000</td>\n",
       "      <td>Amogh Budkuley</td>\n",
       "      <td>Kaavi Budkuley</td>\n",
       "      <td>yes</td>\n",
       "      <td>I am Amogh Budkuley and I am here to raise fun...</td>\n",
       "      <td>https://cimages.milaap.org/milaap/image/upload...</td>\n",
       "      <td>yes</td>\n",
       "    </tr>\n",
       "    <tr>\n",
       "      <th>1</th>\n",
       "      <td>Gobichettipalayam</td>\n",
       "      <td>Tamil Nadu</td>\n",
       "      <td>Support Vinothsaravanan Ramakrishnan Fight Fro...</td>\n",
       "      <td>1094</td>\n",
       "      <td>Rs.16,03,687</td>\n",
       "      <td>Rs.50,00,000</td>\n",
       "      <td>Saiprasanth VM</td>\n",
       "      <td>Vinothsaravanan Ramakrishnan</td>\n",
       "      <td>yes</td>\n",
       "      <td>Help Vinothsaravanan Ramakrishnan To Fight/Rec...</td>\n",
       "      <td>https://cimages.milaap.org/milaap/image/upload...</td>\n",
       "      <td>yes</td>\n",
       "    </tr>\n",
       "    <tr>\n",
       "      <th>2</th>\n",
       "      <td>Bathinda</td>\n",
       "      <td>Punjab</td>\n",
       "      <td>Help my father fight BILATERAL ARDS RESPIRATOR...</td>\n",
       "      <td>701</td>\n",
       "      <td>Rs.14,77,840</td>\n",
       "      <td>Rs.40,00,000</td>\n",
       "      <td>Hitesh mittal</td>\n",
       "      <td>Verjinder Mittal</td>\n",
       "      <td>yes</td>\n",
       "      <td>https://milaap.org/fundraisers/support-verjind...</td>\n",
       "      <td>https://cimages.milaap.org/milaap/image/upload...</td>\n",
       "      <td>yes</td>\n",
       "    </tr>\n",
       "    <tr>\n",
       "      <th>3</th>\n",
       "      <td>Bengaluru</td>\n",
       "      <td>Karnataka</td>\n",
       "      <td>Help 2.5 years old Marc Phukan defeat blood ca...</td>\n",
       "      <td>1038</td>\n",
       "      <td>Rs.45,55,371</td>\n",
       "      <td>Rs.50,00,000</td>\n",
       "      <td>Pankaj Chuladhara</td>\n",
       "      <td>Marc Shakya Phukan</td>\n",
       "      <td>yes</td>\n",
       "      <td>I am raising funds for my toddler son, Marc Sh...</td>\n",
       "      <td>https://cimages.milaap.org/milaap/image/upload...</td>\n",
       "      <td>yes</td>\n",
       "    </tr>\n",
       "    <tr>\n",
       "      <th>4</th>\n",
       "      <td>Bengaluru</td>\n",
       "      <td>Karnataka</td>\n",
       "      <td>Support Malashree Recover From Chronic Liver D...</td>\n",
       "      <td>88</td>\n",
       "      <td>Rs.12,26,705</td>\n",
       "      <td>Rs.17,00,000</td>\n",
       "      <td>Malashree</td>\n",
       "      <td>Malashree</td>\n",
       "      <td>no</td>\n",
       "      <td>My name is Malashree and I am 38 years old. I ...</td>\n",
       "      <td>https://cimages.milaap.org/milaap/image/upload...</td>\n",
       "      <td>yes</td>\n",
       "    </tr>\n",
       "  </tbody>\n",
       "</table>\n",
       "</div>"
      ],
      "text/plain": [
       "                City       State  \\\n",
       "0              Ponda         Goa   \n",
       "1  Gobichettipalayam  Tamil Nadu   \n",
       "2           Bathinda      Punjab   \n",
       "3          Bengaluru   Karnataka   \n",
       "4          Bengaluru   Karnataka   \n",
       "\n",
       "                                               title  supporters  \\\n",
       "0  2 Year Old Kaavi Budkuley Needs Your Help Figh...        2206   \n",
       "1  Support Vinothsaravanan Ramakrishnan Fight Fro...        1094   \n",
       "2  Help my father fight BILATERAL ARDS RESPIRATOR...         701   \n",
       "3  Help 2.5 years old Marc Phukan defeat blood ca...        1038   \n",
       "4  Support Malashree Recover From Chronic Liver D...          88   \n",
       "\n",
       "         raised        needed          posted_by  \\\n",
       "0  Rs.22,44,963  Rs.16,00,000     Amogh Budkuley   \n",
       "1  Rs.16,03,687  Rs.50,00,000     Saiprasanth VM   \n",
       "2  Rs.14,77,840  Rs.40,00,000      Hitesh mittal   \n",
       "3  Rs.45,55,371  Rs.50,00,000  Pankaj Chuladhara   \n",
       "4  Rs.12,26,705  Rs.17,00,000          Malashree   \n",
       "\n",
       "                   benefited_to tax benifits  \\\n",
       "0                Kaavi Budkuley          yes   \n",
       "1  Vinothsaravanan Ramakrishnan          yes   \n",
       "2              Verjinder Mittal          yes   \n",
       "3            Marc Shakya Phukan          yes   \n",
       "4                     Malashree           no   \n",
       "\n",
       "                               AboutBenefittedPerson  \\\n",
       "0  I am Amogh Budkuley and I am here to raise fun...   \n",
       "1  Help Vinothsaravanan Ramakrishnan To Fight/Rec...   \n",
       "2  https://milaap.org/fundraisers/support-verjind...   \n",
       "3  I am raising funds for my toddler son, Marc Sh...   \n",
       "4  My name is Malashree and I am 38 years old. I ...   \n",
       "\n",
       "                                               image genuine  \n",
       "0  https://cimages.milaap.org/milaap/image/upload...     yes  \n",
       "1  https://cimages.milaap.org/milaap/image/upload...     yes  \n",
       "2  https://cimages.milaap.org/milaap/image/upload...     yes  \n",
       "3  https://cimages.milaap.org/milaap/image/upload...     yes  \n",
       "4  https://cimages.milaap.org/milaap/image/upload...     yes  "
      ]
     },
     "execution_count": 3,
     "metadata": {},
     "output_type": "execute_result"
    }
   ],
   "source": [
    "dataset.head()"
   ]
  },
  {
   "cell_type": "code",
   "execution_count": 4,
   "id": "77a6e11b",
   "metadata": {},
   "outputs": [
    {
     "data": {
      "text/plain": [
       "City                                                     Gobichettipalayam\n",
       "State                                                           Tamil Nadu\n",
       "title                    Support Vinothsaravanan Ramakrishnan Fight Fro...\n",
       "supporters                                                            1094\n",
       "raised                                                        Rs.16,03,687\n",
       "needed                                                        Rs.50,00,000\n",
       "posted_by                                                   Saiprasanth VM\n",
       "benefited_to                                  Vinothsaravanan Ramakrishnan\n",
       "tax benifits                                                           yes\n",
       "AboutBenefittedPerson    Help Vinothsaravanan Ramakrishnan To Fight/Rec...\n",
       "image                    https://cimages.milaap.org/milaap/image/upload...\n",
       "genuine                                                                yes\n",
       "Name: 1, dtype: object"
      ]
     },
     "execution_count": 4,
     "metadata": {},
     "output_type": "execute_result"
    }
   ],
   "source": [
    "dataset.iloc[1,:]"
   ]
  },
  {
   "cell_type": "code",
   "execution_count": 5,
   "id": "647880bf",
   "metadata": {},
   "outputs": [
    {
     "name": "stdout",
     "output_type": "stream",
     "text": [
      "<class 'pandas.core.frame.DataFrame'>\n",
      "RangeIndex: 1053 entries, 0 to 1052\n",
      "Data columns (total 12 columns):\n",
      " #   Column                 Non-Null Count  Dtype \n",
      "---  ------                 --------------  ----- \n",
      " 0   City                   1053 non-null   object\n",
      " 1   State                  1053 non-null   object\n",
      " 2   title                  1052 non-null   object\n",
      " 3   supporters             1053 non-null   int64 \n",
      " 4   raised                 1053 non-null   object\n",
      " 5   needed                 1053 non-null   object\n",
      " 6   posted_by              1053 non-null   object\n",
      " 7   benefited_to           1053 non-null   object\n",
      " 8   tax benifits           1053 non-null   object\n",
      " 9   AboutBenefittedPerson  1053 non-null   object\n",
      " 10  image                  1053 non-null   object\n",
      " 11  genuine                1053 non-null   object\n",
      "dtypes: int64(1), object(11)\n",
      "memory usage: 98.8+ KB\n"
     ]
    }
   ],
   "source": [
    "dataset.info()"
   ]
  },
  {
   "cell_type": "code",
   "execution_count": 6,
   "id": "2d1ee4c1",
   "metadata": {},
   "outputs": [
    {
     "data": {
      "text/html": [
       "<div>\n",
       "<style scoped>\n",
       "    .dataframe tbody tr th:only-of-type {\n",
       "        vertical-align: middle;\n",
       "    }\n",
       "\n",
       "    .dataframe tbody tr th {\n",
       "        vertical-align: top;\n",
       "    }\n",
       "\n",
       "    .dataframe thead th {\n",
       "        text-align: right;\n",
       "    }\n",
       "</style>\n",
       "<table border=\"1\" class=\"dataframe\">\n",
       "  <thead>\n",
       "    <tr style=\"text-align: right;\">\n",
       "      <th></th>\n",
       "      <th>supporters</th>\n",
       "    </tr>\n",
       "  </thead>\n",
       "  <tbody>\n",
       "    <tr>\n",
       "      <th>count</th>\n",
       "      <td>1053.000000</td>\n",
       "    </tr>\n",
       "    <tr>\n",
       "      <th>mean</th>\n",
       "      <td>126.347578</td>\n",
       "    </tr>\n",
       "    <tr>\n",
       "      <th>std</th>\n",
       "      <td>548.482596</td>\n",
       "    </tr>\n",
       "    <tr>\n",
       "      <th>min</th>\n",
       "      <td>1.000000</td>\n",
       "    </tr>\n",
       "    <tr>\n",
       "      <th>25%</th>\n",
       "      <td>4.000000</td>\n",
       "    </tr>\n",
       "    <tr>\n",
       "      <th>50%</th>\n",
       "      <td>23.000000</td>\n",
       "    </tr>\n",
       "    <tr>\n",
       "      <th>75%</th>\n",
       "      <td>87.000000</td>\n",
       "    </tr>\n",
       "    <tr>\n",
       "      <th>max</th>\n",
       "      <td>13724.000000</td>\n",
       "    </tr>\n",
       "  </tbody>\n",
       "</table>\n",
       "</div>"
      ],
      "text/plain": [
       "         supporters\n",
       "count   1053.000000\n",
       "mean     126.347578\n",
       "std      548.482596\n",
       "min        1.000000\n",
       "25%        4.000000\n",
       "50%       23.000000\n",
       "75%       87.000000\n",
       "max    13724.000000"
      ]
     },
     "execution_count": 6,
     "metadata": {},
     "output_type": "execute_result"
    }
   ],
   "source": [
    "dataset.describe()"
   ]
  },
  {
   "cell_type": "markdown",
   "id": "baf3743a",
   "metadata": {},
   "source": [
    "###  here the raised and needed column should be changed to numeric datatype"
   ]
  },
  {
   "cell_type": "code",
   "execution_count": 7,
   "id": "057a75ad",
   "metadata": {},
   "outputs": [],
   "source": [
    "raised_amount  = []\n",
    "for i in range(len(dataset['raised'])):\n",
    "    if 'Rs' in dataset['raised'][i]:\n",
    "        raised_amount.append(int(dataset['raised'][i][3:].replace(\",\",\"\")))\n",
    "    elif '$' in dataset['raised'][i]:\n",
    "        raised_amount.append(int(dataset['raised'][i][1:].replace(\",\",\"\")))"
   ]
  },
  {
   "cell_type": "code",
   "execution_count": 8,
   "id": "8b265894",
   "metadata": {},
   "outputs": [],
   "source": [
    "dataset['raised_amount'] = raised_amount"
   ]
  },
  {
   "cell_type": "code",
   "execution_count": 9,
   "id": "548584e9",
   "metadata": {},
   "outputs": [],
   "source": [
    "needed_amount = []\n",
    "for i in range(len(dataset['needed'])):\n",
    "    if '$' in dataset['needed'][i]:\n",
    "        needed_amount.append(int(dataset['needed'][i][1:].replace(\",\",\"\")))\n",
    "    elif 'Rs' in dataset['needed'][i]:\n",
    "        needed_amount.append(int(dataset['needed'][i][3:].replace(\",\",\"\")))"
   ]
  },
  {
   "cell_type": "code",
   "execution_count": 10,
   "id": "a261ea38",
   "metadata": {},
   "outputs": [],
   "source": [
    "dataset['needed_amount'] = needed_amount"
   ]
  },
  {
   "cell_type": "code",
   "execution_count": 11,
   "id": "f139efeb",
   "metadata": {},
   "outputs": [
    {
     "data": {
      "text/plain": [
       "raised_amount    int64\n",
       "needed_amount    int64\n",
       "dtype: object"
      ]
     },
     "execution_count": 11,
     "metadata": {},
     "output_type": "execute_result"
    }
   ],
   "source": [
    "dataset[['raised_amount','needed_amount']].dtypes"
   ]
  },
  {
   "cell_type": "code",
   "execution_count": 12,
   "id": "d4af3a37",
   "metadata": {},
   "outputs": [],
   "source": [
    "#dropping raised,needed column after conversion\n",
    "dataset.drop(['raised','needed'],axis=1,inplace=True)"
   ]
  },
  {
   "cell_type": "markdown",
   "id": "1e7b6547",
   "metadata": {},
   "source": [
    "### check null values in the dataset "
   ]
  },
  {
   "cell_type": "code",
   "execution_count": 13,
   "id": "95ca85f8",
   "metadata": {},
   "outputs": [
    {
     "data": {
      "text/plain": [
       "City                     0\n",
       "State                    0\n",
       "title                    1\n",
       "supporters               0\n",
       "posted_by                0\n",
       "benefited_to             0\n",
       "tax benifits             0\n",
       "AboutBenefittedPerson    0\n",
       "image                    0\n",
       "genuine                  0\n",
       "raised_amount            0\n",
       "needed_amount            0\n",
       "dtype: int64"
      ]
     },
     "execution_count": 13,
     "metadata": {},
     "output_type": "execute_result"
    }
   ],
   "source": [
    "dataset.isnull().sum()"
   ]
  },
  {
   "cell_type": "code",
   "execution_count": 14,
   "id": "1658b359",
   "metadata": {},
   "outputs": [],
   "source": [
    "dataset['title'] = dataset['title'].fillna('unknown')"
   ]
  },
  {
   "cell_type": "markdown",
   "id": "366d348d",
   "metadata": {},
   "source": [
    "# Exploratory Data Analysis "
   ]
  },
  {
   "cell_type": "code",
   "execution_count": 15,
   "id": "772bd99e",
   "metadata": {},
   "outputs": [
    {
     "data": {
      "text/plain": [
       "<AxesSubplot:xlabel='genuine', ylabel='count'>"
      ]
     },
     "execution_count": 15,
     "metadata": {},
     "output_type": "execute_result"
    },
    {
     "data": {
      "image/png": "[encoded data removed]",
      "text/plain": [
       "<Figure size 432x288 with 1 Axes>"
      ]
     },
     "metadata": {
      "needs_background": "light"
     },
     "output_type": "display_data"
    }
   ],
   "source": [
    "sns.countplot(data=dataset,x='genuine')"
   ]
  },
  {
   "cell_type": "markdown",
   "id": "4f4b0ff7",
   "metadata": {},
   "source": [
    "#### We have nearly equal no of labels in predictor attribute. so mostly the predictor attribute is balanced"
   ]
  },
  {
   "cell_type": "code",
   "execution_count": 16,
   "id": "eba90aa8",
   "metadata": {},
   "outputs": [
    {
     "data": {
      "text/plain": [
       "<matplotlib.legend.Legend at 0x209e1120910>"
      ]
     },
     "execution_count": 16,
     "metadata": {},
     "output_type": "execute_result"
    },
    {
     "data": {
      "image/png": "[encoded data removed]",
      "text/plain": [
       "<Figure size 432x288 with 1 Axes>"
      ]
     },
     "metadata": {
      "needs_background": "light"
     },
     "output_type": "display_data"
    }
   ],
   "source": [
    "sns.countplot(data=dataset,x='tax benifits',hue='genuine')\n",
    "plt.legend()"
   ]
  },
  {
   "cell_type": "markdown",
   "id": "f858a2b1",
   "metadata": {},
   "source": [
    "#### Here the fundraisers who don't have tax benifits are mostly not genuine "
   ]
  },
  {
   "cell_type": "code",
   "execution_count": 17,
   "id": "b9118020",
   "metadata": {},
   "outputs": [
    {
     "data": {
      "text/plain": [
       "<AxesSubplot:xlabel='supporters', ylabel='raised_amount'>"
      ]
     },
     "execution_count": 17,
     "metadata": {},
     "output_type": "execute_result"
    },
    {
     "data": {
      "image/png": "[encoded data removed]",
      "text/plain": [
       "<Figure size 576x288 with 1 Axes>"
      ]
     },
     "metadata": {
      "needs_background": "light"
     },
     "output_type": "display_data"
    }
   ],
   "source": [
    "plt.figure(figsize=(8,4))\n",
    "sns.scatterplot(y='raised_amount',x='supporters',data=dataset,hue='genuine')"
   ]
  },
  {
   "cell_type": "markdown",
   "id": "39b3b9e6",
   "metadata": {},
   "source": [
    "#### Here we see a linear relationship between no of supporters and raised_amount \n",
    "#### Also can see that fundraiser who have gained people's trust is genuine "
   ]
  },
  {
   "cell_type": "code",
   "execution_count": 18,
   "id": "b9eeddd7",
   "metadata": {},
   "outputs": [
    {
     "data": {
      "text/plain": [
       "<AxesSubplot:xlabel='raised_amount', ylabel='Density'>"
      ]
     },
     "execution_count": 18,
     "metadata": {},
     "output_type": "execute_result"
    },
    {
     "data": {
      "image/png": "[encoded data removed]",
      "text/plain": [
       "<Figure size 432x288 with 1 Axes>"
      ]
     },
     "metadata": {
      "needs_background": "light"
     },
     "output_type": "display_data"
    }
   ],
   "source": [
    "sns.distplot(dataset['raised_amount'],bins=30)"
   ]
  },
  {
   "cell_type": "code",
   "execution_count": 19,
   "id": "5d006f43",
   "metadata": {},
   "outputs": [
    {
     "data": {
      "text/plain": [
       "<AxesSubplot:xlabel='needed_amount', ylabel='Density'>"
      ]
     },
     "execution_count": 19,
     "metadata": {},
     "output_type": "execute_result"
    },
    {
     "data": {
      "image/png": "[encoded data removed]",
      "text/plain": [
       "<Figure size 432x288 with 1 Axes>"
      ]
     },
     "metadata": {
      "needs_background": "light"
     },
     "output_type": "display_data"
    }
   ],
   "source": [
    "sns.distplot(dataset['needed_amount'],bins=30)"
   ]
  },
  {
   "cell_type": "code",
   "execution_count": 20,
   "id": "5079fef4",
   "metadata": {},
   "outputs": [
    {
     "data": {
      "text/plain": [
       "<AxesSubplot:xlabel='supporters', ylabel='Density'>"
      ]
     },
     "execution_count": 20,
     "metadata": {},
     "output_type": "execute_result"
    },
    {
     "data": {
      "image/png": "[encoded data removed]",
      "text/plain": [
       "<Figure size 432x288 with 1 Axes>"
      ]
     },
     "metadata": {
      "needs_background": "light"
     },
     "output_type": "display_data"
    }
   ],
   "source": [
    "sns.distplot(dataset['supporters'],bins=30)"
   ]
  },
  {
   "cell_type": "markdown",
   "id": "971312eb",
   "metadata": {},
   "source": [
    "# Categorical features\n"
   ]
  },
  {
   "cell_type": "code",
   "execution_count": 21,
   "id": "45452e85",
   "metadata": {},
   "outputs": [
    {
     "name": "stdout",
     "output_type": "stream",
     "text": [
      "['tax benifits', 'genuine']\n"
     ]
    }
   ],
   "source": [
    "low_cardinality_cols = [col for col in dataset.columns if dataset[col].nunique()<10 and dataset[col].dtype==\"object\"]\n",
    "print(low_cardinality_cols)"
   ]
  },
  {
   "cell_type": "code",
   "execution_count": 22,
   "id": "d5234ed8",
   "metadata": {},
   "outputs": [
    {
     "name": "stdout",
     "output_type": "stream",
     "text": [
      "['City', 'State', 'title', 'posted_by', 'benefited_to', 'AboutBenefittedPerson', 'image']\n"
     ]
    }
   ],
   "source": [
    "high_cardinality_cols = [col for col in dataset.columns if dataset[col].nunique()>10 and dataset[col].dtype==\"object\"]\n",
    "print(high_cardinality_cols)"
   ]
  },
  {
   "cell_type": "code",
   "execution_count": 23,
   "id": "3148fc14",
   "metadata": {},
   "outputs": [],
   "source": [
    "data = dataset.copy()"
   ]
  },
  {
   "cell_type": "code",
   "execution_count": 24,
   "id": "66be0501",
   "metadata": {},
   "outputs": [],
   "source": [
    "data[low_cardinality_cols] = pd.get_dummies(dataset[low_cardinality_cols],drop_first=\"True\")"
   ]
  },
  {
   "cell_type": "code",
   "execution_count": 25,
   "id": "04a3fd92",
   "metadata": {},
   "outputs": [
    {
     "data": {
      "text/html": [
       "<div>\n",
       "<style scoped>\n",
       "    .dataframe tbody tr th:only-of-type {\n",
       "        vertical-align: middle;\n",
       "    }\n",
       "\n",
       "    .dataframe tbody tr th {\n",
       "        vertical-align: top;\n",
       "    }\n",
       "\n",
       "    .dataframe thead th {\n",
       "        text-align: right;\n",
       "    }\n",
       "</style>\n",
       "<table border=\"1\" class=\"dataframe\">\n",
       "  <thead>\n",
       "    <tr style=\"text-align: right;\">\n",
       "      <th></th>\n",
       "      <th>City</th>\n",
       "      <th>State</th>\n",
       "      <th>title</th>\n",
       "      <th>supporters</th>\n",
       "      <th>posted_by</th>\n",
       "      <th>benefited_to</th>\n",
       "      <th>tax benifits</th>\n",
       "      <th>AboutBenefittedPerson</th>\n",
       "      <th>image</th>\n",
       "      <th>genuine</th>\n",
       "      <th>raised_amount</th>\n",
       "      <th>needed_amount</th>\n",
       "    </tr>\n",
       "  </thead>\n",
       "  <tbody>\n",
       "    <tr>\n",
       "      <th>0</th>\n",
       "      <td>Ponda</td>\n",
       "      <td>Goa</td>\n",
       "      <td>2 Year Old Kaavi Budkuley Needs Your Help Figh...</td>\n",
       "      <td>2206</td>\n",
       "      <td>Amogh Budkuley</td>\n",
       "      <td>Kaavi Budkuley</td>\n",
       "      <td>1</td>\n",
       "      <td>I am Amogh Budkuley and I am here to raise fun...</td>\n",
       "      <td>https://cimages.milaap.org/milaap/image/upload...</td>\n",
       "      <td>1</td>\n",
       "      <td>2244963</td>\n",
       "      <td>1600000</td>\n",
       "    </tr>\n",
       "    <tr>\n",
       "      <th>1</th>\n",
       "      <td>Gobichettipalayam</td>\n",
       "      <td>Tamil Nadu</td>\n",
       "      <td>Support Vinothsaravanan Ramakrishnan Fight Fro...</td>\n",
       "      <td>1094</td>\n",
       "      <td>Saiprasanth VM</td>\n",
       "      <td>Vinothsaravanan Ramakrishnan</td>\n",
       "      <td>1</td>\n",
       "      <td>Help Vinothsaravanan Ramakrishnan To Fight/Rec...</td>\n",
       "      <td>https://cimages.milaap.org/milaap/image/upload...</td>\n",
       "      <td>1</td>\n",
       "      <td>1603687</td>\n",
       "      <td>5000000</td>\n",
       "    </tr>\n",
       "    <tr>\n",
       "      <th>2</th>\n",
       "      <td>Bathinda</td>\n",
       "      <td>Punjab</td>\n",
       "      <td>Help my father fight BILATERAL ARDS RESPIRATOR...</td>\n",
       "      <td>701</td>\n",
       "      <td>Hitesh mittal</td>\n",
       "      <td>Verjinder Mittal</td>\n",
       "      <td>1</td>\n",
       "      <td>https://milaap.org/fundraisers/support-verjind...</td>\n",
       "      <td>https://cimages.milaap.org/milaap/image/upload...</td>\n",
       "      <td>1</td>\n",
       "      <td>1477840</td>\n",
       "      <td>4000000</td>\n",
       "    </tr>\n",
       "    <tr>\n",
       "      <th>3</th>\n",
       "      <td>Bengaluru</td>\n",
       "      <td>Karnataka</td>\n",
       "      <td>Help 2.5 years old Marc Phukan defeat blood ca...</td>\n",
       "      <td>1038</td>\n",
       "      <td>Pankaj Chuladhara</td>\n",
       "      <td>Marc Shakya Phukan</td>\n",
       "      <td>1</td>\n",
       "      <td>I am raising funds for my toddler son, Marc Sh...</td>\n",
       "      <td>https://cimages.milaap.org/milaap/image/upload...</td>\n",
       "      <td>1</td>\n",
       "      <td>4555371</td>\n",
       "      <td>5000000</td>\n",
       "    </tr>\n",
       "    <tr>\n",
       "      <th>4</th>\n",
       "      <td>Bengaluru</td>\n",
       "      <td>Karnataka</td>\n",
       "      <td>Support Malashree Recover From Chronic Liver D...</td>\n",
       "      <td>88</td>\n",
       "      <td>Malashree</td>\n",
       "      <td>Malashree</td>\n",
       "      <td>0</td>\n",
       "      <td>My name is Malashree and I am 38 years old. I ...</td>\n",
       "      <td>https://cimages.milaap.org/milaap/image/upload...</td>\n",
       "      <td>1</td>\n",
       "      <td>1226705</td>\n",
       "      <td>1700000</td>\n",
       "    </tr>\n",
       "    <tr>\n",
       "      <th>...</th>\n",
       "      <td>...</td>\n",
       "      <td>...</td>\n",
       "      <td>...</td>\n",
       "      <td>...</td>\n",
       "      <td>...</td>\n",
       "      <td>...</td>\n",
       "      <td>...</td>\n",
       "      <td>...</td>\n",
       "      <td>...</td>\n",
       "      <td>...</td>\n",
       "      <td>...</td>\n",
       "      <td>...</td>\n",
       "    </tr>\n",
       "    <tr>\n",
       "      <th>1048</th>\n",
       "      <td>Namakkal</td>\n",
       "      <td>Tamil Nadu</td>\n",
       "      <td>Help My Sister, Pappathi Recover From Blood &amp; ...</td>\n",
       "      <td>1</td>\n",
       "      <td>Manikandan</td>\n",
       "      <td>Pappathi</td>\n",
       "      <td>0</td>\n",
       "      <td>Hi, My name is  Manikandan and I am raising fu...</td>\n",
       "      <td>https://cimages.milaap.org/milaap/image/upload...</td>\n",
       "      <td>0</td>\n",
       "      <td>1</td>\n",
       "      <td>2500000</td>\n",
       "    </tr>\n",
       "    <tr>\n",
       "      <th>1049</th>\n",
       "      <td>Nagpur</td>\n",
       "      <td>Maharashtra</td>\n",
       "      <td>6 years old Avani Kirtikar Needs Undergo Liver...</td>\n",
       "      <td>1</td>\n",
       "      <td>Bhavana Thete</td>\n",
       "      <td>Avani Kirtikar</td>\n",
       "      <td>1</td>\n",
       "      <td>I am here to raise funds for Daughter Anavi Ki...</td>\n",
       "      <td>https://cimages.milaap.org/milaap/image/upload...</td>\n",
       "      <td>0</td>\n",
       "      <td>1</td>\n",
       "      <td>2500000</td>\n",
       "    </tr>\n",
       "    <tr>\n",
       "      <th>1050</th>\n",
       "      <td>Rajahmundry</td>\n",
       "      <td>Andhra Pradesh</td>\n",
       "      <td>Support Hemanth Mani Kumar Undergo From Bone M...</td>\n",
       "      <td>1</td>\n",
       "      <td>Mohammed Farouk</td>\n",
       "      <td>Kamisetti hemant mani kumar</td>\n",
       "      <td>1</td>\n",
       "      <td>My name is Ramesh and I am here to raise funds...</td>\n",
       "      <td>https://cimages.milaap.org/milaap/image/upload...</td>\n",
       "      <td>0</td>\n",
       "      <td>1</td>\n",
       "      <td>2000000</td>\n",
       "    </tr>\n",
       "    <tr>\n",
       "      <th>1051</th>\n",
       "      <td>Bengaluru</td>\n",
       "      <td>Karnataka</td>\n",
       "      <td>Help KHYATI fighting with Spinal Muscular Atro...</td>\n",
       "      <td>70</td>\n",
       "      <td>ANSHU BANSAL</td>\n",
       "      <td>Baby Khyati</td>\n",
       "      <td>1</td>\n",
       "      <td>This is an additional fundraiser page for Baby...</td>\n",
       "      <td>https://cimages.milaap.org/milaap/image/upload...</td>\n",
       "      <td>0</td>\n",
       "      <td>76186</td>\n",
       "      <td>1000000</td>\n",
       "    </tr>\n",
       "    <tr>\n",
       "      <th>1052</th>\n",
       "      <td>Bengaluru</td>\n",
       "      <td>Karnataka</td>\n",
       "      <td>Help Khyati, 8 months old fighting with Spinal...</td>\n",
       "      <td>49</td>\n",
       "      <td>NVSL RAMAN</td>\n",
       "      <td>Baby Khyati</td>\n",
       "      <td>1</td>\n",
       "      <td>This is an additional fundraiser page for Baby...</td>\n",
       "      <td>https://cimages.milaap.org/milaap/image/upload...</td>\n",
       "      <td>0</td>\n",
       "      <td>87033</td>\n",
       "      <td>10000000</td>\n",
       "    </tr>\n",
       "  </tbody>\n",
       "</table>\n",
       "<p>1053 rows × 12 columns</p>\n",
       "</div>"
      ],
      "text/plain": [
       "                   City           State  \\\n",
       "0                 Ponda             Goa   \n",
       "1     Gobichettipalayam      Tamil Nadu   \n",
       "2              Bathinda          Punjab   \n",
       "3             Bengaluru       Karnataka   \n",
       "4             Bengaluru       Karnataka   \n",
       "...                 ...             ...   \n",
       "1048           Namakkal      Tamil Nadu   \n",
       "1049             Nagpur     Maharashtra   \n",
       "1050        Rajahmundry  Andhra Pradesh   \n",
       "1051          Bengaluru       Karnataka   \n",
       "1052          Bengaluru       Karnataka   \n",
       "\n",
       "                                                  title  supporters  \\\n",
       "0     2 Year Old Kaavi Budkuley Needs Your Help Figh...        2206   \n",
       "1     Support Vinothsaravanan Ramakrishnan Fight Fro...        1094   \n",
       "2     Help my father fight BILATERAL ARDS RESPIRATOR...         701   \n",
       "3     Help 2.5 years old Marc Phukan defeat blood ca...        1038   \n",
       "4     Support Malashree Recover From Chronic Liver D...          88   \n",
       "...                                                 ...         ...   \n",
       "1048  Help My Sister, Pappathi Recover From Blood & ...           1   \n",
       "1049  6 years old Avani Kirtikar Needs Undergo Liver...           1   \n",
       "1050  Support Hemanth Mani Kumar Undergo From Bone M...           1   \n",
       "1051  Help KHYATI fighting with Spinal Muscular Atro...          70   \n",
       "1052  Help Khyati, 8 months old fighting with Spinal...          49   \n",
       "\n",
       "              posted_by                  benefited_to  tax benifits  \\\n",
       "0        Amogh Budkuley                Kaavi Budkuley             1   \n",
       "1        Saiprasanth VM  Vinothsaravanan Ramakrishnan             1   \n",
       "2         Hitesh mittal              Verjinder Mittal             1   \n",
       "3     Pankaj Chuladhara            Marc Shakya Phukan             1   \n",
       "4             Malashree                     Malashree             0   \n",
       "...                 ...                           ...           ...   \n",
       "1048         Manikandan                      Pappathi             0   \n",
       "1049      Bhavana Thete                Avani Kirtikar             1   \n",
       "1050    Mohammed Farouk   Kamisetti hemant mani kumar             1   \n",
       "1051       ANSHU BANSAL                   Baby Khyati             1   \n",
       "1052         NVSL RAMAN                   Baby Khyati             1   \n",
       "\n",
       "                                  AboutBenefittedPerson  \\\n",
       "0     I am Amogh Budkuley and I am here to raise fun...   \n",
       "1     Help Vinothsaravanan Ramakrishnan To Fight/Rec...   \n",
       "2     https://milaap.org/fundraisers/support-verjind...   \n",
       "3     I am raising funds for my toddler son, Marc Sh...   \n",
       "4     My name is Malashree and I am 38 years old. I ...   \n",
       "...                                                 ...   \n",
       "1048  Hi, My name is  Manikandan and I am raising fu...   \n",
       "1049  I am here to raise funds for Daughter Anavi Ki...   \n",
       "1050  My name is Ramesh and I am here to raise funds...   \n",
       "1051  This is an additional fundraiser page for Baby...   \n",
       "1052  This is an additional fundraiser page for Baby...   \n",
       "\n",
       "                                                  image  genuine  \\\n",
       "0     https://cimages.milaap.org/milaap/image/upload...        1   \n",
       "1     https://cimages.milaap.org/milaap/image/upload...        1   \n",
       "2     https://cimages.milaap.org/milaap/image/upload...        1   \n",
       "3     https://cimages.milaap.org/milaap/image/upload...        1   \n",
       "4     https://cimages.milaap.org/milaap/image/upload...        1   \n",
       "...                                                 ...      ...   \n",
       "1048  https://cimages.milaap.org/milaap/image/upload...        0   \n",
       "1049  https://cimages.milaap.org/milaap/image/upload...        0   \n",
       "1050  https://cimages.milaap.org/milaap/image/upload...        0   \n",
       "1051  https://cimages.milaap.org/milaap/image/upload...        0   \n",
       "1052  https://cimages.milaap.org/milaap/image/upload...        0   \n",
       "\n",
       "      raised_amount  needed_amount  \n",
       "0           2244963        1600000  \n",
       "1           1603687        5000000  \n",
       "2           1477840        4000000  \n",
       "3           4555371        5000000  \n",
       "4           1226705        1700000  \n",
       "...             ...            ...  \n",
       "1048              1        2500000  \n",
       "1049              1        2500000  \n",
       "1050              1        2000000  \n",
       "1051          76186        1000000  \n",
       "1052          87033       10000000  \n",
       "\n",
       "[1053 rows x 12 columns]"
      ]
     },
     "execution_count": 25,
     "metadata": {},
     "output_type": "execute_result"
    }
   ],
   "source": [
    "data"
   ]
  },
  {
   "cell_type": "markdown",
   "id": "5f90a283",
   "metadata": {},
   "source": [
    "### Replace the state names with probabiltites w.r.t genuine column "
   ]
  },
  {
   "cell_type": "code",
   "execution_count": 26,
   "id": "e36ecba9",
   "metadata": {},
   "outputs": [],
   "source": [
    "by_state = pd.DataFrame(dataset.groupby(['State','genuine']).count())\n",
    "by_state.reset_index(inplace=True)"
   ]
  },
  {
   "cell_type": "code",
   "execution_count": 27,
   "id": "331c5f0a",
   "metadata": {},
   "outputs": [],
   "source": [
    "by_state = by_state.iloc[:,[0,1,2]]"
   ]
  },
  {
   "cell_type": "code",
   "execution_count": 28,
   "id": "26ace68e",
   "metadata": {},
   "outputs": [],
   "source": [
    "state_values = dict(by_state.groupby('State').City.sum())"
   ]
  },
  {
   "cell_type": "code",
   "execution_count": 29,
   "id": "dffea749",
   "metadata": {},
   "outputs": [],
   "source": [
    "prob_by_state = [by_state['City'][i]/state_values[by_state['State'][i]] for i in range(len(by_state['State']))]   "
   ]
  },
  {
   "cell_type": "code",
   "execution_count": 30,
   "id": "c0a78782",
   "metadata": {},
   "outputs": [],
   "source": [
    "by_state['prob_by_state'] = prob_by_state"
   ]
  },
  {
   "cell_type": "code",
   "execution_count": 31,
   "id": "5e8716ee",
   "metadata": {},
   "outputs": [],
   "source": [
    "by_state_no = by_state.loc[by_state['genuine']=='no']\n",
    "by_state_yes = by_state.loc[by_state['genuine']=='yes']"
   ]
  },
  {
   "cell_type": "code",
   "execution_count": 32,
   "id": "f861a672",
   "metadata": {},
   "outputs": [],
   "source": [
    "x1 = list(by_state_yes['State'])\n",
    "y1 = list(by_state_yes['prob_by_state'])\n",
    "x2 = list(by_state_no['State'])\n",
    "y2 = list(by_state_no['prob_by_state']) "
   ]
  },
  {
   "cell_type": "code",
   "execution_count": 33,
   "id": "8fa5fc67",
   "metadata": {},
   "outputs": [
    {
     "data": {
      "text/html": [
       "<div>\n",
       "<style scoped>\n",
       "    .dataframe tbody tr th:only-of-type {\n",
       "        vertical-align: middle;\n",
       "    }\n",
       "\n",
       "    .dataframe tbody tr th {\n",
       "        vertical-align: top;\n",
       "    }\n",
       "\n",
       "    .dataframe thead th {\n",
       "        text-align: right;\n",
       "    }\n",
       "</style>\n",
       "<table border=\"1\" class=\"dataframe\">\n",
       "  <thead>\n",
       "    <tr style=\"text-align: right;\">\n",
       "      <th></th>\n",
       "      <th>City</th>\n",
       "      <th>State</th>\n",
       "      <th>title</th>\n",
       "      <th>supporters</th>\n",
       "      <th>posted_by</th>\n",
       "      <th>benefited_to</th>\n",
       "      <th>tax benifits</th>\n",
       "      <th>AboutBenefittedPerson</th>\n",
       "      <th>image</th>\n",
       "      <th>genuine</th>\n",
       "      <th>raised_amount</th>\n",
       "      <th>needed_amount</th>\n",
       "      <th>State1</th>\n",
       "    </tr>\n",
       "  </thead>\n",
       "  <tbody>\n",
       "    <tr>\n",
       "      <th>0</th>\n",
       "      <td>Ponda</td>\n",
       "      <td>Goa</td>\n",
       "      <td>2 Year Old Kaavi Budkuley Needs Your Help Figh...</td>\n",
       "      <td>2206</td>\n",
       "      <td>Amogh Budkuley</td>\n",
       "      <td>Kaavi Budkuley</td>\n",
       "      <td>1</td>\n",
       "      <td>I am Amogh Budkuley and I am here to raise fun...</td>\n",
       "      <td>https://cimages.milaap.org/milaap/image/upload...</td>\n",
       "      <td>1</td>\n",
       "      <td>2244963</td>\n",
       "      <td>1600000</td>\n",
       "      <td>1.000000</td>\n",
       "    </tr>\n",
       "    <tr>\n",
       "      <th>1</th>\n",
       "      <td>Gobichettipalayam</td>\n",
       "      <td>Tamil Nadu</td>\n",
       "      <td>Support Vinothsaravanan Ramakrishnan Fight Fro...</td>\n",
       "      <td>1094</td>\n",
       "      <td>Saiprasanth VM</td>\n",
       "      <td>Vinothsaravanan Ramakrishnan</td>\n",
       "      <td>1</td>\n",
       "      <td>Help Vinothsaravanan Ramakrishnan To Fight/Rec...</td>\n",
       "      <td>https://cimages.milaap.org/milaap/image/upload...</td>\n",
       "      <td>1</td>\n",
       "      <td>1603687</td>\n",
       "      <td>5000000</td>\n",
       "      <td>0.568862</td>\n",
       "    </tr>\n",
       "    <tr>\n",
       "      <th>2</th>\n",
       "      <td>Bathinda</td>\n",
       "      <td>Punjab</td>\n",
       "      <td>Help my father fight BILATERAL ARDS RESPIRATOR...</td>\n",
       "      <td>701</td>\n",
       "      <td>Hitesh mittal</td>\n",
       "      <td>Verjinder Mittal</td>\n",
       "      <td>1</td>\n",
       "      <td>https://milaap.org/fundraisers/support-verjind...</td>\n",
       "      <td>https://cimages.milaap.org/milaap/image/upload...</td>\n",
       "      <td>1</td>\n",
       "      <td>1477840</td>\n",
       "      <td>4000000</td>\n",
       "      <td>0.125000</td>\n",
       "    </tr>\n",
       "    <tr>\n",
       "      <th>3</th>\n",
       "      <td>Bengaluru</td>\n",
       "      <td>Karnataka</td>\n",
       "      <td>Help 2.5 years old Marc Phukan defeat blood ca...</td>\n",
       "      <td>1038</td>\n",
       "      <td>Pankaj Chuladhara</td>\n",
       "      <td>Marc Shakya Phukan</td>\n",
       "      <td>1</td>\n",
       "      <td>I am raising funds for my toddler son, Marc Sh...</td>\n",
       "      <td>https://cimages.milaap.org/milaap/image/upload...</td>\n",
       "      <td>1</td>\n",
       "      <td>4555371</td>\n",
       "      <td>5000000</td>\n",
       "      <td>0.534483</td>\n",
       "    </tr>\n",
       "    <tr>\n",
       "      <th>4</th>\n",
       "      <td>Bengaluru</td>\n",
       "      <td>Karnataka</td>\n",
       "      <td>Support Malashree Recover From Chronic Liver D...</td>\n",
       "      <td>88</td>\n",
       "      <td>Malashree</td>\n",
       "      <td>Malashree</td>\n",
       "      <td>0</td>\n",
       "      <td>My name is Malashree and I am 38 years old. I ...</td>\n",
       "      <td>https://cimages.milaap.org/milaap/image/upload...</td>\n",
       "      <td>1</td>\n",
       "      <td>1226705</td>\n",
       "      <td>1700000</td>\n",
       "      <td>0.534483</td>\n",
       "    </tr>\n",
       "    <tr>\n",
       "      <th>...</th>\n",
       "      <td>...</td>\n",
       "      <td>...</td>\n",
       "      <td>...</td>\n",
       "      <td>...</td>\n",
       "      <td>...</td>\n",
       "      <td>...</td>\n",
       "      <td>...</td>\n",
       "      <td>...</td>\n",
       "      <td>...</td>\n",
       "      <td>...</td>\n",
       "      <td>...</td>\n",
       "      <td>...</td>\n",
       "      <td>...</td>\n",
       "    </tr>\n",
       "    <tr>\n",
       "      <th>1030</th>\n",
       "      <td>Krishna District</td>\n",
       "      <td>Andhra Pradesh</td>\n",
       "      <td>Please Help My Father to get cured from Liver ...</td>\n",
       "      <td>1</td>\n",
       "      <td>Swathi Kona</td>\n",
       "      <td>Nageswara Rao</td>\n",
       "      <td>0</td>\n",
       "      <td>Myself Swathi Kona, my father is sufferings fr...</td>\n",
       "      <td>https://cimages.milaap.org/milaap/image/upload...</td>\n",
       "      <td>1</td>\n",
       "      <td>100</td>\n",
       "      <td>150000</td>\n",
       "      <td>0.461538</td>\n",
       "    </tr>\n",
       "    <tr>\n",
       "      <th>1033</th>\n",
       "      <td>Kolkata</td>\n",
       "      <td>West Bengal</td>\n",
       "      <td>19 years old Raimina Bibi needs your help figh...</td>\n",
       "      <td>1</td>\n",
       "      <td>Sk Islam Hussain</td>\n",
       "      <td>Raimina Bibi</td>\n",
       "      <td>1</td>\n",
       "      <td>My name is Mr.Hussain and I am here to raise f...</td>\n",
       "      <td>https://cimages.milaap.org/milaap/image/upload...</td>\n",
       "      <td>1</td>\n",
       "      <td>100</td>\n",
       "      <td>1200000</td>\n",
       "      <td>0.584416</td>\n",
       "    </tr>\n",
       "    <tr>\n",
       "      <th>1037</th>\n",
       "      <td>Koraput</td>\n",
       "      <td>Odisha</td>\n",
       "      <td>Support To Raise Funds For My Nephew's Bone Ma...</td>\n",
       "      <td>114</td>\n",
       "      <td>Subhendu Kumar Nayak</td>\n",
       "      <td>Avinash Mohanty</td>\n",
       "      <td>1</td>\n",
       "      <td>My name is Subhendu Kumar Nayak and I am here ...</td>\n",
       "      <td>https://cimages.milaap.org/milaap/image/upload...</td>\n",
       "      <td>1</td>\n",
       "      <td>130964</td>\n",
       "      <td>4000000</td>\n",
       "      <td>0.400000</td>\n",
       "    </tr>\n",
       "    <tr>\n",
       "      <th>1039</th>\n",
       "      <td>Pune</td>\n",
       "      <td>Maharashtra</td>\n",
       "      <td>Liver transplant</td>\n",
       "      <td>2</td>\n",
       "      <td>Rahul</td>\n",
       "      <td>Swapnali</td>\n",
       "      <td>0</td>\n",
       "      <td>*My self Is Suffering From Liver Dysfunction. ...</td>\n",
       "      <td>https://cimages.milaap.org/milaap/image/upload...</td>\n",
       "      <td>1</td>\n",
       "      <td>102</td>\n",
       "      <td>2200000</td>\n",
       "      <td>0.418301</td>\n",
       "    </tr>\n",
       "    <tr>\n",
       "      <th>1041</th>\n",
       "      <td>Burdwan</td>\n",
       "      <td>West Bengal</td>\n",
       "      <td>Support Gopal To Recover From Acute Myeloid Le...</td>\n",
       "      <td>1</td>\n",
       "      <td>Gopal</td>\n",
       "      <td>Gopal Basak</td>\n",
       "      <td>1</td>\n",
       "      <td>I am raising funds for myself, I am undergoing...</td>\n",
       "      <td>https://cimages.milaap.org/milaap/image/upload...</td>\n",
       "      <td>1</td>\n",
       "      <td>95</td>\n",
       "      <td>1800000</td>\n",
       "      <td>0.584416</td>\n",
       "    </tr>\n",
       "  </tbody>\n",
       "</table>\n",
       "<p>527 rows × 13 columns</p>\n",
       "</div>"
      ],
      "text/plain": [
       "                   City           State  \\\n",
       "0                 Ponda             Goa   \n",
       "1     Gobichettipalayam      Tamil Nadu   \n",
       "2              Bathinda          Punjab   \n",
       "3             Bengaluru       Karnataka   \n",
       "4             Bengaluru       Karnataka   \n",
       "...                 ...             ...   \n",
       "1030   Krishna District  Andhra Pradesh   \n",
       "1033            Kolkata     West Bengal   \n",
       "1037            Koraput          Odisha   \n",
       "1039               Pune     Maharashtra   \n",
       "1041            Burdwan     West Bengal   \n",
       "\n",
       "                                                  title  supporters  \\\n",
       "0     2 Year Old Kaavi Budkuley Needs Your Help Figh...        2206   \n",
       "1     Support Vinothsaravanan Ramakrishnan Fight Fro...        1094   \n",
       "2     Help my father fight BILATERAL ARDS RESPIRATOR...         701   \n",
       "3     Help 2.5 years old Marc Phukan defeat blood ca...        1038   \n",
       "4     Support Malashree Recover From Chronic Liver D...          88   \n",
       "...                                                 ...         ...   \n",
       "1030  Please Help My Father to get cured from Liver ...           1   \n",
       "1033  19 years old Raimina Bibi needs your help figh...           1   \n",
       "1037  Support To Raise Funds For My Nephew's Bone Ma...         114   \n",
       "1039                                   Liver transplant           2   \n",
       "1041  Support Gopal To Recover From Acute Myeloid Le...           1   \n",
       "\n",
       "                 posted_by                  benefited_to  tax benifits  \\\n",
       "0           Amogh Budkuley                Kaavi Budkuley             1   \n",
       "1           Saiprasanth VM  Vinothsaravanan Ramakrishnan             1   \n",
       "2            Hitesh mittal              Verjinder Mittal             1   \n",
       "3        Pankaj Chuladhara            Marc Shakya Phukan             1   \n",
       "4                Malashree                     Malashree             0   \n",
       "...                    ...                           ...           ...   \n",
       "1030           Swathi Kona                 Nageswara Rao             0   \n",
       "1033      Sk Islam Hussain                  Raimina Bibi             1   \n",
       "1037  Subhendu Kumar Nayak               Avinash Mohanty             1   \n",
       "1039                 Rahul                      Swapnali             0   \n",
       "1041                 Gopal                   Gopal Basak             1   \n",
       "\n",
       "                                  AboutBenefittedPerson  \\\n",
       "0     I am Amogh Budkuley and I am here to raise fun...   \n",
       "1     Help Vinothsaravanan Ramakrishnan To Fight/Rec...   \n",
       "2     https://milaap.org/fundraisers/support-verjind...   \n",
       "3     I am raising funds for my toddler son, Marc Sh...   \n",
       "4     My name is Malashree and I am 38 years old. I ...   \n",
       "...                                                 ...   \n",
       "1030  Myself Swathi Kona, my father is sufferings fr...   \n",
       "1033  My name is Mr.Hussain and I am here to raise f...   \n",
       "1037  My name is Subhendu Kumar Nayak and I am here ...   \n",
       "1039  *My self Is Suffering From Liver Dysfunction. ...   \n",
       "1041  I am raising funds for myself, I am undergoing...   \n",
       "\n",
       "                                                  image  genuine  \\\n",
       "0     https://cimages.milaap.org/milaap/image/upload...        1   \n",
       "1     https://cimages.milaap.org/milaap/image/upload...        1   \n",
       "2     https://cimages.milaap.org/milaap/image/upload...        1   \n",
       "3     https://cimages.milaap.org/milaap/image/upload...        1   \n",
       "4     https://cimages.milaap.org/milaap/image/upload...        1   \n",
       "...                                                 ...      ...   \n",
       "1030  https://cimages.milaap.org/milaap/image/upload...        1   \n",
       "1033  https://cimages.milaap.org/milaap/image/upload...        1   \n",
       "1037  https://cimages.milaap.org/milaap/image/upload...        1   \n",
       "1039  https://cimages.milaap.org/milaap/image/upload...        1   \n",
       "1041  https://cimages.milaap.org/milaap/image/upload...        1   \n",
       "\n",
       "      raised_amount  needed_amount    State1  \n",
       "0           2244963        1600000  1.000000  \n",
       "1           1603687        5000000  0.568862  \n",
       "2           1477840        4000000  0.125000  \n",
       "3           4555371        5000000  0.534483  \n",
       "4           1226705        1700000  0.534483  \n",
       "...             ...            ...       ...  \n",
       "1030            100         150000  0.461538  \n",
       "1033            100        1200000  0.584416  \n",
       "1037         130964        4000000  0.400000  \n",
       "1039            102        2200000  0.418301  \n",
       "1041             95        1800000  0.584416  \n",
       "\n",
       "[527 rows x 13 columns]"
      ]
     },
     "execution_count": 33,
     "metadata": {},
     "output_type": "execute_result"
    }
   ],
   "source": [
    "data_y = data.loc[data['genuine']==1]\n",
    "data_y['State1'] = data_y['State'].replace(x1,y1)\n",
    "data_y"
   ]
  },
  {
   "cell_type": "code",
   "execution_count": 34,
   "id": "df379a57",
   "metadata": {},
   "outputs": [
    {
     "data": {
      "text/html": [
       "<div>\n",
       "<style scoped>\n",
       "    .dataframe tbody tr th:only-of-type {\n",
       "        vertical-align: middle;\n",
       "    }\n",
       "\n",
       "    .dataframe tbody tr th {\n",
       "        vertical-align: top;\n",
       "    }\n",
       "\n",
       "    .dataframe thead th {\n",
       "        text-align: right;\n",
       "    }\n",
       "</style>\n",
       "<table border=\"1\" class=\"dataframe\">\n",
       "  <thead>\n",
       "    <tr style=\"text-align: right;\">\n",
       "      <th></th>\n",
       "      <th>City</th>\n",
       "      <th>State</th>\n",
       "      <th>title</th>\n",
       "      <th>supporters</th>\n",
       "      <th>posted_by</th>\n",
       "      <th>benefited_to</th>\n",
       "      <th>tax benifits</th>\n",
       "      <th>AboutBenefittedPerson</th>\n",
       "      <th>image</th>\n",
       "      <th>genuine</th>\n",
       "      <th>raised_amount</th>\n",
       "      <th>needed_amount</th>\n",
       "      <th>State1</th>\n",
       "    </tr>\n",
       "  </thead>\n",
       "  <tbody>\n",
       "    <tr>\n",
       "      <th>13</th>\n",
       "      <td>Lucknow</td>\n",
       "      <td>Uttar Pradesh</td>\n",
       "      <td>Help My Brother Abdullah Faisal To Undergo Hea...</td>\n",
       "      <td>30</td>\n",
       "      <td>Shahana Aquil</td>\n",
       "      <td>Abdullah Faisal Khan</td>\n",
       "      <td>0</td>\n",
       "      <td>My name is Shahana, and I am here to fundraise...</td>\n",
       "      <td>https://cimages.milaap.org/milaap/image/upload...</td>\n",
       "      <td>0</td>\n",
       "      <td>3709</td>\n",
       "      <td>3500000</td>\n",
       "      <td>0.511364</td>\n",
       "    </tr>\n",
       "    <tr>\n",
       "      <th>37</th>\n",
       "      <td>Chidambaram</td>\n",
       "      <td>Tamil Nadu</td>\n",
       "      <td>A grocer suffering from cancer needs funds for...</td>\n",
       "      <td>68</td>\n",
       "      <td>Bhaskar Acharya</td>\n",
       "      <td>Selvaraj Krishnaswamy</td>\n",
       "      <td>1</td>\n",
       "      <td>My name is Bhaskar. I am raising funds for my ...</td>\n",
       "      <td>https://cimages.milaap.org/milaap/image/upload...</td>\n",
       "      <td>0</td>\n",
       "      <td>191546</td>\n",
       "      <td>1300000</td>\n",
       "      <td>0.431138</td>\n",
       "    </tr>\n",
       "    <tr>\n",
       "      <th>51</th>\n",
       "      <td>Baleswar</td>\n",
       "      <td>Odisha</td>\n",
       "      <td>Help Pratyush fight with E.coli infection</td>\n",
       "      <td>111</td>\n",
       "      <td>ashish kumar subudhi</td>\n",
       "      <td>Sarmistha panigrahi</td>\n",
       "      <td>1</td>\n",
       "      <td>I am raising funds for my friend's toddler son...</td>\n",
       "      <td>https://cimages.milaap.org/milaap/image/upload...</td>\n",
       "      <td>0</td>\n",
       "      <td>124511</td>\n",
       "      <td>800000</td>\n",
       "      <td>0.600000</td>\n",
       "    </tr>\n",
       "    <tr>\n",
       "      <th>65</th>\n",
       "      <td>New Delhi</td>\n",
       "      <td>Delhi</td>\n",
       "      <td>Support 13 year old Ansh chopra fight from AML...</td>\n",
       "      <td>17</td>\n",
       "      <td>Munish  Chopra</td>\n",
       "      <td>Ansh chopra</td>\n",
       "      <td>1</td>\n",
       "      <td>My son  Ansh Chopra,13 year old  is a highly b...</td>\n",
       "      <td>https://cimages.milaap.org/milaap/image/upload...</td>\n",
       "      <td>0</td>\n",
       "      <td>88500</td>\n",
       "      <td>4000000</td>\n",
       "      <td>0.420000</td>\n",
       "    </tr>\n",
       "    <tr>\n",
       "      <th>67</th>\n",
       "      <td>Howrah</td>\n",
       "      <td>West Bengal</td>\n",
       "      <td>My son is struggling with Acute lymphoblastic ...</td>\n",
       "      <td>28</td>\n",
       "      <td>Jharna paul</td>\n",
       "      <td>Aishik Paul</td>\n",
       "      <td>1</td>\n",
       "      <td>Hi Everyone,It is very unfortunate to state th...</td>\n",
       "      <td>https://cimages.milaap.org/milaap/image/upload...</td>\n",
       "      <td>0</td>\n",
       "      <td>176788</td>\n",
       "      <td>1000000</td>\n",
       "      <td>0.415584</td>\n",
       "    </tr>\n",
       "    <tr>\n",
       "      <th>...</th>\n",
       "      <td>...</td>\n",
       "      <td>...</td>\n",
       "      <td>...</td>\n",
       "      <td>...</td>\n",
       "      <td>...</td>\n",
       "      <td>...</td>\n",
       "      <td>...</td>\n",
       "      <td>...</td>\n",
       "      <td>...</td>\n",
       "      <td>...</td>\n",
       "      <td>...</td>\n",
       "      <td>...</td>\n",
       "      <td>...</td>\n",
       "    </tr>\n",
       "    <tr>\n",
       "      <th>1048</th>\n",
       "      <td>Namakkal</td>\n",
       "      <td>Tamil Nadu</td>\n",
       "      <td>Help My Sister, Pappathi Recover From Blood &amp; ...</td>\n",
       "      <td>1</td>\n",
       "      <td>Manikandan</td>\n",
       "      <td>Pappathi</td>\n",
       "      <td>0</td>\n",
       "      <td>Hi, My name is  Manikandan and I am raising fu...</td>\n",
       "      <td>https://cimages.milaap.org/milaap/image/upload...</td>\n",
       "      <td>0</td>\n",
       "      <td>1</td>\n",
       "      <td>2500000</td>\n",
       "      <td>0.431138</td>\n",
       "    </tr>\n",
       "    <tr>\n",
       "      <th>1049</th>\n",
       "      <td>Nagpur</td>\n",
       "      <td>Maharashtra</td>\n",
       "      <td>6 years old Avani Kirtikar Needs Undergo Liver...</td>\n",
       "      <td>1</td>\n",
       "      <td>Bhavana Thete</td>\n",
       "      <td>Avani Kirtikar</td>\n",
       "      <td>1</td>\n",
       "      <td>I am here to raise funds for Daughter Anavi Ki...</td>\n",
       "      <td>https://cimages.milaap.org/milaap/image/upload...</td>\n",
       "      <td>0</td>\n",
       "      <td>1</td>\n",
       "      <td>2500000</td>\n",
       "      <td>0.581699</td>\n",
       "    </tr>\n",
       "    <tr>\n",
       "      <th>1050</th>\n",
       "      <td>Rajahmundry</td>\n",
       "      <td>Andhra Pradesh</td>\n",
       "      <td>Support Hemanth Mani Kumar Undergo From Bone M...</td>\n",
       "      <td>1</td>\n",
       "      <td>Mohammed Farouk</td>\n",
       "      <td>Kamisetti hemant mani kumar</td>\n",
       "      <td>1</td>\n",
       "      <td>My name is Ramesh and I am here to raise funds...</td>\n",
       "      <td>https://cimages.milaap.org/milaap/image/upload...</td>\n",
       "      <td>0</td>\n",
       "      <td>1</td>\n",
       "      <td>2000000</td>\n",
       "      <td>0.538462</td>\n",
       "    </tr>\n",
       "    <tr>\n",
       "      <th>1051</th>\n",
       "      <td>Bengaluru</td>\n",
       "      <td>Karnataka</td>\n",
       "      <td>Help KHYATI fighting with Spinal Muscular Atro...</td>\n",
       "      <td>70</td>\n",
       "      <td>ANSHU BANSAL</td>\n",
       "      <td>Baby Khyati</td>\n",
       "      <td>1</td>\n",
       "      <td>This is an additional fundraiser page for Baby...</td>\n",
       "      <td>https://cimages.milaap.org/milaap/image/upload...</td>\n",
       "      <td>0</td>\n",
       "      <td>76186</td>\n",
       "      <td>1000000</td>\n",
       "      <td>0.465517</td>\n",
       "    </tr>\n",
       "    <tr>\n",
       "      <th>1052</th>\n",
       "      <td>Bengaluru</td>\n",
       "      <td>Karnataka</td>\n",
       "      <td>Help Khyati, 8 months old fighting with Spinal...</td>\n",
       "      <td>49</td>\n",
       "      <td>NVSL RAMAN</td>\n",
       "      <td>Baby Khyati</td>\n",
       "      <td>1</td>\n",
       "      <td>This is an additional fundraiser page for Baby...</td>\n",
       "      <td>https://cimages.milaap.org/milaap/image/upload...</td>\n",
       "      <td>0</td>\n",
       "      <td>87033</td>\n",
       "      <td>10000000</td>\n",
       "      <td>0.465517</td>\n",
       "    </tr>\n",
       "  </tbody>\n",
       "</table>\n",
       "<p>526 rows × 13 columns</p>\n",
       "</div>"
      ],
      "text/plain": [
       "             City           State  \\\n",
       "13        Lucknow   Uttar Pradesh   \n",
       "37    Chidambaram      Tamil Nadu   \n",
       "51       Baleswar          Odisha   \n",
       "65      New Delhi           Delhi   \n",
       "67         Howrah     West Bengal   \n",
       "...           ...             ...   \n",
       "1048     Namakkal      Tamil Nadu   \n",
       "1049       Nagpur     Maharashtra   \n",
       "1050  Rajahmundry  Andhra Pradesh   \n",
       "1051    Bengaluru       Karnataka   \n",
       "1052    Bengaluru       Karnataka   \n",
       "\n",
       "                                                  title  supporters  \\\n",
       "13    Help My Brother Abdullah Faisal To Undergo Hea...          30   \n",
       "37    A grocer suffering from cancer needs funds for...          68   \n",
       "51            Help Pratyush fight with E.coli infection         111   \n",
       "65    Support 13 year old Ansh chopra fight from AML...          17   \n",
       "67    My son is struggling with Acute lymphoblastic ...          28   \n",
       "...                                                 ...         ...   \n",
       "1048  Help My Sister, Pappathi Recover From Blood & ...           1   \n",
       "1049  6 years old Avani Kirtikar Needs Undergo Liver...           1   \n",
       "1050  Support Hemanth Mani Kumar Undergo From Bone M...           1   \n",
       "1051  Help KHYATI fighting with Spinal Muscular Atro...          70   \n",
       "1052  Help Khyati, 8 months old fighting with Spinal...          49   \n",
       "\n",
       "                 posted_by                 benefited_to  tax benifits  \\\n",
       "13           Shahana Aquil         Abdullah Faisal Khan             0   \n",
       "37         Bhaskar Acharya        Selvaraj Krishnaswamy             1   \n",
       "51    ashish kumar subudhi          Sarmistha panigrahi             1   \n",
       "65          Munish  Chopra                  Ansh chopra             1   \n",
       "67             Jharna paul                  Aishik Paul             1   \n",
       "...                    ...                          ...           ...   \n",
       "1048            Manikandan                     Pappathi             0   \n",
       "1049         Bhavana Thete               Avani Kirtikar             1   \n",
       "1050       Mohammed Farouk  Kamisetti hemant mani kumar             1   \n",
       "1051          ANSHU BANSAL                  Baby Khyati             1   \n",
       "1052            NVSL RAMAN                  Baby Khyati             1   \n",
       "\n",
       "                                  AboutBenefittedPerson  \\\n",
       "13    My name is Shahana, and I am here to fundraise...   \n",
       "37    My name is Bhaskar. I am raising funds for my ...   \n",
       "51    I am raising funds for my friend's toddler son...   \n",
       "65    My son  Ansh Chopra,13 year old  is a highly b...   \n",
       "67    Hi Everyone,It is very unfortunate to state th...   \n",
       "...                                                 ...   \n",
       "1048  Hi, My name is  Manikandan and I am raising fu...   \n",
       "1049  I am here to raise funds for Daughter Anavi Ki...   \n",
       "1050  My name is Ramesh and I am here to raise funds...   \n",
       "1051  This is an additional fundraiser page for Baby...   \n",
       "1052  This is an additional fundraiser page for Baby...   \n",
       "\n",
       "                                                  image  genuine  \\\n",
       "13    https://cimages.milaap.org/milaap/image/upload...        0   \n",
       "37    https://cimages.milaap.org/milaap/image/upload...        0   \n",
       "51    https://cimages.milaap.org/milaap/image/upload...        0   \n",
       "65    https://cimages.milaap.org/milaap/image/upload...        0   \n",
       "67    https://cimages.milaap.org/milaap/image/upload...        0   \n",
       "...                                                 ...      ...   \n",
       "1048  https://cimages.milaap.org/milaap/image/upload...        0   \n",
       "1049  https://cimages.milaap.org/milaap/image/upload...        0   \n",
       "1050  https://cimages.milaap.org/milaap/image/upload...        0   \n",
       "1051  https://cimages.milaap.org/milaap/image/upload...        0   \n",
       "1052  https://cimages.milaap.org/milaap/image/upload...        0   \n",
       "\n",
       "      raised_amount  needed_amount    State1  \n",
       "13             3709        3500000  0.511364  \n",
       "37           191546        1300000  0.431138  \n",
       "51           124511         800000  0.600000  \n",
       "65            88500        4000000  0.420000  \n",
       "67           176788        1000000  0.415584  \n",
       "...             ...            ...       ...  \n",
       "1048              1        2500000  0.431138  \n",
       "1049              1        2500000  0.581699  \n",
       "1050              1        2000000  0.538462  \n",
       "1051          76186        1000000  0.465517  \n",
       "1052          87033       10000000  0.465517  \n",
       "\n",
       "[526 rows x 13 columns]"
      ]
     },
     "execution_count": 34,
     "metadata": {},
     "output_type": "execute_result"
    }
   ],
   "source": [
    "data_n = data.loc[data['genuine']==0]\n",
    "data_n['State1'] = data_n['State'].replace(x2,y2)\n",
    "data_n"
   ]
  },
  {
   "cell_type": "code",
   "execution_count": 35,
   "id": "e38e71cc",
   "metadata": {},
   "outputs": [],
   "source": [
    "data = pd.concat([data_n,data_y])"
   ]
  },
  {
   "cell_type": "code",
   "execution_count": 36,
   "id": "03df4d5c",
   "metadata": {},
   "outputs": [],
   "source": [
    "def state(string):\n",
    "    try:\n",
    "        return abs(float(by_state_no.loc[by_state_no['State']==string]['prob_by_state'])-float(by_state_yes.loc[by_state_yes['State']==string]['prob_by_state']))\n",
    "    except:\n",
    "        return 0\n",
    "    \n",
    "data['statediff'] = data.State.map(state)"
   ]
  },
  {
   "cell_type": "markdown",
   "id": "9916b996",
   "metadata": {},
   "source": [
    "#### Tokenization — convert sentences to words\n",
    "#### Removing unnecessary punctuation, tags Removing stop words — frequent words such as ”the”, ”is”, etc. that do not have specific semantic\n",
    "#### Stemming — words are reduced to a root by removing inflection through dropping unnecessary characters, usually a suffix.\n",
    "#### Lemmatization — Another approach to remove inflection by determining the part of speech and utilizing detailed database of the language."
   ]
  },
  {
   "cell_type": "code",
   "execution_count": 37,
   "id": "caaa2a9d",
   "metadata": {},
   "outputs": [],
   "source": [
    "import nltk\n",
    "from nltk.tokenize import word_tokenize\n",
    "titles = dataset.title.str.cat(sep=' ')"
   ]
  },
  {
   "cell_type": "code",
   "execution_count": 38,
   "id": "653d86ec",
   "metadata": {},
   "outputs": [
    {
     "name": "stdout",
     "output_type": "stream",
     "text": [
      "1997\n"
     ]
    }
   ],
   "source": [
    "tokens = word_tokenize(titles)\n",
    "vocabulary = set(tokens)\n",
    "print(len(vocabulary))"
   ]
  },
  {
   "cell_type": "code",
   "execution_count": 39,
   "id": "ab39d4cd",
   "metadata": {},
   "outputs": [],
   "source": [
    "frequency_dist = nltk.FreqDist(tokens)\n",
    "repeated_words = sorted(frequency_dist,key=frequency_dist.__getitem__, reverse=True)[0:75]"
   ]
  },
  {
   "cell_type": "code",
   "execution_count": 40,
   "id": "d4f5ab11",
   "metadata": {},
   "outputs": [],
   "source": [
    "repeated_words = [i.upper() for i in repeated_words]"
   ]
  },
  {
   "cell_type": "code",
   "execution_count": 41,
   "id": "aa16f5ac",
   "metadata": {},
   "outputs": [],
   "source": [
    "repeated_words_new = []\n",
    "\n",
    "for i in range(len(repeated_words)):\n",
    "    words = re.sub(\"[)!&,.''(]\",'',repeated_words[i])\n",
    "    repeated_words_new.append(words)\n",
    "repeated_words = list(set(repeated_words_new))    "
   ]
  },
  {
   "cell_type": "code",
   "execution_count": 42,
   "id": "a0790c97",
   "metadata": {},
   "outputs": [],
   "source": [
    "repeated_words.sort()\n",
    "repeated_words = repeated_words[1:]"
   ]
  },
  {
   "cell_type": "code",
   "execution_count": 43,
   "id": "1ca5031f",
   "metadata": {
    "scrolled": true
   },
   "outputs": [
    {
     "data": {
      "image/png": "[encoded data removed]",
      "text/plain": [
       "<Figure size 720x432 with 1 Axes>"
      ]
     },
     "metadata": {
      "needs_background": "light"
     },
     "output_type": "display_data"
    }
   ],
   "source": [
    "from wordcloud import WordCloud\n",
    "import matplotlib.pyplot as plt\n",
    "wordcloud = WordCloud()\n",
    "wordcloud.generate_from_frequencies(frequency_dist)\n",
    "plt.figure(figsize=(10,6))\n",
    "plt.imshow(wordcloud)\n",
    "plt.axis(\"off\")\n",
    "plt.show()"
   ]
  },
  {
   "cell_type": "markdown",
   "id": "0322d433",
   "metadata": {},
   "source": [
    "## Jaccard similairty"
   ]
  },
  {
   "cell_type": "code",
   "execution_count": 44,
   "id": "0241fb46",
   "metadata": {},
   "outputs": [],
   "source": [
    "def regex_string(column_name):\n",
    "    new_column = []\n",
    "    string = ''\n",
    "    for i in range(len(data[column_name])):\n",
    "        string = re.sub(\"[!&',.0-9]\",'',data[column_name][i].upper())\n",
    "        string = re.sub(data['benefited_to'][0].upper(),\"\",string)\n",
    "        string = re.sub(data['posted_by'][0].upper(),\"\",string)\n",
    "        new_column.append(string)\n",
    "    return new_column    "
   ]
  },
  {
   "cell_type": "code",
   "execution_count": 45,
   "id": "a68cf8b0",
   "metadata": {},
   "outputs": [],
   "source": [
    "def jaccard(list1, list2):\n",
    "    intersection = len(list(set(list1).intersection(list2)))\n",
    "    union = (len(list1) + len(list2)) - intersection\n",
    "    return np.round((intersection/union),4)"
   ]
  },
  {
   "cell_type": "code",
   "execution_count": 46,
   "id": "16203fb6",
   "metadata": {},
   "outputs": [],
   "source": [
    "data['new_title'] = regex_string('title')"
   ]
  },
  {
   "cell_type": "code",
   "execution_count": 47,
   "id": "77ebfe15",
   "metadata": {},
   "outputs": [],
   "source": [
    "jaccard_sim = []\n",
    "for i in range(len(data['title'])):\n",
    "    jaccard_sim.append(jaccard(repeated_words,data['new_title'][i].split(\" \")))"
   ]
  },
  {
   "cell_type": "code",
   "execution_count": 48,
   "id": "558ad614",
   "metadata": {},
   "outputs": [],
   "source": [
    "data['jaccard_title'] = jaccard_sim"
   ]
  },
  {
   "cell_type": "markdown",
   "id": "3cbcde28",
   "metadata": {},
   "source": [
    "### drop high cardinality cols"
   ]
  },
  {
   "cell_type": "code",
   "execution_count": 49,
   "id": "7de445af",
   "metadata": {},
   "outputs": [],
   "source": [
    "data1 = data.copy()"
   ]
  },
  {
   "cell_type": "code",
   "execution_count": 50,
   "id": "5650affc",
   "metadata": {},
   "outputs": [],
   "source": [
    "data1 = data.drop(high_cardinality_cols,axis=1)"
   ]
  },
  {
   "cell_type": "code",
   "execution_count": 51,
   "id": "8815ef79",
   "metadata": {},
   "outputs": [],
   "source": [
    "data1.drop('new_title',axis=1,inplace=True)"
   ]
  },
  {
   "cell_type": "markdown",
   "id": "87bc3e94",
   "metadata": {},
   "source": [
    "## Handling numerical columns "
   ]
  },
  {
   "cell_type": "markdown",
   "id": "08bacdc6",
   "metadata": {},
   "source": [
    "### For raised_amount,needed_amount column"
   ]
  },
  {
   "cell_type": "code",
   "execution_count": 52,
   "id": "22974b6f",
   "metadata": {},
   "outputs": [],
   "source": [
    "data1['perc_collected'] =  data1['raised_amount']/data1['needed_amount'] "
   ]
  },
  {
   "cell_type": "code",
   "execution_count": 53,
   "id": "9f4059d6",
   "metadata": {},
   "outputs": [],
   "source": [
    "def remove_outliers(dataset,column_name):\n",
    "    Q1 = np.quantile(dataset[column_name],0.25)\n",
    "    Q3 = np.quantile(dataset[column_name],0.75)\n",
    "    IQR = Q3-Q1\n",
    "    lower = Q1-1.5*IQR\n",
    "    higher= Q3+1.5*IQR\n",
    "    not_outliers = list(dataset[column_name].loc[(dataset[column_name]>lower) & (dataset[column_name]<higher)].index)\n",
    "    dataset_new = dataset.iloc[not_outliers,:]\n",
    "    return dataset_new"
   ]
  },
  {
   "cell_type": "code",
   "execution_count": 54,
   "id": "9163e994",
   "metadata": {},
   "outputs": [],
   "source": [
    "def make_quantiles(dataset,column_name):\n",
    "    quantiles = list(np.quantile(dataset[column_name],[0,0.25,0.5,0.75,1]))\n",
    "    return quantiles"
   ]
  },
  {
   "cell_type": "code",
   "execution_count": 55,
   "id": "b020ab85",
   "metadata": {},
   "outputs": [],
   "source": [
    "def make_slab(data):\n",
    "    if data>=quantiles[0] and data<quantiles[1]:\n",
    "        return 1\n",
    "    elif data>=quantiles[1] and data<quantiles[2]:\n",
    "        return 2\n",
    "    elif data>=quantiles[2] and data<quantiles[3]:\n",
    "        return 3\n",
    "    elif data>=quantiles[3] and data<quantiles[4]:\n",
    "        return 4\n",
    "    else:\n",
    "        return 5"
   ]
  },
  {
   "cell_type": "markdown",
   "id": "ce35d100",
   "metadata": {},
   "source": [
    "### supporters_slab"
   ]
  },
  {
   "cell_type": "code",
   "execution_count": 56,
   "id": "7b9ae694",
   "metadata": {},
   "outputs": [],
   "source": [
    "data_new = remove_outliers(data1,'supporters')\n",
    "quantiles = make_quantiles(data_new,'supporters')\n",
    "supporters_slab = data1.supporters.map(make_slab)\n",
    "data1['supporters_slab'] = supporters_slab"
   ]
  },
  {
   "cell_type": "code",
   "execution_count": 57,
   "id": "b87cd8fc",
   "metadata": {},
   "outputs": [
    {
     "data": {
      "text/plain": [
       "[1.0, 4.0, 23.0, 87.75, 13724.0]"
      ]
     },
     "execution_count": 57,
     "metadata": {},
     "output_type": "execute_result"
    }
   ],
   "source": [
    "quantiles"
   ]
  },
  {
   "cell_type": "markdown",
   "id": "f489492e",
   "metadata": {},
   "source": [
    "### raised_slab"
   ]
  },
  {
   "cell_type": "code",
   "execution_count": 59,
   "id": "06e51765",
   "metadata": {},
   "outputs": [],
   "source": [
    "data_new = remove_outliers(data1,'raised_amount')\n",
    "quantiles = make_quantiles(data_new,'raised_amount')\n",
    "raised_slab =data1.raised_amount.map(make_slab)\n",
    "data1['raised_slab'] = raised_slab"
   ]
  },
  {
   "cell_type": "code",
   "execution_count": 60,
   "id": "c042d5f5",
   "metadata": {},
   "outputs": [
    {
     "data": {
      "text/plain": [
       "[1.0, 2220.0, 20221.5, 121575.0, 23018313.0]"
      ]
     },
     "execution_count": 60,
     "metadata": {},
     "output_type": "execute_result"
    }
   ],
   "source": [
    "quantiles"
   ]
  },
  {
   "cell_type": "markdown",
   "id": "a2eb9295",
   "metadata": {},
   "source": [
    "### needed_slab"
   ]
  },
  {
   "cell_type": "code",
   "execution_count": 61,
   "id": "eac9dce7",
   "metadata": {},
   "outputs": [],
   "source": [
    "data_new = remove_outliers(data1,'needed_amount')\n",
    "quantiles = make_quantiles(data_new,'needed_amount')\n",
    "needed_slab = data1.needed_amount.map(make_slab)\n",
    "data1['needed_slab'] = needed_slab"
   ]
  },
  {
   "cell_type": "code",
   "execution_count": 62,
   "id": "8e81c13e",
   "metadata": {},
   "outputs": [
    {
     "data": {
      "text/plain": [
       "[5000.0, 380000.0, 800000.0, 1500000.0, 160000000.0]"
      ]
     },
     "execution_count": 62,
     "metadata": {},
     "output_type": "execute_result"
    }
   ],
   "source": [
    "quantiles"
   ]
  },
  {
   "cell_type": "markdown",
   "id": "6013dd4d",
   "metadata": {},
   "source": [
    "### Split the data "
   ]
  },
  {
   "cell_type": "code",
   "execution_count": 63,
   "id": "591a4ff7",
   "metadata": {},
   "outputs": [],
   "source": [
    "data1['tax benifits'] = data1['tax benifits'].astype('int64')\n",
    "data1['genuine'] = data1['genuine'].astype('int64')"
   ]
  },
  {
   "cell_type": "code",
   "execution_count": 64,
   "id": "cb51b242",
   "metadata": {},
   "outputs": [],
   "source": [
    "X = data1.drop(['genuine'],axis=1)\n",
    "y = data1['genuine']\n"
   ]
  },
  {
   "cell_type": "code",
   "execution_count": 65,
   "id": "5d771817",
   "metadata": {
    "scrolled": true
   },
   "outputs": [
    {
     "name": "stdout",
     "output_type": "stream",
     "text": [
      "(1053, 11) (1053,)\n"
     ]
    }
   ],
   "source": [
    "print(X.shape,y.shape)"
   ]
  },
  {
   "cell_type": "code",
   "execution_count": 66,
   "id": "e5e44672",
   "metadata": {},
   "outputs": [],
   "source": [
    "\n",
    "X_train, X_test, y_train, y_test = train_test_split(X, y, test_size=0.33, random_state=42,stratify=y)"
   ]
  },
  {
   "cell_type": "code",
   "execution_count": 67,
   "id": "9b782158",
   "metadata": {
    "scrolled": true
   },
   "outputs": [
    {
     "data": {
      "text/html": [
       "<div>\n",
       "<style scoped>\n",
       "    .dataframe tbody tr th:only-of-type {\n",
       "        vertical-align: middle;\n",
       "    }\n",
       "\n",
       "    .dataframe tbody tr th {\n",
       "        vertical-align: top;\n",
       "    }\n",
       "\n",
       "    .dataframe thead th {\n",
       "        text-align: right;\n",
       "    }\n",
       "</style>\n",
       "<table border=\"1\" class=\"dataframe\">\n",
       "  <thead>\n",
       "    <tr style=\"text-align: right;\">\n",
       "      <th></th>\n",
       "      <th>supporters</th>\n",
       "      <th>tax benifits</th>\n",
       "      <th>raised_amount</th>\n",
       "      <th>needed_amount</th>\n",
       "      <th>State1</th>\n",
       "      <th>statediff</th>\n",
       "      <th>jaccard_title</th>\n",
       "      <th>perc_collected</th>\n",
       "      <th>supporters_slab</th>\n",
       "      <th>raised_slab</th>\n",
       "      <th>needed_slab</th>\n",
       "    </tr>\n",
       "  </thead>\n",
       "  <tbody>\n",
       "    <tr>\n",
       "      <th>809</th>\n",
       "      <td>2</td>\n",
       "      <td>1</td>\n",
       "      <td>700</td>\n",
       "      <td>1000000</td>\n",
       "      <td>0.581699</td>\n",
       "      <td>0.163399</td>\n",
       "      <td>0.0179</td>\n",
       "      <td>0.000700</td>\n",
       "      <td>1</td>\n",
       "      <td>1</td>\n",
       "      <td>3</td>\n",
       "    </tr>\n",
       "    <tr>\n",
       "      <th>158</th>\n",
       "      <td>656</td>\n",
       "      <td>0</td>\n",
       "      <td>352767</td>\n",
       "      <td>700000</td>\n",
       "      <td>0.434783</td>\n",
       "      <td>0.130435</td>\n",
       "      <td>0.0333</td>\n",
       "      <td>0.503953</td>\n",
       "      <td>4</td>\n",
       "      <td>4</td>\n",
       "      <td>2</td>\n",
       "    </tr>\n",
       "    <tr>\n",
       "      <th>457</th>\n",
       "      <td>54</td>\n",
       "      <td>1</td>\n",
       "      <td>37239</td>\n",
       "      <td>4000000</td>\n",
       "      <td>0.458716</td>\n",
       "      <td>0.082569</td>\n",
       "      <td>0.0690</td>\n",
       "      <td>0.009310</td>\n",
       "      <td>3</td>\n",
       "      <td>3</td>\n",
       "      <td>4</td>\n",
       "    </tr>\n",
       "    <tr>\n",
       "      <th>49</th>\n",
       "      <td>37</td>\n",
       "      <td>1</td>\n",
       "      <td>128639</td>\n",
       "      <td>600000</td>\n",
       "      <td>0.418301</td>\n",
       "      <td>0.163399</td>\n",
       "      <td>0.0351</td>\n",
       "      <td>0.214398</td>\n",
       "      <td>3</td>\n",
       "      <td>4</td>\n",
       "      <td>2</td>\n",
       "    </tr>\n",
       "    <tr>\n",
       "      <th>960</th>\n",
       "      <td>8</td>\n",
       "      <td>1</td>\n",
       "      <td>9700</td>\n",
       "      <td>450000</td>\n",
       "      <td>0.568862</td>\n",
       "      <td>0.137725</td>\n",
       "      <td>0.1034</td>\n",
       "      <td>0.021556</td>\n",
       "      <td>2</td>\n",
       "      <td>2</td>\n",
       "      <td>2</td>\n",
       "    </tr>\n",
       "    <tr>\n",
       "      <th>...</th>\n",
       "      <td>...</td>\n",
       "      <td>...</td>\n",
       "      <td>...</td>\n",
       "      <td>...</td>\n",
       "      <td>...</td>\n",
       "      <td>...</td>\n",
       "      <td>...</td>\n",
       "      <td>...</td>\n",
       "      <td>...</td>\n",
       "      <td>...</td>\n",
       "      <td>...</td>\n",
       "    </tr>\n",
       "    <tr>\n",
       "      <th>304</th>\n",
       "      <td>50</td>\n",
       "      <td>1</td>\n",
       "      <td>20361</td>\n",
       "      <td>500000</td>\n",
       "      <td>0.420000</td>\n",
       "      <td>0.160000</td>\n",
       "      <td>0.0678</td>\n",
       "      <td>0.040722</td>\n",
       "      <td>3</td>\n",
       "      <td>3</td>\n",
       "      <td>2</td>\n",
       "    </tr>\n",
       "    <tr>\n",
       "      <th>637</th>\n",
       "      <td>30</td>\n",
       "      <td>1</td>\n",
       "      <td>183666</td>\n",
       "      <td>2000000</td>\n",
       "      <td>0.465517</td>\n",
       "      <td>0.068966</td>\n",
       "      <td>0.0000</td>\n",
       "      <td>0.091833</td>\n",
       "      <td>3</td>\n",
       "      <td>4</td>\n",
       "      <td>4</td>\n",
       "    </tr>\n",
       "    <tr>\n",
       "      <th>901</th>\n",
       "      <td>56</td>\n",
       "      <td>0</td>\n",
       "      <td>13779</td>\n",
       "      <td>300000</td>\n",
       "      <td>0.431138</td>\n",
       "      <td>0.137725</td>\n",
       "      <td>0.0690</td>\n",
       "      <td>0.045930</td>\n",
       "      <td>3</td>\n",
       "      <td>2</td>\n",
       "      <td>1</td>\n",
       "    </tr>\n",
       "    <tr>\n",
       "      <th>893</th>\n",
       "      <td>69</td>\n",
       "      <td>1</td>\n",
       "      <td>67968</td>\n",
       "      <td>3000000</td>\n",
       "      <td>0.511364</td>\n",
       "      <td>0.022727</td>\n",
       "      <td>0.0656</td>\n",
       "      <td>0.022656</td>\n",
       "      <td>3</td>\n",
       "      <td>3</td>\n",
       "      <td>4</td>\n",
       "    </tr>\n",
       "    <tr>\n",
       "      <th>349</th>\n",
       "      <td>4</td>\n",
       "      <td>1</td>\n",
       "      <td>6050</td>\n",
       "      <td>2500000</td>\n",
       "      <td>0.538462</td>\n",
       "      <td>0.076923</td>\n",
       "      <td>0.0862</td>\n",
       "      <td>0.002420</td>\n",
       "      <td>2</td>\n",
       "      <td>2</td>\n",
       "      <td>4</td>\n",
       "    </tr>\n",
       "  </tbody>\n",
       "</table>\n",
       "<p>705 rows × 11 columns</p>\n",
       "</div>"
      ],
      "text/plain": [
       "     supporters  tax benifits  raised_amount  needed_amount    State1  \\\n",
       "809           2             1            700        1000000  0.581699   \n",
       "158         656             0         352767         700000  0.434783   \n",
       "457          54             1          37239        4000000  0.458716   \n",
       "49           37             1         128639         600000  0.418301   \n",
       "960           8             1           9700         450000  0.568862   \n",
       "..          ...           ...            ...            ...       ...   \n",
       "304          50             1          20361         500000  0.420000   \n",
       "637          30             1         183666        2000000  0.465517   \n",
       "901          56             0          13779         300000  0.431138   \n",
       "893          69             1          67968        3000000  0.511364   \n",
       "349           4             1           6050        2500000  0.538462   \n",
       "\n",
       "     statediff  jaccard_title  perc_collected  supporters_slab  raised_slab  \\\n",
       "809   0.163399         0.0179        0.000700                1            1   \n",
       "158   0.130435         0.0333        0.503953                4            4   \n",
       "457   0.082569         0.0690        0.009310                3            3   \n",
       "49    0.163399         0.0351        0.214398                3            4   \n",
       "960   0.137725         0.1034        0.021556                2            2   \n",
       "..         ...            ...             ...              ...          ...   \n",
       "304   0.160000         0.0678        0.040722                3            3   \n",
       "637   0.068966         0.0000        0.091833                3            4   \n",
       "901   0.137725         0.0690        0.045930                3            2   \n",
       "893   0.022727         0.0656        0.022656                3            3   \n",
       "349   0.076923         0.0862        0.002420                2            2   \n",
       "\n",
       "     needed_slab  \n",
       "809            3  \n",
       "158            2  \n",
       "457            4  \n",
       "49             2  \n",
       "960            2  \n",
       "..           ...  \n",
       "304            2  \n",
       "637            4  \n",
       "901            1  \n",
       "893            4  \n",
       "349            4  \n",
       "\n",
       "[705 rows x 11 columns]"
      ]
     },
     "execution_count": 67,
     "metadata": {},
     "output_type": "execute_result"
    }
   ],
   "source": [
    "X_train"
   ]
  },
  {
   "cell_type": "markdown",
   "id": "a8b5a937",
   "metadata": {},
   "source": [
    "## Hyperparamter tuning using Randomsearchcv  "
   ]
  },
  {
   "cell_type": "markdown",
   "id": "455a89fe",
   "metadata": {},
   "source": [
    "#### for Decisiontree"
   ]
  },
  {
   "cell_type": "code",
   "execution_count": 68,
   "id": "063a086a",
   "metadata": {},
   "outputs": [
    {
     "name": "stdout",
     "output_type": "stream",
     "text": [
      "              precision    recall  f1-score   support\n",
      "\n",
      "           0       0.78      0.82      0.80       174\n",
      "           1       0.81      0.77      0.79       174\n",
      "\n",
      "    accuracy                           0.80       348\n",
      "   macro avg       0.80      0.80      0.80       348\n",
      "weighted avg       0.80      0.80      0.80       348\n",
      "\n"
     ]
    }
   ],
   "source": [
    "dt = DecisionTreeClassifier()\n",
    "dt.fit(X_train,y_train)\n",
    "preds = dt.predict(X_test)\n",
    "print(classification_report(y_test,preds))"
   ]
  },
  {
   "cell_type": "code",
   "execution_count": 69,
   "id": "2f023a25",
   "metadata": {},
   "outputs": [],
   "source": [
    "DecisionTreeClassifier()\n",
    "\n",
    "\n",
    "max_depth = [int(x) for x in np.linspace(10, 2000,10)]\n",
    "\n",
    "min_samples_split = [int(x) for x in np.linspace(2,100,1)]\n",
    "\n",
    "min_samples_leaf = [int(x) for x in np.linspace(1,100,1)]\n",
    "\n",
    "max_leaf_nodes = [int(x) for x in np.linspace(10, 2000,10)]\n",
    "\n",
    "ccp_alpha10         = [np.round(random.random()/10,4) for x in range(1,100)]\n",
    "ccp_alpha100        = [np.round(random.random()/100,4) for x in range(1,100)]\n",
    "ccp_alpha1000       = [np.round(random.random()/1000,4) for x in range(1,100)]\n",
    "\n",
    "ccp_alpha           = ccp_alpha10+ccp_alpha100+ccp_alpha1000\n",
    "\n",
    "\n",
    "random_grid = {'max_depth': max_depth,\n",
    "               'min_samples_split': min_samples_split,\n",
    "               'min_samples_leaf': min_samples_leaf,\n",
    "              'criterion':['entropy','gini'],\n",
    "              'ccp_alpha':ccp_alpha,\n",
    "              'max_leaf_nodes':max_leaf_nodes}"
   ]
  },
  {
   "cell_type": "code",
   "execution_count": 70,
   "id": "8a776949",
   "metadata": {},
   "outputs": [
    {
     "data": {
      "text/html": [
       "<style>#sk-container-id-1 {color: black;background-color: white;}#sk-container-id-1 pre{padding: 0;}#sk-container-id-1 div.sk-toggleable {background-color: white;}#sk-container-id-1 label.sk-toggleable__label {cursor: pointer;display: block;width: 100%;margin-bottom: 0;padding: 0.3em;box-sizing: border-box;text-align: center;}#sk-container-id-1 label.sk-toggleable__label-arrow:before {content: \"▸\";float: left;margin-right: 0.25em;color: #696969;}#sk-container-id-1 label.sk-toggleable__label-arrow:hover:before {color: black;}#sk-container-id-1 div.sk-estimator:hover label.sk-toggleable__label-arrow:before {color: black;}#sk-container-id-1 div.sk-toggleable__content {max-height: 0;max-width: 0;overflow: hidden;text-align: left;background-color: #f0f8ff;}#sk-container-id-1 div.sk-toggleable__content pre {margin: 0.2em;color: black;border-radius: 0.25em;background-color: #f0f8ff;}#sk-container-id-1 input.sk-toggleable__control:checked~div.sk-toggleable__content {max-height: 200px;max-width: 100%;overflow: auto;}#sk-container-id-1 input.sk-toggleable__control:checked~label.sk-toggleable__label-arrow:before {content: \"▾\";}#sk-container-id-1 div.sk-estimator input.sk-toggleable__control:checked~label.sk-toggleable__label {background-color: #d4ebff;}#sk-container-id-1 div.sk-label input.sk-toggleable__control:checked~label.sk-toggleable__label {background-color: #d4ebff;}#sk-container-id-1 input.sk-hidden--visually {border: 0;clip: rect(1px 1px 1px 1px);clip: rect(1px, 1px, 1px, 1px);height: 1px;margin: -1px;overflow: hidden;padding: 0;position: absolute;width: 1px;}#sk-container-id-1 div.sk-estimator {font-family: monospace;background-color: #f0f8ff;border: 1px dotted black;border-radius: 0.25em;box-sizing: border-box;margin-bottom: 0.5em;}#sk-container-id-1 div.sk-estimator:hover {background-color: #d4ebff;}#sk-container-id-1 div.sk-parallel-item::after {content: \"\";width: 100%;border-bottom: 1px solid gray;flex-grow: 1;}#sk-container-id-1 div.sk-label:hover label.sk-toggleable__label {background-color: #d4ebff;}#sk-container-id-1 div.sk-serial::before {content: \"\";position: absolute;border-left: 1px solid gray;box-sizing: border-box;top: 0;bottom: 0;left: 50%;z-index: 0;}#sk-container-id-1 div.sk-serial {display: flex;flex-direction: column;align-items: center;background-color: white;padding-right: 0.2em;padding-left: 0.2em;position: relative;}#sk-container-id-1 div.sk-item {position: relative;z-index: 1;}#sk-container-id-1 div.sk-parallel {display: flex;align-items: stretch;justify-content: center;background-color: white;position: relative;}#sk-container-id-1 div.sk-item::before, #sk-container-id-1 div.sk-parallel-item::before {content: \"\";position: absolute;border-left: 1px solid gray;box-sizing: border-box;top: 0;bottom: 0;left: 50%;z-index: -1;}#sk-container-id-1 div.sk-parallel-item {display: flex;flex-direction: column;z-index: 1;position: relative;background-color: white;}#sk-container-id-1 div.sk-parallel-item:first-child::after {align-self: flex-end;width: 50%;}#sk-container-id-1 div.sk-parallel-item:last-child::after {align-self: flex-start;width: 50%;}#sk-container-id-1 div.sk-parallel-item:only-child::after {width: 0;}#sk-container-id-1 div.sk-dashed-wrapped {border: 1px dashed gray;margin: 0 0.4em 0.5em 0.4em;box-sizing: border-box;padding-bottom: 0.4em;background-color: white;}#sk-container-id-1 div.sk-label label {font-family: monospace;font-weight: bold;display: inline-block;line-height: 1.2em;}#sk-container-id-1 div.sk-label-container {text-align: center;}#sk-container-id-1 div.sk-container {/* jupyter's `normalize.less` sets `[hidden] { display: none; }` but bootstrap.min.css set `[hidden] { display: none !important; }` so we also need the `!important` here to be able to override the default hidden behavior on the sphinx rendered scikit-learn.org. See: https://github.com/scikit-learn/scikit-learn/issues/21755 */display: inline-block !important;position: relative;}#sk-container-id-1 div.sk-text-repr-fallback {display: none;}</style><div id=\"sk-container-id-1\" class=\"sk-top-container\"><div class=\"sk-text-repr-fallback\"><pre>RandomizedSearchCV(estimator=DecisionTreeClassifier(), n_jobs=-1,\n",
       "                   param_distributions={&#x27;ccp_alpha&#x27;: [0.0388, 0.0148, 0.0859,\n",
       "                                                      0.0125, 0.0767, 0.0102,\n",
       "                                                      0.0842, 0.0535, 0.0265,\n",
       "                                                      0.003, 0.0649, 0.0596,\n",
       "                                                      0.0952, 0.0191, 0.0767,\n",
       "                                                      0.0659, 0.037, 0.027,\n",
       "                                                      0.0721, 0.0228, 0.0361,\n",
       "                                                      0.0499, 0.0797, 0.0269,\n",
       "                                                      0.0265, 0.0386, 0.0553,\n",
       "                                                      0.0466, 0.0049, 0.0799, ...],\n",
       "                                        &#x27;criterion&#x27;: [&#x27;entropy&#x27;, &#x27;gini&#x27;],\n",
       "                                        &#x27;max_depth&#x27;: [10, 231, 452, 673, 894,\n",
       "                                                      1115, 1336, 1557, 1778,\n",
       "                                                      2000],\n",
       "                                        &#x27;max_leaf_nodes&#x27;: [10, 231, 452, 673,\n",
       "                                                           894, 1115, 1336,\n",
       "                                                           1557, 1778, 2000],\n",
       "                                        &#x27;min_samples_leaf&#x27;: [1],\n",
       "                                        &#x27;min_samples_split&#x27;: [2]})</pre><b>In a Jupyter environment, please rerun this cell to show the HTML representation or trust the notebook. <br />On GitHub, the HTML representation is unable to render, please try loading this page with nbviewer.org.</b></div><div class=\"sk-container\" hidden><div class=\"sk-item sk-dashed-wrapped\"><div class=\"sk-label-container\"><div class=\"sk-label sk-toggleable\"><input class=\"sk-toggleable__control sk-hidden--visually\" id=\"sk-estimator-id-1\" type=\"checkbox\" ><label for=\"sk-estimator-id-1\" class=\"sk-toggleable__label sk-toggleable__label-arrow\">RandomizedSearchCV</label><div class=\"sk-toggleable__content\"><pre>RandomizedSearchCV(estimator=DecisionTreeClassifier(), n_jobs=-1,\n",
       "                   param_distributions={&#x27;ccp_alpha&#x27;: [0.0388, 0.0148, 0.0859,\n",
       "                                                      0.0125, 0.0767, 0.0102,\n",
       "                                                      0.0842, 0.0535, 0.0265,\n",
       "                                                      0.003, 0.0649, 0.0596,\n",
       "                                                      0.0952, 0.0191, 0.0767,\n",
       "                                                      0.0659, 0.037, 0.027,\n",
       "                                                      0.0721, 0.0228, 0.0361,\n",
       "                                                      0.0499, 0.0797, 0.0269,\n",
       "                                                      0.0265, 0.0386, 0.0553,\n",
       "                                                      0.0466, 0.0049, 0.0799, ...],\n",
       "                                        &#x27;criterion&#x27;: [&#x27;entropy&#x27;, &#x27;gini&#x27;],\n",
       "                                        &#x27;max_depth&#x27;: [10, 231, 452, 673, 894,\n",
       "                                                      1115, 1336, 1557, 1778,\n",
       "                                                      2000],\n",
       "                                        &#x27;max_leaf_nodes&#x27;: [10, 231, 452, 673,\n",
       "                                                           894, 1115, 1336,\n",
       "                                                           1557, 1778, 2000],\n",
       "                                        &#x27;min_samples_leaf&#x27;: [1],\n",
       "                                        &#x27;min_samples_split&#x27;: [2]})</pre></div></div></div><div class=\"sk-parallel\"><div class=\"sk-parallel-item\"><div class=\"sk-item\"><div class=\"sk-label-container\"><div class=\"sk-label sk-toggleable\"><input class=\"sk-toggleable__control sk-hidden--visually\" id=\"sk-estimator-id-2\" type=\"checkbox\" ><label for=\"sk-estimator-id-2\" class=\"sk-toggleable__label sk-toggleable__label-arrow\">estimator: DecisionTreeClassifier</label><div class=\"sk-toggleable__content\"><pre>DecisionTreeClassifier()</pre></div></div></div><div class=\"sk-serial\"><div class=\"sk-item\"><div class=\"sk-estimator sk-toggleable\"><input class=\"sk-toggleable__control sk-hidden--visually\" id=\"sk-estimator-id-3\" type=\"checkbox\" ><label for=\"sk-estimator-id-3\" class=\"sk-toggleable__label sk-toggleable__label-arrow\">DecisionTreeClassifier</label><div class=\"sk-toggleable__content\"><pre>DecisionTreeClassifier()</pre></div></div></div></div></div></div></div></div></div></div>"
      ],
      "text/plain": [
       "RandomizedSearchCV(estimator=DecisionTreeClassifier(), n_jobs=-1,\n",
       "                   param_distributions={'ccp_alpha': [0.0388, 0.0148, 0.0859,\n",
       "                                                      0.0125, 0.0767, 0.0102,\n",
       "                                                      0.0842, 0.0535, 0.0265,\n",
       "                                                      0.003, 0.0649, 0.0596,\n",
       "                                                      0.0952, 0.0191, 0.0767,\n",
       "                                                      0.0659, 0.037, 0.027,\n",
       "                                                      0.0721, 0.0228, 0.0361,\n",
       "                                                      0.0499, 0.0797, 0.0269,\n",
       "                                                      0.0265, 0.0386, 0.0553,\n",
       "                                                      0.0466, 0.0049, 0.0799, ...],\n",
       "                                        'criterion': ['entropy', 'gini'],\n",
       "                                        'max_depth': [10, 231, 452, 673, 894,\n",
       "                                                      1115, 1336, 1557, 1778,\n",
       "                                                      2000],\n",
       "                                        'max_leaf_nodes': [10, 231, 452, 673,\n",
       "                                                           894, 1115, 1336,\n",
       "                                                           1557, 1778, 2000],\n",
       "                                        'min_samples_leaf': [1],\n",
       "                                        'min_samples_split': [2]})"
      ]
     },
     "execution_count": 70,
     "metadata": {},
     "output_type": "execute_result"
    }
   ],
   "source": [
    "dt1 = DecisionTreeClassifier()\n",
    "dt_randomcv = RandomizedSearchCV(estimator=dt1,param_distributions=random_grid,n_jobs=-1)\n",
    "dt_randomcv.fit(X_train,y_train)"
   ]
  },
  {
   "cell_type": "code",
   "execution_count": 71,
   "id": "a22dcfc3",
   "metadata": {},
   "outputs": [
    {
     "data": {
      "text/plain": [
       "{'min_samples_split': 2,\n",
       " 'min_samples_leaf': 1,\n",
       " 'max_leaf_nodes': 1336,\n",
       " 'max_depth': 2000,\n",
       " 'criterion': 'entropy',\n",
       " 'ccp_alpha': 0.006}"
      ]
     },
     "execution_count": 71,
     "metadata": {},
     "output_type": "execute_result"
    }
   ],
   "source": [
    "params_dt = dt_randomcv.best_params_\n",
    "params_dt"
   ]
  },
  {
   "cell_type": "code",
   "execution_count": 72,
   "id": "e2b3cc5a",
   "metadata": {},
   "outputs": [
    {
     "name": "stdout",
     "output_type": "stream",
     "text": [
      "              precision    recall  f1-score   support\n",
      "\n",
      "           0       0.85      0.85      0.85       174\n",
      "           1       0.85      0.85      0.85       174\n",
      "\n",
      "    accuracy                           0.85       348\n",
      "   macro avg       0.85      0.85      0.85       348\n",
      "weighted avg       0.85      0.85      0.85       348\n",
      "\n"
     ]
    }
   ],
   "source": [
    "dt = DecisionTreeClassifier(min_samples_leaf=params_dt['min_samples_leaf'],\n",
    "                            min_samples_split=params_dt['min_samples_split'],\n",
    "                           max_leaf_nodes=params_dt['max_leaf_nodes'],\n",
    "                           max_features=len(X_train.columns),\n",
    "                           max_depth=params_dt['max_depth'],\n",
    "                           criterion=params_dt['criterion'],\n",
    "                           ccp_alpha=params_dt['ccp_alpha'])\n",
    "dt.fit(X_train,y_train)\n",
    "preds = dt.predict(X_test)\n",
    "print(classification_report(y_test,preds))"
   ]
  },
  {
   "cell_type": "markdown",
   "id": "2303aa22",
   "metadata": {},
   "source": [
    "#### for RandomForest"
   ]
  },
  {
   "cell_type": "code",
   "execution_count": 73,
   "id": "cf02dac8",
   "metadata": {},
   "outputs": [
    {
     "name": "stdout",
     "output_type": "stream",
     "text": [
      "              precision    recall  f1-score   support\n",
      "\n",
      "           0       0.82      0.83      0.83       174\n",
      "           1       0.83      0.82      0.82       174\n",
      "\n",
      "    accuracy                           0.82       348\n",
      "   macro avg       0.82      0.82      0.82       348\n",
      "weighted avg       0.82      0.82      0.82       348\n",
      "\n"
     ]
    }
   ],
   "source": [
    "rf = RandomForestClassifier()\n",
    "rf.fit(X_train,y_train)\n",
    "preds = rf.predict(X_test)\n",
    "print(classification_report(y_test,preds))"
   ]
  },
  {
   "cell_type": "code",
   "execution_count": 74,
   "id": "85f0946f",
   "metadata": {},
   "outputs": [],
   "source": [
    "\n",
    "\n",
    "n_estimators = [int(x) for x in np.linspace(start = 200, stop = 1000, num = 10)]\n",
    "\n",
    "\n",
    "max_depth = [int(x) for x in np.linspace(10, 2000,10)]\n",
    "\n",
    "min_samples_split = [int(x) for x in np.linspace(2,100,1)]\n",
    "\n",
    "min_samples_leaf = [int(x) for x in np.linspace(1,100,1)]\n",
    "\n",
    "ccp_alpha10         = [np.round(random.random()/10,4) for x in range(1,100)]\n",
    "ccp_alpha100        = [np.round(random.random()/100,4) for x in range(1,100)]\n",
    "ccp_alpha1000       = [np.round(random.random()/1000,4) for x in range(1,100)]\n",
    "\n",
    "ccp_alpha           = ccp_alpha10+ccp_alpha100+ccp_alpha1000\n",
    "\n",
    "class_weight     = ['balanced','balanced_subsample']\n",
    "\n",
    "random_grid = {'n_estimators': n_estimators,\n",
    "               'max_depth': max_depth,\n",
    "               'min_samples_split': min_samples_split,\n",
    "               'min_samples_leaf': min_samples_leaf,\n",
    "              'criterion':['entropy','gini'],\n",
    "              'ccp_alpha':ccp_alpha,\n",
    "              'class_weight':class_weight}"
   ]
  },
  {
   "cell_type": "code",
   "execution_count": 75,
   "id": "154079ae",
   "metadata": {},
   "outputs": [
    {
     "data": {
      "text/html": [
       "<style>#sk-container-id-2 {color: black;background-color: white;}#sk-container-id-2 pre{padding: 0;}#sk-container-id-2 div.sk-toggleable {background-color: white;}#sk-container-id-2 label.sk-toggleable__label {cursor: pointer;display: block;width: 100%;margin-bottom: 0;padding: 0.3em;box-sizing: border-box;text-align: center;}#sk-container-id-2 label.sk-toggleable__label-arrow:before {content: \"▸\";float: left;margin-right: 0.25em;color: #696969;}#sk-container-id-2 label.sk-toggleable__label-arrow:hover:before {color: black;}#sk-container-id-2 div.sk-estimator:hover label.sk-toggleable__label-arrow:before {color: black;}#sk-container-id-2 div.sk-toggleable__content {max-height: 0;max-width: 0;overflow: hidden;text-align: left;background-color: #f0f8ff;}#sk-container-id-2 div.sk-toggleable__content pre {margin: 0.2em;color: black;border-radius: 0.25em;background-color: #f0f8ff;}#sk-container-id-2 input.sk-toggleable__control:checked~div.sk-toggleable__content {max-height: 200px;max-width: 100%;overflow: auto;}#sk-container-id-2 input.sk-toggleable__control:checked~label.sk-toggleable__label-arrow:before {content: \"▾\";}#sk-container-id-2 div.sk-estimator input.sk-toggleable__control:checked~label.sk-toggleable__label {background-color: #d4ebff;}#sk-container-id-2 div.sk-label input.sk-toggleable__control:checked~label.sk-toggleable__label {background-color: #d4ebff;}#sk-container-id-2 input.sk-hidden--visually {border: 0;clip: rect(1px 1px 1px 1px);clip: rect(1px, 1px, 1px, 1px);height: 1px;margin: -1px;overflow: hidden;padding: 0;position: absolute;width: 1px;}#sk-container-id-2 div.sk-estimator {font-family: monospace;background-color: #f0f8ff;border: 1px dotted black;border-radius: 0.25em;box-sizing: border-box;margin-bottom: 0.5em;}#sk-container-id-2 div.sk-estimator:hover {background-color: #d4ebff;}#sk-container-id-2 div.sk-parallel-item::after {content: \"\";width: 100%;border-bottom: 1px solid gray;flex-grow: 1;}#sk-container-id-2 div.sk-label:hover label.sk-toggleable__label {background-color: #d4ebff;}#sk-container-id-2 div.sk-serial::before {content: \"\";position: absolute;border-left: 1px solid gray;box-sizing: border-box;top: 0;bottom: 0;left: 50%;z-index: 0;}#sk-container-id-2 div.sk-serial {display: flex;flex-direction: column;align-items: center;background-color: white;padding-right: 0.2em;padding-left: 0.2em;position: relative;}#sk-container-id-2 div.sk-item {position: relative;z-index: 1;}#sk-container-id-2 div.sk-parallel {display: flex;align-items: stretch;justify-content: center;background-color: white;position: relative;}#sk-container-id-2 div.sk-item::before, #sk-container-id-2 div.sk-parallel-item::before {content: \"\";position: absolute;border-left: 1px solid gray;box-sizing: border-box;top: 0;bottom: 0;left: 50%;z-index: -1;}#sk-container-id-2 div.sk-parallel-item {display: flex;flex-direction: column;z-index: 1;position: relative;background-color: white;}#sk-container-id-2 div.sk-parallel-item:first-child::after {align-self: flex-end;width: 50%;}#sk-container-id-2 div.sk-parallel-item:last-child::after {align-self: flex-start;width: 50%;}#sk-container-id-2 div.sk-parallel-item:only-child::after {width: 0;}#sk-container-id-2 div.sk-dashed-wrapped {border: 1px dashed gray;margin: 0 0.4em 0.5em 0.4em;box-sizing: border-box;padding-bottom: 0.4em;background-color: white;}#sk-container-id-2 div.sk-label label {font-family: monospace;font-weight: bold;display: inline-block;line-height: 1.2em;}#sk-container-id-2 div.sk-label-container {text-align: center;}#sk-container-id-2 div.sk-container {/* jupyter's `normalize.less` sets `[hidden] { display: none; }` but bootstrap.min.css set `[hidden] { display: none !important; }` so we also need the `!important` here to be able to override the default hidden behavior on the sphinx rendered scikit-learn.org. See: https://github.com/scikit-learn/scikit-learn/issues/21755 */display: inline-block !important;position: relative;}#sk-container-id-2 div.sk-text-repr-fallback {display: none;}</style><div id=\"sk-container-id-2\" class=\"sk-top-container\"><div class=\"sk-text-repr-fallback\"><pre>RandomizedSearchCV(estimator=RandomForestClassifier(), n_jobs=-1,\n",
       "                   param_distributions={&#x27;ccp_alpha&#x27;: [0.0725, 0.0904, 0.0595,\n",
       "                                                      0.0952, 0.0658, 0.0102,\n",
       "                                                      0.0053, 0.0319, 0.0931,\n",
       "                                                      0.0589, 0.0286, 0.0386,\n",
       "                                                      0.034, 0.0226, 0.0529,\n",
       "                                                      0.0786, 0.0385, 0.0564,\n",
       "                                                      0.0243, 0.0623, 0.0731,\n",
       "                                                      0.0591, 0.0105, 0.0736,\n",
       "                                                      0.0024, 0.0489, 0.0702,\n",
       "                                                      0.0018, 0.0593, 0.0683, ...],\n",
       "                                        &#x27;class_weight&#x27;: [&#x27;balanced&#x27;,\n",
       "                                                         &#x27;balanced_subsample&#x27;],\n",
       "                                        &#x27;criterion&#x27;: [&#x27;entropy&#x27;, &#x27;gini&#x27;],\n",
       "                                        &#x27;max_depth&#x27;: [10, 231, 452, 673, 894,\n",
       "                                                      1115, 1336, 1557, 1778,\n",
       "                                                      2000],\n",
       "                                        &#x27;min_samples_leaf&#x27;: [1],\n",
       "                                        &#x27;min_samples_split&#x27;: [2],\n",
       "                                        &#x27;n_estimators&#x27;: [200, 288, 377, 466,\n",
       "                                                         555, 644, 733, 822,\n",
       "                                                         911, 1000]})</pre><b>In a Jupyter environment, please rerun this cell to show the HTML representation or trust the notebook. <br />On GitHub, the HTML representation is unable to render, please try loading this page with nbviewer.org.</b></div><div class=\"sk-container\" hidden><div class=\"sk-item sk-dashed-wrapped\"><div class=\"sk-label-container\"><div class=\"sk-label sk-toggleable\"><input class=\"sk-toggleable__control sk-hidden--visually\" id=\"sk-estimator-id-4\" type=\"checkbox\" ><label for=\"sk-estimator-id-4\" class=\"sk-toggleable__label sk-toggleable__label-arrow\">RandomizedSearchCV</label><div class=\"sk-toggleable__content\"><pre>RandomizedSearchCV(estimator=RandomForestClassifier(), n_jobs=-1,\n",
       "                   param_distributions={&#x27;ccp_alpha&#x27;: [0.0725, 0.0904, 0.0595,\n",
       "                                                      0.0952, 0.0658, 0.0102,\n",
       "                                                      0.0053, 0.0319, 0.0931,\n",
       "                                                      0.0589, 0.0286, 0.0386,\n",
       "                                                      0.034, 0.0226, 0.0529,\n",
       "                                                      0.0786, 0.0385, 0.0564,\n",
       "                                                      0.0243, 0.0623, 0.0731,\n",
       "                                                      0.0591, 0.0105, 0.0736,\n",
       "                                                      0.0024, 0.0489, 0.0702,\n",
       "                                                      0.0018, 0.0593, 0.0683, ...],\n",
       "                                        &#x27;class_weight&#x27;: [&#x27;balanced&#x27;,\n",
       "                                                         &#x27;balanced_subsample&#x27;],\n",
       "                                        &#x27;criterion&#x27;: [&#x27;entropy&#x27;, &#x27;gini&#x27;],\n",
       "                                        &#x27;max_depth&#x27;: [10, 231, 452, 673, 894,\n",
       "                                                      1115, 1336, 1557, 1778,\n",
       "                                                      2000],\n",
       "                                        &#x27;min_samples_leaf&#x27;: [1],\n",
       "                                        &#x27;min_samples_split&#x27;: [2],\n",
       "                                        &#x27;n_estimators&#x27;: [200, 288, 377, 466,\n",
       "                                                         555, 644, 733, 822,\n",
       "                                                         911, 1000]})</pre></div></div></div><div class=\"sk-parallel\"><div class=\"sk-parallel-item\"><div class=\"sk-item\"><div class=\"sk-label-container\"><div class=\"sk-label sk-toggleable\"><input class=\"sk-toggleable__control sk-hidden--visually\" id=\"sk-estimator-id-5\" type=\"checkbox\" ><label for=\"sk-estimator-id-5\" class=\"sk-toggleable__label sk-toggleable__label-arrow\">estimator: RandomForestClassifier</label><div class=\"sk-toggleable__content\"><pre>RandomForestClassifier()</pre></div></div></div><div class=\"sk-serial\"><div class=\"sk-item\"><div class=\"sk-estimator sk-toggleable\"><input class=\"sk-toggleable__control sk-hidden--visually\" id=\"sk-estimator-id-6\" type=\"checkbox\" ><label for=\"sk-estimator-id-6\" class=\"sk-toggleable__label sk-toggleable__label-arrow\">RandomForestClassifier</label><div class=\"sk-toggleable__content\"><pre>RandomForestClassifier()</pre></div></div></div></div></div></div></div></div></div></div>"
      ],
      "text/plain": [
       "RandomizedSearchCV(estimator=RandomForestClassifier(), n_jobs=-1,\n",
       "                   param_distributions={'ccp_alpha': [0.0725, 0.0904, 0.0595,\n",
       "                                                      0.0952, 0.0658, 0.0102,\n",
       "                                                      0.0053, 0.0319, 0.0931,\n",
       "                                                      0.0589, 0.0286, 0.0386,\n",
       "                                                      0.034, 0.0226, 0.0529,\n",
       "                                                      0.0786, 0.0385, 0.0564,\n",
       "                                                      0.0243, 0.0623, 0.0731,\n",
       "                                                      0.0591, 0.0105, 0.0736,\n",
       "                                                      0.0024, 0.0489, 0.0702,\n",
       "                                                      0.0018, 0.0593, 0.0683, ...],\n",
       "                                        'class_weight': ['balanced',\n",
       "                                                         'balanced_subsample'],\n",
       "                                        'criterion': ['entropy', 'gini'],\n",
       "                                        'max_depth': [10, 231, 452, 673, 894,\n",
       "                                                      1115, 1336, 1557, 1778,\n",
       "                                                      2000],\n",
       "                                        'min_samples_leaf': [1],\n",
       "                                        'min_samples_split': [2],\n",
       "                                        'n_estimators': [200, 288, 377, 466,\n",
       "                                                         555, 644, 733, 822,\n",
       "                                                         911, 1000]})"
      ]
     },
     "execution_count": 75,
     "metadata": {},
     "output_type": "execute_result"
    }
   ],
   "source": [
    "rf1 = RandomForestClassifier()\n",
    "rf_randomcv = RandomizedSearchCV(estimator=rf1,param_distributions=random_grid,n_jobs=-1)\n",
    "rf_randomcv.fit(X_train,y_train)"
   ]
  },
  {
   "cell_type": "code",
   "execution_count": 76,
   "id": "24692efe",
   "metadata": {
    "scrolled": false
   },
   "outputs": [],
   "source": [
    "params = rf_randomcv.best_params_"
   ]
  },
  {
   "cell_type": "code",
   "execution_count": 77,
   "id": "18929df4",
   "metadata": {},
   "outputs": [
    {
     "name": "stdout",
     "output_type": "stream",
     "text": [
      "              precision    recall  f1-score   support\n",
      "\n",
      "           0       0.90      0.87      0.88       174\n",
      "           1       0.87      0.90      0.89       174\n",
      "\n",
      "    accuracy                           0.89       348\n",
      "   macro avg       0.89      0.89      0.89       348\n",
      "weighted avg       0.89      0.89      0.89       348\n",
      "\n"
     ]
    }
   ],
   "source": [
    "rf = RandomForestClassifier(n_estimators=params['n_estimators'],min_samples_split= params['min_samples_split'],\n",
    "                            min_samples_leaf= params['min_samples_leaf'],\n",
    "                            max_features=len(X_train.columns),\n",
    "                            criterion=params['criterion'],max_depth=params['max_depth'],\n",
    "                           class_weight=params['class_weight'],ccp_alpha=params['ccp_alpha'])\n",
    "rf.fit(X_train,y_train)\n",
    "preds = rf.predict(X_test)\n",
    "print(classification_report(y_test,preds))"
   ]
  },
  {
   "cell_type": "markdown",
   "id": "1d58fcb9",
   "metadata": {},
   "source": [
    "#### for adaboost"
   ]
  },
  {
   "cell_type": "code",
   "execution_count": 78,
   "id": "bbf7b311",
   "metadata": {},
   "outputs": [
    {
     "name": "stdout",
     "output_type": "stream",
     "text": [
      "              precision    recall  f1-score   support\n",
      "\n",
      "           0       0.94      0.93      0.93       174\n",
      "           1       0.93      0.94      0.93       174\n",
      "\n",
      "    accuracy                           0.93       348\n",
      "   macro avg       0.93      0.93      0.93       348\n",
      "weighted avg       0.93      0.93      0.93       348\n",
      "\n"
     ]
    }
   ],
   "source": [
    "adb = AdaBoostClassifier(base_estimator=DecisionTreeClassifier(max_depth=1))\n",
    "adb.fit(X_train,y_train)\n",
    "preds = adb.predict(X_test)\n",
    "print(classification_report(y_test,preds))"
   ]
  },
  {
   "cell_type": "code",
   "execution_count": 79,
   "id": "69e9cc36",
   "metadata": {},
   "outputs": [],
   "source": [
    "alpha10         = [np.round(random.random()/10,4) for x in range(1,100)]\n",
    "alpha100        = [np.round(random.random()/100,4) for x in range(1,100)]\n",
    "alpha1000       = [np.round(random.random()/1000,4) for x in range(1,100)]\n",
    "\n",
    "learning_rate = alpha10+alpha100+alpha1000\n",
    "n_estimators = [int(x) for x in np.linspace(start = 10, stop = 2000, num = 10)]\n",
    "\n",
    "random_grid = {'learning_rate':learning_rate,\n",
    "              'n_estimators':n_estimators,\n",
    "              'algorithm':['SAMME','SAMME.R']}"
   ]
  },
  {
   "cell_type": "code",
   "execution_count": 80,
   "id": "a30b2920",
   "metadata": {},
   "outputs": [],
   "source": [
    "adb1 = AdaBoostClassifier()\n",
    "ada_randomcv = RandomizedSearchCV(estimator=adb1,param_distributions=random_grid,n_jobs=-1)"
   ]
  },
  {
   "cell_type": "code",
   "execution_count": 81,
   "id": "34603865",
   "metadata": {},
   "outputs": [
    {
     "data": {
      "text/html": [
       "<style>#sk-container-id-3 {color: black;background-color: white;}#sk-container-id-3 pre{padding: 0;}#sk-container-id-3 div.sk-toggleable {background-color: white;}#sk-container-id-3 label.sk-toggleable__label {cursor: pointer;display: block;width: 100%;margin-bottom: 0;padding: 0.3em;box-sizing: border-box;text-align: center;}#sk-container-id-3 label.sk-toggleable__label-arrow:before {content: \"▸\";float: left;margin-right: 0.25em;color: #696969;}#sk-container-id-3 label.sk-toggleable__label-arrow:hover:before {color: black;}#sk-container-id-3 div.sk-estimator:hover label.sk-toggleable__label-arrow:before {color: black;}#sk-container-id-3 div.sk-toggleable__content {max-height: 0;max-width: 0;overflow: hidden;text-align: left;background-color: #f0f8ff;}#sk-container-id-3 div.sk-toggleable__content pre {margin: 0.2em;color: black;border-radius: 0.25em;background-color: #f0f8ff;}#sk-container-id-3 input.sk-toggleable__control:checked~div.sk-toggleable__content {max-height: 200px;max-width: 100%;overflow: auto;}#sk-container-id-3 input.sk-toggleable__control:checked~label.sk-toggleable__label-arrow:before {content: \"▾\";}#sk-container-id-3 div.sk-estimator input.sk-toggleable__control:checked~label.sk-toggleable__label {background-color: #d4ebff;}#sk-container-id-3 div.sk-label input.sk-toggleable__control:checked~label.sk-toggleable__label {background-color: #d4ebff;}#sk-container-id-3 input.sk-hidden--visually {border: 0;clip: rect(1px 1px 1px 1px);clip: rect(1px, 1px, 1px, 1px);height: 1px;margin: -1px;overflow: hidden;padding: 0;position: absolute;width: 1px;}#sk-container-id-3 div.sk-estimator {font-family: monospace;background-color: #f0f8ff;border: 1px dotted black;border-radius: 0.25em;box-sizing: border-box;margin-bottom: 0.5em;}#sk-container-id-3 div.sk-estimator:hover {background-color: #d4ebff;}#sk-container-id-3 div.sk-parallel-item::after {content: \"\";width: 100%;border-bottom: 1px solid gray;flex-grow: 1;}#sk-container-id-3 div.sk-label:hover label.sk-toggleable__label {background-color: #d4ebff;}#sk-container-id-3 div.sk-serial::before {content: \"\";position: absolute;border-left: 1px solid gray;box-sizing: border-box;top: 0;bottom: 0;left: 50%;z-index: 0;}#sk-container-id-3 div.sk-serial {display: flex;flex-direction: column;align-items: center;background-color: white;padding-right: 0.2em;padding-left: 0.2em;position: relative;}#sk-container-id-3 div.sk-item {position: relative;z-index: 1;}#sk-container-id-3 div.sk-parallel {display: flex;align-items: stretch;justify-content: center;background-color: white;position: relative;}#sk-container-id-3 div.sk-item::before, #sk-container-id-3 div.sk-parallel-item::before {content: \"\";position: absolute;border-left: 1px solid gray;box-sizing: border-box;top: 0;bottom: 0;left: 50%;z-index: -1;}#sk-container-id-3 div.sk-parallel-item {display: flex;flex-direction: column;z-index: 1;position: relative;background-color: white;}#sk-container-id-3 div.sk-parallel-item:first-child::after {align-self: flex-end;width: 50%;}#sk-container-id-3 div.sk-parallel-item:last-child::after {align-self: flex-start;width: 50%;}#sk-container-id-3 div.sk-parallel-item:only-child::after {width: 0;}#sk-container-id-3 div.sk-dashed-wrapped {border: 1px dashed gray;margin: 0 0.4em 0.5em 0.4em;box-sizing: border-box;padding-bottom: 0.4em;background-color: white;}#sk-container-id-3 div.sk-label label {font-family: monospace;font-weight: bold;display: inline-block;line-height: 1.2em;}#sk-container-id-3 div.sk-label-container {text-align: center;}#sk-container-id-3 div.sk-container {/* jupyter's `normalize.less` sets `[hidden] { display: none; }` but bootstrap.min.css set `[hidden] { display: none !important; }` so we also need the `!important` here to be able to override the default hidden behavior on the sphinx rendered scikit-learn.org. See: https://github.com/scikit-learn/scikit-learn/issues/21755 */display: inline-block !important;position: relative;}#sk-container-id-3 div.sk-text-repr-fallback {display: none;}</style><div id=\"sk-container-id-3\" class=\"sk-top-container\"><div class=\"sk-text-repr-fallback\"><pre>RandomizedSearchCV(estimator=AdaBoostClassifier(), n_jobs=-1,\n",
       "                   param_distributions={&#x27;algorithm&#x27;: [&#x27;SAMME&#x27;, &#x27;SAMME.R&#x27;],\n",
       "                                        &#x27;learning_rate&#x27;: [0.0775, 0.0362,\n",
       "                                                          0.0261, 0.0473,\n",
       "                                                          0.0101, 0.0287,\n",
       "                                                          0.0795, 0.0163,\n",
       "                                                          0.0857, 0.0398,\n",
       "                                                          0.0914, 0.0207,\n",
       "                                                          0.0608, 0.0357,\n",
       "                                                          0.0351, 0.0925,\n",
       "                                                          0.0227, 0.0062,\n",
       "                                                          0.0431, 0.0964,\n",
       "                                                          0.0243, 0.0927, 0.032,\n",
       "                                                          0.067, 0.0032, 0.0107,\n",
       "                                                          0.0916, 0.0238,\n",
       "                                                          0.0333, 0.0694, ...],\n",
       "                                        &#x27;n_estimators&#x27;: [10, 231, 452, 673, 894,\n",
       "                                                         1115, 1336, 1557, 1778,\n",
       "                                                         2000]})</pre><b>In a Jupyter environment, please rerun this cell to show the HTML representation or trust the notebook. <br />On GitHub, the HTML representation is unable to render, please try loading this page with nbviewer.org.</b></div><div class=\"sk-container\" hidden><div class=\"sk-item sk-dashed-wrapped\"><div class=\"sk-label-container\"><div class=\"sk-label sk-toggleable\"><input class=\"sk-toggleable__control sk-hidden--visually\" id=\"sk-estimator-id-7\" type=\"checkbox\" ><label for=\"sk-estimator-id-7\" class=\"sk-toggleable__label sk-toggleable__label-arrow\">RandomizedSearchCV</label><div class=\"sk-toggleable__content\"><pre>RandomizedSearchCV(estimator=AdaBoostClassifier(), n_jobs=-1,\n",
       "                   param_distributions={&#x27;algorithm&#x27;: [&#x27;SAMME&#x27;, &#x27;SAMME.R&#x27;],\n",
       "                                        &#x27;learning_rate&#x27;: [0.0775, 0.0362,\n",
       "                                                          0.0261, 0.0473,\n",
       "                                                          0.0101, 0.0287,\n",
       "                                                          0.0795, 0.0163,\n",
       "                                                          0.0857, 0.0398,\n",
       "                                                          0.0914, 0.0207,\n",
       "                                                          0.0608, 0.0357,\n",
       "                                                          0.0351, 0.0925,\n",
       "                                                          0.0227, 0.0062,\n",
       "                                                          0.0431, 0.0964,\n",
       "                                                          0.0243, 0.0927, 0.032,\n",
       "                                                          0.067, 0.0032, 0.0107,\n",
       "                                                          0.0916, 0.0238,\n",
       "                                                          0.0333, 0.0694, ...],\n",
       "                                        &#x27;n_estimators&#x27;: [10, 231, 452, 673, 894,\n",
       "                                                         1115, 1336, 1557, 1778,\n",
       "                                                         2000]})</pre></div></div></div><div class=\"sk-parallel\"><div class=\"sk-parallel-item\"><div class=\"sk-item\"><div class=\"sk-label-container\"><div class=\"sk-label sk-toggleable\"><input class=\"sk-toggleable__control sk-hidden--visually\" id=\"sk-estimator-id-8\" type=\"checkbox\" ><label for=\"sk-estimator-id-8\" class=\"sk-toggleable__label sk-toggleable__label-arrow\">estimator: AdaBoostClassifier</label><div class=\"sk-toggleable__content\"><pre>AdaBoostClassifier()</pre></div></div></div><div class=\"sk-serial\"><div class=\"sk-item\"><div class=\"sk-estimator sk-toggleable\"><input class=\"sk-toggleable__control sk-hidden--visually\" id=\"sk-estimator-id-9\" type=\"checkbox\" ><label for=\"sk-estimator-id-9\" class=\"sk-toggleable__label sk-toggleable__label-arrow\">AdaBoostClassifier</label><div class=\"sk-toggleable__content\"><pre>AdaBoostClassifier()</pre></div></div></div></div></div></div></div></div></div></div>"
      ],
      "text/plain": [
       "RandomizedSearchCV(estimator=AdaBoostClassifier(), n_jobs=-1,\n",
       "                   param_distributions={'algorithm': ['SAMME', 'SAMME.R'],\n",
       "                                        'learning_rate': [0.0775, 0.0362,\n",
       "                                                          0.0261, 0.0473,\n",
       "                                                          0.0101, 0.0287,\n",
       "                                                          0.0795, 0.0163,\n",
       "                                                          0.0857, 0.0398,\n",
       "                                                          0.0914, 0.0207,\n",
       "                                                          0.0608, 0.0357,\n",
       "                                                          0.0351, 0.0925,\n",
       "                                                          0.0227, 0.0062,\n",
       "                                                          0.0431, 0.0964,\n",
       "                                                          0.0243, 0.0927, 0.032,\n",
       "                                                          0.067, 0.0032, 0.0107,\n",
       "                                                          0.0916, 0.0238,\n",
       "                                                          0.0333, 0.0694, ...],\n",
       "                                        'n_estimators': [10, 231, 452, 673, 894,\n",
       "                                                         1115, 1336, 1557, 1778,\n",
       "                                                         2000]})"
      ]
     },
     "execution_count": 81,
     "metadata": {},
     "output_type": "execute_result"
    }
   ],
   "source": [
    "ada_randomcv.fit(X_train,y_train)"
   ]
  },
  {
   "cell_type": "code",
   "execution_count": 82,
   "id": "38fb93e4",
   "metadata": {},
   "outputs": [
    {
     "data": {
      "text/plain": [
       "{'n_estimators': 1557, 'learning_rate': 0.0925, 'algorithm': 'SAMME.R'}"
      ]
     },
     "execution_count": 82,
     "metadata": {},
     "output_type": "execute_result"
    }
   ],
   "source": [
    "params_adb = ada_randomcv.best_params_\n",
    "params_adb"
   ]
  },
  {
   "cell_type": "code",
   "execution_count": 83,
   "id": "a5a9d079",
   "metadata": {},
   "outputs": [
    {
     "name": "stdout",
     "output_type": "stream",
     "text": [
      "              precision    recall  f1-score   support\n",
      "\n",
      "           0       0.99      0.97      0.98       174\n",
      "           1       0.97      0.99      0.98       174\n",
      "\n",
      "    accuracy                           0.98       348\n",
      "   macro avg       0.98      0.98      0.98       348\n",
      "weighted avg       0.98      0.98      0.98       348\n",
      "\n"
     ]
    }
   ],
   "source": [
    "adbr = AdaBoostClassifier(base_estimator=DecisionTreeClassifier(min_samples_leaf=params_dt['min_samples_leaf'],\n",
    "                            min_samples_split=params_dt['min_samples_split'],\n",
    "                           max_leaf_nodes=params_dt['max_leaf_nodes'],\n",
    "                           max_features=len(X_train.columns),\n",
    "                           max_depth=params_dt['max_depth'],\n",
    "                           criterion=params_dt['criterion'],\n",
    "                           ccp_alpha=params_dt['ccp_alpha'])\n",
    "                          ,n_estimators=params_adb['n_estimators'],\n",
    "                           learning_rate=params_adb['learning_rate'],\n",
    "                           algorithm=params_adb['algorithm'])\n",
    "adbr.fit(X_train,y_train)\n",
    "preds = adbr.predict(X_test)\n",
    "print(classification_report(y_test,preds))"
   ]
  },
  {
   "cell_type": "code",
   "execution_count": 84,
   "id": "d5c7f1ad",
   "metadata": {},
   "outputs": [],
   "source": [
    "level0 = [('dt_classifier',DecisionTreeClassifier(min_samples_leaf=params_dt['min_samples_leaf'],\n",
    "                            min_samples_split=params_dt['min_samples_split'],\n",
    "                           max_leaf_nodes=params_dt['max_leaf_nodes'],\n",
    "                           max_features=len(X_train.columns),\n",
    "                           max_depth=params_dt['max_depth'],\n",
    "                           criterion=params_dt['criterion'],\n",
    "                           ccp_alpha=params_dt['ccp_alpha'])),\n",
    "          ('rf_classifier', RandomForestClassifier(n_estimators=params['n_estimators'],\n",
    "                                                   min_samples_split= params['min_samples_split'],\n",
    "                                                   min_samples_leaf= params['min_samples_leaf'],\n",
    "                                                   max_features=len(X_train.columns),\n",
    "                                                   criterion=params['criterion'],\n",
    "                                                   max_depth=params['max_depth'],\n",
    "                                                   class_weight=params['class_weight'],\n",
    "                                                   ccp_alpha=params['ccp_alpha'])),\n",
    "          ('ad_classifier',AdaBoostClassifier(base_estimator=DecisionTreeClassifier(\n",
    "              min_samples_leaf=params_dt['min_samples_leaf'],\n",
    "                            min_samples_split=params_dt['min_samples_split'],\n",
    "                           max_leaf_nodes=params_dt['max_leaf_nodes'],\n",
    "                           max_features=len(X_train.columns),\n",
    "                           max_depth=params_dt['max_depth'],\n",
    "                           criterion=params_dt['criterion'],\n",
    "                           ccp_alpha=params_dt['ccp_alpha'])\n",
    "                          ,n_estimators=params_adb['n_estimators'],\n",
    "                           learning_rate=params_adb['learning_rate'],\n",
    "                           algorithm=params_adb['algorithm']))]\n",
    "\n",
    "level1 = LogisticRegression()\n",
    "\n",
    "\n",
    "model = StackingClassifier(estimators=level0,final_estimator=level1,n_jobs=-1)\n"
   ]
  },
  {
   "cell_type": "code",
   "execution_count": 85,
   "id": "1e6786bd",
   "metadata": {},
   "outputs": [],
   "source": [
    "model.fit(X_train,y_train)\n",
    "y_preds = model.predict(X_test)"
   ]
  },
  {
   "cell_type": "code",
   "execution_count": 86,
   "id": "b72820a9",
   "metadata": {
    "scrolled": true
   },
   "outputs": [
    {
     "name": "stdout",
     "output_type": "stream",
     "text": [
      "[[170   4]\n",
      " [  1 173]]\n",
      "0.985632183908046\n"
     ]
    }
   ],
   "source": [
    "print(confusion_matrix(y_test,y_preds))\n",
    "print(accuracy_score(y_test,y_preds))"
   ]
  },
  {
   "cell_type": "code",
   "execution_count": 87,
   "id": "7984c67e",
   "metadata": {
    "scrolled": false
   },
   "outputs": [
    {
     "name": "stdout",
     "output_type": "stream",
     "text": [
      "              precision    recall  f1-score   support\n",
      "\n",
      "           0       0.99      0.98      0.99       174\n",
      "           1       0.98      0.99      0.99       174\n",
      "\n",
      "    accuracy                           0.99       348\n",
      "   macro avg       0.99      0.99      0.99       348\n",
      "weighted avg       0.99      0.99      0.99       348\n",
      "\n"
     ]
    }
   ],
   "source": [
    "print(classification_report(y_test,y_preds))"
   ]
  },
  {
   "cell_type": "code",
   "execution_count": 88,
   "id": "222d27c8",
   "metadata": {},
   "outputs": [
    {
     "name": "stdout",
     "output_type": "stream",
     "text": [
      "supporters              3.000000\n",
      "tax benifits            0.000000\n",
      "raised_amount         600.000000\n",
      "needed_amount      500000.000000\n",
      "State1                  0.581699\n",
      "statediff               0.163399\n",
      "jaccard_title           0.065600\n",
      "perc_collected          0.001200\n",
      "supporters_slab         1.000000\n",
      "raised_slab             1.000000\n",
      "needed_slab             2.000000\n",
      "Name: 849, dtype: float64\n",
      "0\n"
     ]
    }
   ],
   "source": [
    "print(X_test.loc[849,:])\n",
    "print(y_test.loc[849])"
   ]
  },
  {
   "cell_type": "code",
   "execution_count": 89,
   "id": "c4addc5e",
   "metadata": {},
   "outputs": [],
   "source": [
    "x = [3,0,600,500000,0.581699,0.16339,0.065600,0.001200,1,1,2]"
   ]
  },
  {
   "cell_type": "code",
   "execution_count": 90,
   "id": "8009898f",
   "metadata": {},
   "outputs": [],
   "source": [
    "x = np.reshape(x,(1,-1))\n",
    "#model.predict(x)"
   ]
  },
  {
   "cell_type": "code",
   "execution_count": 91,
   "id": "c4a496e5",
   "metadata": {},
   "outputs": [],
   "source": [
    "filename = 'modellib.sav'"
   ]
  },
  {
   "cell_type": "code",
   "execution_count": 92,
   "id": "8c5751c2",
   "metadata": {},
   "outputs": [
    {
     "data": {
      "text/plain": [
       "['modellib.sav']"
      ]
     },
     "execution_count": 92,
     "metadata": {},
     "output_type": "execute_result"
    }
   ],
   "source": [
    "joblib.dump(model, filename)\n",
    " "
   ]
  },
  {
   "cell_type": "code",
   "execution_count": 93,
   "id": "d5725bca",
   "metadata": {},
   "outputs": [],
   "source": [
    "loaded_model = joblib.load(filename)"
   ]
  },
  {
   "cell_type": "code",
   "execution_count": 94,
   "id": "43e63cd4",
   "metadata": {},
   "outputs": [],
   "source": [
    "preds = loaded_model.predict_proba(x)"
   ]
  },
  {
   "cell_type": "code",
   "execution_count": 95,
   "id": "1aa94fbd",
   "metadata": {
    "scrolled": true
   },
   "outputs": [
    {
     "data": {
      "text/plain": [
       "array([0.96797633, 0.03202367])"
      ]
     },
     "execution_count": 95,
     "metadata": {},
     "output_type": "execute_result"
    }
   ],
   "source": [
    "preds[0]"
   ]
  },
  {
   "cell_type": "code",
   "execution_count": 96,
   "id": "31ab95e6",
   "metadata": {
    "scrolled": false
   },
   "outputs": [],
   "source": [
    "x1 = loaded_model.predict_proba(x)"
   ]
  },
  {
   "cell_type": "code",
   "execution_count": 97,
   "id": "c3c98ec6",
   "metadata": {},
   "outputs": [
    {
     "data": {
      "text/plain": [
       "array([[0.96797633, 0.03202367]])"
      ]
     },
     "execution_count": 97,
     "metadata": {},
     "output_type": "execute_result"
    }
   ],
   "source": [
    "x1"
   ]
  },
  {
   "cell_type": "code",
   "execution_count": 98,
   "id": "bed17102",
   "metadata": {},
   "outputs": [
    {
     "data": {
      "text/plain": [
       "0.9679763287565082"
      ]
     },
     "execution_count": 98,
     "metadata": {},
     "output_type": "execute_result"
    }
   ],
   "source": [
    "x1.tolist()[0][0]"
   ]
  }
 ],
 "metadata": {
  "kernelspec": {
   "display_name": "Python 3 (ipykernel)",
   "language": "python",
   "name": "python3"
  },
  "language_info": {
   "codemirror_mode": {
    "name": "ipython",
    "version": 3
   },
   "file_extension": ".py",
   "mimetype": "text/x-python",
   "name": "python",
   "nbconvert_exporter": "python",
   "pygments_lexer": "ipython3",
   "version": "3.10.7"
  }
 },
 "nbformat": 4,
 "nbformat_minor": 5
}
