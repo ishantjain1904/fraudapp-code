{
 "cells": [
  {
   "cell_type": "code",
   "execution_count": 1,
   "id": "445d2d2e",
   "metadata": {},
   "outputs": [],
   "source": [
    "#import libraries\n",
    "import re\n",
    "import random\n",
    "import numpy as np\n",
    "import pandas as pd\n",
    "import matplotlib.pyplot as plt\n",
    "import seaborn as sns\n",
    "import joblib\n",
    "from sklearn.tree import DecisionTreeClassifier\n",
    "from sklearn.ensemble import RandomForestClassifier,AdaBoostClassifier,StackingClassifier \n",
    "from sklearn.metrics import confusion_matrix,accuracy_score,classification_report\n",
    "from sklearn.model_selection import RandomizedSearchCV,GridSearchCV\n",
    "from sklearn.model_selection import train_test_split\n",
    "from sklearn.linear_model import LogisticRegression\n",
    "import warnings\n",
    "warnings.filterwarnings('ignore')"
   ]
  },
  {
   "cell_type": "code",
   "execution_count": 2,
   "id": "f4c0dfdc",
   "metadata": {},
   "outputs": [],
   "source": [
    "#load dataset\n",
    "dataset= pd.read_excel(\"Output-table-prep.xlsx\")"
   ]
  },
  {
   "cell_type": "code",
   "execution_count": 3,
   "id": "647880bf",
   "metadata": {},
   "outputs": [
    {
     "name": "stdout",
     "output_type": "stream",
     "text": [
      "<class 'pandas.core.frame.DataFrame'>\n",
      "RangeIndex: 1053 entries, 0 to 1052\n",
      "Data columns (total 12 columns):\n",
      " #   Column                 Non-Null Count  Dtype \n",
      "---  ------                 --------------  ----- \n",
      " 0   City                   1053 non-null   object\n",
      " 1   State                  1053 non-null   object\n",
      " 2   title                  1052 non-null   object\n",
      " 3   supporters             1053 non-null   int64 \n",
      " 4   raised                 1053 non-null   object\n",
      " 5   needed                 1053 non-null   object\n",
      " 6   posted_by              1053 non-null   object\n",
      " 7   benefited_to           1053 non-null   object\n",
      " 8   tax benifits           1053 non-null   object\n",
      " 9   AboutBenefittedPerson  1053 non-null   object\n",
      " 10  image                  1053 non-null   object\n",
      " 11  genuine                1053 non-null   object\n",
      "dtypes: int64(1), object(11)\n",
      "memory usage: 98.8+ KB\n"
     ]
    }
   ],
   "source": [
    "dataset.info()"
   ]
  },
  {
   "cell_type": "code",
   "execution_count": 4,
   "id": "2d1ee4c1",
   "metadata": {
    "scrolled": false
   },
   "outputs": [
    {
     "data": {
      "text/html": [
       "<div>\n",
       "<style scoped>\n",
       "    .dataframe tbody tr th:only-of-type {\n",
       "        vertical-align: middle;\n",
       "    }\n",
       "\n",
       "    .dataframe tbody tr th {\n",
       "        vertical-align: top;\n",
       "    }\n",
       "\n",
       "    .dataframe thead th {\n",
       "        text-align: right;\n",
       "    }\n",
       "</style>\n",
       "<table border=\"1\" class=\"dataframe\">\n",
       "  <thead>\n",
       "    <tr style=\"text-align: right;\">\n",
       "      <th></th>\n",
       "      <th>supporters</th>\n",
       "    </tr>\n",
       "  </thead>\n",
       "  <tbody>\n",
       "    <tr>\n",
       "      <th>count</th>\n",
       "      <td>1053.000000</td>\n",
       "    </tr>\n",
       "    <tr>\n",
       "      <th>mean</th>\n",
       "      <td>126.347578</td>\n",
       "    </tr>\n",
       "    <tr>\n",
       "      <th>std</th>\n",
       "      <td>548.482596</td>\n",
       "    </tr>\n",
       "    <tr>\n",
       "      <th>min</th>\n",
       "      <td>1.000000</td>\n",
       "    </tr>\n",
       "    <tr>\n",
       "      <th>25%</th>\n",
       "      <td>4.000000</td>\n",
       "    </tr>\n",
       "    <tr>\n",
       "      <th>50%</th>\n",
       "      <td>23.000000</td>\n",
       "    </tr>\n",
       "    <tr>\n",
       "      <th>75%</th>\n",
       "      <td>87.000000</td>\n",
       "    </tr>\n",
       "    <tr>\n",
       "      <th>max</th>\n",
       "      <td>13724.000000</td>\n",
       "    </tr>\n",
       "  </tbody>\n",
       "</table>\n",
       "</div>"
      ],
      "text/plain": [
       "         supporters\n",
       "count   1053.000000\n",
       "mean     126.347578\n",
       "std      548.482596\n",
       "min        1.000000\n",
       "25%        4.000000\n",
       "50%       23.000000\n",
       "75%       87.000000\n",
       "max    13724.000000"
      ]
     },
     "execution_count": 4,
     "metadata": {},
     "output_type": "execute_result"
    }
   ],
   "source": [
    "dataset.describe()"
   ]
  },
  {
   "cell_type": "markdown",
   "id": "baf3743a",
   "metadata": {},
   "source": [
    "###  here the raised and needed column should be changed to numeric datatype"
   ]
  },
  {
   "cell_type": "code",
   "execution_count": 5,
   "id": "057a75ad",
   "metadata": {},
   "outputs": [],
   "source": [
    "raised_amount  = []\n",
    "for i in range(len(dataset['raised'])):\n",
    "    if 'Rs' in dataset['raised'][i]:\n",
    "        raised_amount.append(int(dataset['raised'][i][3:].replace(\",\",\"\")))\n",
    "    elif '$' in dataset['raised'][i]:\n",
    "        raised_amount.append(int(dataset['raised'][i][1:].replace(\",\",\"\")))"
   ]
  },
  {
   "cell_type": "code",
   "execution_count": 6,
   "id": "8b265894",
   "metadata": {},
   "outputs": [],
   "source": [
    "dataset['raised_amount'] = raised_amount"
   ]
  },
  {
   "cell_type": "code",
   "execution_count": 7,
   "id": "548584e9",
   "metadata": {},
   "outputs": [],
   "source": [
    "needed_amount = []\n",
    "for i in range(len(dataset['needed'])):\n",
    "    if '$' in dataset['needed'][i]:\n",
    "        needed_amount.append(int(dataset['needed'][i][1:].replace(\",\",\"\")))\n",
    "    elif 'Rs' in dataset['needed'][i]:\n",
    "        needed_amount.append(int(dataset['needed'][i][3:].replace(\",\",\"\")))"
   ]
  },
  {
   "cell_type": "code",
   "execution_count": 8,
   "id": "a261ea38",
   "metadata": {},
   "outputs": [],
   "source": [
    "dataset['needed_amount'] = needed_amount"
   ]
  },
  {
   "cell_type": "code",
   "execution_count": 9,
   "id": "f139efeb",
   "metadata": {},
   "outputs": [
    {
     "data": {
      "text/plain": [
       "raised_amount    int64\n",
       "needed_amount    int64\n",
       "dtype: object"
      ]
     },
     "execution_count": 9,
     "metadata": {},
     "output_type": "execute_result"
    }
   ],
   "source": [
    "dataset[['raised_amount','needed_amount']].dtypes"
   ]
  },
  {
   "cell_type": "code",
   "execution_count": 10,
   "id": "d4af3a37",
   "metadata": {},
   "outputs": [],
   "source": [
    "#dropping raised,needed column after conversion\n",
    "dataset.drop(['raised','needed'],axis=1,inplace=True)"
   ]
  },
  {
   "cell_type": "markdown",
   "id": "1e7b6547",
   "metadata": {},
   "source": [
    "### check null values in the dataset "
   ]
  },
  {
   "cell_type": "code",
   "execution_count": 11,
   "id": "95ca85f8",
   "metadata": {},
   "outputs": [
    {
     "data": {
      "text/plain": [
       "City                     0\n",
       "State                    0\n",
       "title                    1\n",
       "supporters               0\n",
       "posted_by                0\n",
       "benefited_to             0\n",
       "tax benifits             0\n",
       "AboutBenefittedPerson    0\n",
       "image                    0\n",
       "genuine                  0\n",
       "raised_amount            0\n",
       "needed_amount            0\n",
       "dtype: int64"
      ]
     },
     "execution_count": 11,
     "metadata": {},
     "output_type": "execute_result"
    }
   ],
   "source": [
    "dataset.isnull().sum()"
   ]
  },
  {
   "cell_type": "code",
   "execution_count": 12,
   "id": "1658b359",
   "metadata": {},
   "outputs": [],
   "source": [
    "dataset['title'] = dataset['title'].fillna('unknown')"
   ]
  },
  {
   "cell_type": "markdown",
   "id": "366d348d",
   "metadata": {},
   "source": [
    "# Exploratory Data Analysis "
   ]
  },
  {
   "cell_type": "code",
   "execution_count": 13,
   "id": "772bd99e",
   "metadata": {},
   "outputs": [
    {
     "data": {
      "text/plain": [
       "<AxesSubplot:xlabel='genuine', ylabel='count'>"
      ]
     },
     "execution_count": 13,
     "metadata": {},
     "output_type": "execute_result"
    },
    {
     "data": {
      "image/png": "[encoded data removed]",
      "text/plain": [
       "<Figure size 432x288 with 1 Axes>"
      ]
     },
     "metadata": {
      "needs_background": "light"
     },
     "output_type": "display_data"
    }
   ],
   "source": [
    "sns.countplot(data=dataset,x='genuine')"
   ]
  },
  {
   "cell_type": "markdown",
   "id": "4f4b0ff7",
   "metadata": {},
   "source": [
    "#### We have nearly equal no of labels in predictor attribute. so mostly the predictor attribute is balanced"
   ]
  },
  {
   "cell_type": "code",
   "execution_count": 14,
   "id": "eba90aa8",
   "metadata": {},
   "outputs": [
    {
     "data": {
      "text/plain": [
       "<matplotlib.legend.Legend at 0x1d783e54100>"
      ]
     },
     "execution_count": 14,
     "metadata": {},
     "output_type": "execute_result"
    },
    {
     "data": {
      "image/png": "[encoded data removed]",
      "text/plain": [
       "<Figure size 432x288 with 1 Axes>"
      ]
     },
     "metadata": {
      "needs_background": "light"
     },
     "output_type": "display_data"
    }
   ],
   "source": [
    "sns.countplot(data=dataset,x='tax benifits',hue='genuine')\n",
    "plt.legend()"
   ]
  },
  {
   "cell_type": "markdown",
   "id": "f858a2b1",
   "metadata": {},
   "source": [
    "#### Here the fundraisers who don't have tax benifits are mostly not genuine "
   ]
  },
  {
   "cell_type": "code",
   "execution_count": 15,
   "id": "b9118020",
   "metadata": {},
   "outputs": [
    {
     "data": {
      "text/plain": [
       "<AxesSubplot:xlabel='supporters', ylabel='raised_amount'>"
      ]
     },
     "execution_count": 15,
     "metadata": {},
     "output_type": "execute_result"
    },
    {
     "data": {
      "image/png": "[encoded data removed]",
      "text/plain": [
       "<Figure size 576x288 with 1 Axes>"
      ]
     },
     "metadata": {
      "needs_background": "light"
     },
     "output_type": "display_data"
    }
   ],
   "source": [
    "plt.figure(figsize=(8,4))\n",
    "sns.scatterplot(y='raised_amount',x='supporters',data=dataset,hue='genuine')"
   ]
  },
  {
   "cell_type": "markdown",
   "id": "39b3b9e6",
   "metadata": {},
   "source": [
    "#### Here we see a linear relationship between no of supporters and raised_amount \n",
    "#### Also can see that fundraiser who have gained people's trust is genuine "
   ]
  },
  {
   "cell_type": "code",
   "execution_count": 16,
   "id": "b9eeddd7",
   "metadata": {},
   "outputs": [
    {
     "data": {
      "text/plain": [
       "<AxesSubplot:xlabel='raised_amount', ylabel='Density'>"
      ]
     },
     "execution_count": 16,
     "metadata": {},
     "output_type": "execute_result"
    },
    {
     "data": {
      "image/png": "[encoded data removed]",
      "text/plain": [
       "<Figure size 432x288 with 1 Axes>"
      ]
     },
     "metadata": {
      "needs_background": "light"
     },
     "output_type": "display_data"
    }
   ],
   "source": [
    "sns.distplot(dataset['raised_amount'],bins=30)"
   ]
  },
  {
   "cell_type": "code",
   "execution_count": 17,
   "id": "5d006f43",
   "metadata": {},
   "outputs": [
    {
     "data": {
      "text/plain": [
       "<AxesSubplot:xlabel='needed_amount', ylabel='Density'>"
      ]
     },
     "execution_count": 17,
     "metadata": {},
     "output_type": "execute_result"
    },
    {
     "data": {
      "image/png": "[encoded data removed]",
      "text/plain": [
       "<Figure size 432x288 with 1 Axes>"
      ]
     },
     "metadata": {
      "needs_background": "light"
     },
     "output_type": "display_data"
    }
   ],
   "source": [
    "sns.distplot(dataset['needed_amount'],bins=30)"
   ]
  },
  {
   "cell_type": "code",
   "execution_count": 18,
   "id": "5079fef4",
   "metadata": {},
   "outputs": [
    {
     "data": {
      "text/plain": [
       "<AxesSubplot:xlabel='supporters', ylabel='Density'>"
      ]
     },
     "execution_count": 18,
     "metadata": {},
     "output_type": "execute_result"
    },
    {
     "data": {
      "image/png": "[encoded data removed]",
      "text/plain": [
       "<Figure size 432x288 with 1 Axes>"
      ]
     },
     "metadata": {
      "needs_background": "light"
     },
     "output_type": "display_data"
    }
   ],
   "source": [
    "sns.distplot(dataset['supporters'],bins=30)"
   ]
  },
  {
   "cell_type": "markdown",
   "id": "971312eb",
   "metadata": {},
   "source": [
    "# Categorical features\n"
   ]
  },
  {
   "cell_type": "code",
   "execution_count": 19,
   "id": "45452e85",
   "metadata": {},
   "outputs": [
    {
     "name": "stdout",
     "output_type": "stream",
     "text": [
      "['tax benifits', 'genuine']\n"
     ]
    }
   ],
   "source": [
    "low_cardinality_cols = [col for col in dataset.columns if dataset[col].nunique()<10 and dataset[col].dtype==\"object\"]\n",
    "print(low_cardinality_cols)"
   ]
  },
  {
   "cell_type": "code",
   "execution_count": 20,
   "id": "d5234ed8",
   "metadata": {},
   "outputs": [
    {
     "name": "stdout",
     "output_type": "stream",
     "text": [
      "['City', 'State', 'title', 'posted_by', 'benefited_to', 'AboutBenefittedPerson', 'image']\n"
     ]
    }
   ],
   "source": [
    "high_cardinality_cols = [col for col in dataset.columns if dataset[col].nunique()>10 and dataset[col].dtype==\"object\"]\n",
    "print(high_cardinality_cols)"
   ]
  },
  {
   "cell_type": "code",
   "execution_count": 21,
   "id": "3148fc14",
   "metadata": {},
   "outputs": [],
   "source": [
    "data = dataset.copy()"
   ]
  },
  {
   "cell_type": "code",
   "execution_count": 22,
   "id": "66be0501",
   "metadata": {},
   "outputs": [],
   "source": [
    "data[low_cardinality_cols] = pd.get_dummies(dataset[low_cardinality_cols],drop_first=\"True\")"
   ]
  },
  {
   "cell_type": "markdown",
   "id": "5f90a283",
   "metadata": {},
   "source": [
    "### Replace the state names with probabiltites w.r.t genuine column "
   ]
  },
  {
   "cell_type": "code",
   "execution_count": 23,
   "id": "e36ecba9",
   "metadata": {},
   "outputs": [],
   "source": [
    "by_state = pd.DataFrame(dataset.groupby(['State','genuine']).count())\n",
    "by_state.reset_index(inplace=True)"
   ]
  },
  {
   "cell_type": "code",
   "execution_count": 24,
   "id": "331c5f0a",
   "metadata": {},
   "outputs": [],
   "source": [
    "by_state = by_state.iloc[:,[0,1,2]]"
   ]
  },
  {
   "cell_type": "code",
   "execution_count": 25,
   "id": "26ace68e",
   "metadata": {},
   "outputs": [],
   "source": [
    "state_values = dict(by_state.groupby('State').City.sum())"
   ]
  },
  {
   "cell_type": "code",
   "execution_count": 26,
   "id": "dffea749",
   "metadata": {},
   "outputs": [],
   "source": [
    "prob_by_state = [by_state['City'][i]/state_values[by_state['State'][i]] for i in range(len(by_state['State']))]   "
   ]
  },
  {
   "cell_type": "code",
   "execution_count": 27,
   "id": "c0a78782",
   "metadata": {},
   "outputs": [],
   "source": [
    "by_state['prob_by_state'] = prob_by_state"
   ]
  },
  {
   "cell_type": "code",
   "execution_count": 28,
   "id": "5e8716ee",
   "metadata": {},
   "outputs": [],
   "source": [
    "by_state_no = by_state.loc[by_state['genuine']=='no']\n",
    "by_state_yes = by_state.loc[by_state['genuine']=='yes']"
   ]
  },
  {
   "cell_type": "code",
   "execution_count": 29,
   "id": "f861a672",
   "metadata": {},
   "outputs": [],
   "source": [
    "x1 = list(by_state_yes['State'])\n",
    "y1 = list(by_state_yes['prob_by_state'])\n",
    "x2 = list(by_state_no['State'])\n",
    "y2 = list(by_state_no['prob_by_state']) "
   ]
  },
  {
   "cell_type": "code",
   "execution_count": 30,
   "id": "8fa5fc67",
   "metadata": {
    "scrolled": true
   },
   "outputs": [],
   "source": [
    "data_y = data.loc[data['genuine']==1]\n",
    "data_y['State1'] = data_y['State'].replace(x1,y1)"
   ]
  },
  {
   "cell_type": "code",
   "execution_count": 31,
   "id": "df379a57",
   "metadata": {},
   "outputs": [],
   "source": [
    "data_n = data.loc[data['genuine']==0]\n",
    "data_n['State1'] = data_n['State'].replace(x2,y2)"
   ]
  },
  {
   "cell_type": "code",
   "execution_count": 32,
   "id": "e38e71cc",
   "metadata": {},
   "outputs": [],
   "source": [
    "data = pd.concat([data_n,data_y])"
   ]
  },
  {
   "cell_type": "code",
   "execution_count": 33,
   "id": "03df4d5c",
   "metadata": {},
   "outputs": [],
   "source": [
    "def state(string):\n",
    "    try:\n",
    "        return abs(float(by_state_no.loc[by_state_no['State']==string]['prob_by_state'])-float(by_state_yes.loc[by_state_yes['State']==string]['prob_by_state']))\n",
    "    except:\n",
    "        return 0\n",
    "    \n",
    "data['statediff'] = data.State.map(state)"
   ]
  },
  {
   "cell_type": "markdown",
   "id": "9916b996",
   "metadata": {},
   "source": [
    "#### Tokenization — convert sentences to words\n",
    "#### Removing unnecessary punctuation, tags Removing stop words — frequent words such as ”the”, ”is”, etc. that do not have specific semantic\n",
    "#### Stemming — words are reduced to a root by removing inflection through dropping unnecessary characters, usually a suffix.\n",
    "#### Lemmatization — Another approach to remove inflection by determining the part of speech and utilizing detailed database of the language."
   ]
  },
  {
   "cell_type": "code",
   "execution_count": 34,
   "id": "caaa2a9d",
   "metadata": {},
   "outputs": [],
   "source": [
    "import nltk\n",
    "from nltk.tokenize import word_tokenize\n",
    "titles = dataset.title.str.cat(sep=' ')"
   ]
  },
  {
   "cell_type": "code",
   "execution_count": 35,
   "id": "653d86ec",
   "metadata": {},
   "outputs": [
    {
     "name": "stdout",
     "output_type": "stream",
     "text": [
      "1997\n"
     ]
    }
   ],
   "source": [
    "tokens = word_tokenize(titles)\n",
    "vocabulary = set(tokens)\n",
    "print(len(vocabulary))"
   ]
  },
  {
   "cell_type": "code",
   "execution_count": 36,
   "id": "ab39d4cd",
   "metadata": {},
   "outputs": [],
   "source": [
    "frequency_dist = nltk.FreqDist(tokens)\n",
    "repeated_words = sorted(frequency_dist,key=frequency_dist.__getitem__, reverse=True)[0:75]"
   ]
  },
  {
   "cell_type": "code",
   "execution_count": 37,
   "id": "d4f5ab11",
   "metadata": {},
   "outputs": [],
   "source": [
    "repeated_words = [i.upper() for i in repeated_words]"
   ]
  },
  {
   "cell_type": "code",
   "execution_count": 38,
   "id": "aa16f5ac",
   "metadata": {},
   "outputs": [],
   "source": [
    "repeated_words_new = []\n",
    "\n",
    "for i in range(len(repeated_words)):\n",
    "    words = re.sub(\"[)!&,.''(]\",'',repeated_words[i])\n",
    "    repeated_words_new.append(words)\n",
    "repeated_words = list(set(repeated_words_new))    "
   ]
  },
  {
   "cell_type": "code",
   "execution_count": 39,
   "id": "a0790c97",
   "metadata": {},
   "outputs": [],
   "source": [
    "repeated_words.sort()\n",
    "repeated_words = repeated_words[1:]"
   ]
  },
  {
   "cell_type": "code",
   "execution_count": 40,
   "id": "1ca5031f",
   "metadata": {
    "scrolled": true
   },
   "outputs": [
    {
     "data": {
      "image/png": "[encoded data removed]",
      "text/plain": [
       "<Figure size 720x432 with 1 Axes>"
      ]
     },
     "metadata": {
      "needs_background": "light"
     },
     "output_type": "display_data"
    }
   ],
   "source": [
    "from wordcloud import WordCloud\n",
    "import matplotlib.pyplot as plt\n",
    "wordcloud = WordCloud()\n",
    "wordcloud.generate_from_frequencies(frequency_dist)\n",
    "plt.figure(figsize=(10,6))\n",
    "plt.imshow(wordcloud)\n",
    "plt.axis(\"off\")\n",
    "plt.show()"
   ]
  },
  {
   "cell_type": "markdown",
   "id": "0322d433",
   "metadata": {},
   "source": [
    "## Jaccard similairty"
   ]
  },
  {
   "cell_type": "code",
   "execution_count": 41,
   "id": "0241fb46",
   "metadata": {},
   "outputs": [],
   "source": [
    "def regex_string(column_name):\n",
    "    new_column = []\n",
    "    string = ''\n",
    "    for i in range(len(data[column_name])):\n",
    "        string = re.sub(\"[!&',.0-9]\",'',data[column_name][i].upper())\n",
    "        string = re.sub(data['benefited_to'][0].upper(),\"\",string)\n",
    "        string = re.sub(data['posted_by'][0].upper(),\"\",string)\n",
    "        new_column.append(string)\n",
    "    return new_column    "
   ]
  },
  {
   "cell_type": "code",
   "execution_count": 42,
   "id": "a68cf8b0",
   "metadata": {},
   "outputs": [],
   "source": [
    "def jaccard(list1, list2):\n",
    "    intersection = len(list(set(list1).intersection(list2)))\n",
    "    union = (len(list1) + len(list2)) - intersection\n",
    "    return np.round((intersection/union),4)"
   ]
  },
  {
   "cell_type": "code",
   "execution_count": 43,
   "id": "16203fb6",
   "metadata": {},
   "outputs": [],
   "source": [
    "data['new_title'] = regex_string('title')"
   ]
  },
  {
   "cell_type": "code",
   "execution_count": 44,
   "id": "77ebfe15",
   "metadata": {},
   "outputs": [],
   "source": [
    "jaccard_sim = []\n",
    "for i in range(len(data['title'])):\n",
    "    jaccard_sim.append(jaccard(repeated_words,data['new_title'][i].split(\" \")))"
   ]
  },
  {
   "cell_type": "code",
   "execution_count": 45,
   "id": "558ad614",
   "metadata": {},
   "outputs": [],
   "source": [
    "data['jaccard_title'] = jaccard_sim"
   ]
  },
  {
   "cell_type": "markdown",
   "id": "3cbcde28",
   "metadata": {},
   "source": [
    "### drop high cardinality cols"
   ]
  },
  {
   "cell_type": "code",
   "execution_count": 46,
   "id": "7de445af",
   "metadata": {},
   "outputs": [],
   "source": [
    "data1 = data.copy()"
   ]
  },
  {
   "cell_type": "code",
   "execution_count": 47,
   "id": "5650affc",
   "metadata": {},
   "outputs": [],
   "source": [
    "data1 = data.drop(high_cardinality_cols,axis=1)"
   ]
  },
  {
   "cell_type": "code",
   "execution_count": 48,
   "id": "8815ef79",
   "metadata": {},
   "outputs": [],
   "source": [
    "data1.drop('new_title',axis=1,inplace=True)"
   ]
  },
  {
   "cell_type": "markdown",
   "id": "87bc3e94",
   "metadata": {},
   "source": [
    "## Handling numerical columns "
   ]
  },
  {
   "cell_type": "markdown",
   "id": "08bacdc6",
   "metadata": {},
   "source": [
    "### For raised_amount,needed_amount column"
   ]
  },
  {
   "cell_type": "code",
   "execution_count": 49,
   "id": "22974b6f",
   "metadata": {},
   "outputs": [],
   "source": [
    "data1['perc_collected'] =  data1['raised_amount']/data1['needed_amount'] "
   ]
  },
  {
   "cell_type": "code",
   "execution_count": 50,
   "id": "9f4059d6",
   "metadata": {},
   "outputs": [],
   "source": [
    "def remove_outliers(dataset,column_name):\n",
    "    Q1 = np.quantile(dataset[column_name],0.25)\n",
    "    Q3 = np.quantile(dataset[column_name],0.75)\n",
    "    IQR = Q3-Q1\n",
    "    lower = Q1-1.5*IQR\n",
    "    higher= Q3+1.5*IQR\n",
    "    not_outliers = list(dataset[column_name].loc[(dataset[column_name]>lower) & (dataset[column_name]<higher)].index)\n",
    "    dataset_new = dataset.iloc[not_outliers,:]\n",
    "    return dataset_new"
   ]
  },
  {
   "cell_type": "code",
   "execution_count": 51,
   "id": "9163e994",
   "metadata": {},
   "outputs": [],
   "source": [
    "def make_quantiles(dataset,column_name):\n",
    "    quantiles = list(np.quantile(dataset[column_name],[0,0.25,0.5,0.75,1]))\n",
    "    return quantiles"
   ]
  },
  {
   "cell_type": "code",
   "execution_count": 52,
   "id": "b020ab85",
   "metadata": {},
   "outputs": [],
   "source": [
    "def make_slab(data):\n",
    "    if data>=quantiles[0] and data<quantiles[1]:\n",
    "        return 1\n",
    "    elif data>=quantiles[1] and data<quantiles[2]:\n",
    "        return 2\n",
    "    elif data>=quantiles[2] and data<quantiles[3]:\n",
    "        return 3\n",
    "    elif data>=quantiles[3] and data<quantiles[4]:\n",
    "        return 4\n",
    "    else:\n",
    "        return 5"
   ]
  },
  {
   "cell_type": "markdown",
   "id": "ce35d100",
   "metadata": {},
   "source": [
    "### supporters_slab"
   ]
  },
  {
   "cell_type": "code",
   "execution_count": 53,
   "id": "7b9ae694",
   "metadata": {},
   "outputs": [],
   "source": [
    "data_new = remove_outliers(data1,'supporters')\n",
    "quantiles = make_quantiles(data_new,'supporters')\n",
    "supporters_slab = data1.supporters.map(make_slab)\n",
    "data1['supporters_slab'] = supporters_slab"
   ]
  },
  {
   "cell_type": "code",
   "execution_count": 54,
   "id": "b87cd8fc",
   "metadata": {},
   "outputs": [
    {
     "data": {
      "text/plain": [
       "[1.0, 4.0, 23.0, 87.75, 13724.0]"
      ]
     },
     "execution_count": 54,
     "metadata": {},
     "output_type": "execute_result"
    }
   ],
   "source": [
    "quantiles"
   ]
  },
  {
   "cell_type": "markdown",
   "id": "f489492e",
   "metadata": {},
   "source": [
    "### raised_slab"
   ]
  },
  {
   "cell_type": "code",
   "execution_count": 55,
   "id": "06e51765",
   "metadata": {},
   "outputs": [],
   "source": [
    "data_new = remove_outliers(data1,'raised_amount')\n",
    "quantiles = make_quantiles(data_new,'raised_amount')\n",
    "raised_slab =data1.raised_amount.map(make_slab)\n",
    "data1['raised_slab'] = raised_slab"
   ]
  },
  {
   "cell_type": "code",
   "execution_count": 56,
   "id": "c042d5f5",
   "metadata": {},
   "outputs": [
    {
     "data": {
      "text/plain": [
       "[1.0, 2220.0, 20221.5, 121575.0, 23018313.0]"
      ]
     },
     "execution_count": 56,
     "metadata": {},
     "output_type": "execute_result"
    }
   ],
   "source": [
    "quantiles"
   ]
  },
  {
   "cell_type": "markdown",
   "id": "a2eb9295",
   "metadata": {},
   "source": [
    "### needed_slab"
   ]
  },
  {
   "cell_type": "code",
   "execution_count": 57,
   "id": "eac9dce7",
   "metadata": {},
   "outputs": [],
   "source": [
    "data_new = remove_outliers(data1,'needed_amount')\n",
    "quantiles = make_quantiles(data_new,'needed_amount')\n",
    "needed_slab = data1.needed_amount.map(make_slab)\n",
    "data1['needed_slab'] = needed_slab"
   ]
  },
  {
   "cell_type": "code",
   "execution_count": 58,
   "id": "8e81c13e",
   "metadata": {},
   "outputs": [
    {
     "data": {
      "text/plain": [
       "[5000.0, 380000.0, 800000.0, 1500000.0, 160000000.0]"
      ]
     },
     "execution_count": 58,
     "metadata": {},
     "output_type": "execute_result"
    }
   ],
   "source": [
    "quantiles"
   ]
  },
  {
   "cell_type": "markdown",
   "id": "6013dd4d",
   "metadata": {},
   "source": [
    "### Split the data "
   ]
  },
  {
   "cell_type": "code",
   "execution_count": 59,
   "id": "591a4ff7",
   "metadata": {},
   "outputs": [],
   "source": [
    "data1['tax benifits'] = data1['tax benifits'].astype('int64')\n",
    "data1['genuine'] = data1['genuine'].astype('int64')"
   ]
  },
  {
   "cell_type": "code",
   "execution_count": 60,
   "id": "cb51b242",
   "metadata": {},
   "outputs": [],
   "source": [
    "X = data1.drop(['genuine'],axis=1)\n",
    "y = data1['genuine']\n"
   ]
  },
  {
   "cell_type": "code",
   "execution_count": 61,
   "id": "5d771817",
   "metadata": {
    "scrolled": true
   },
   "outputs": [
    {
     "name": "stdout",
     "output_type": "stream",
     "text": [
      "(1053, 11) (1053,)\n"
     ]
    }
   ],
   "source": [
    "print(X.shape,y.shape)"
   ]
  },
  {
   "cell_type": "code",
   "execution_count": 62,
   "id": "e5e44672",
   "metadata": {},
   "outputs": [],
   "source": [
    "\n",
    "X_train, X_test, y_train, y_test = train_test_split(X, y, test_size=0.33, random_state=42,stratify=y)"
   ]
  },
  {
   "cell_type": "markdown",
   "id": "a8b5a937",
   "metadata": {},
   "source": [
    "## Hyperparamter tuning using Randomsearchcv  "
   ]
  },
  {
   "cell_type": "markdown",
   "id": "455a89fe",
   "metadata": {},
   "source": [
    "#### for Decisiontree"
   ]
  },
  {
   "cell_type": "code",
   "execution_count": 63,
   "id": "063a086a",
   "metadata": {},
   "outputs": [
    {
     "name": "stdout",
     "output_type": "stream",
     "text": [
      "              precision    recall  f1-score   support\n",
      "\n",
      "           0       0.76      0.82      0.79       174\n",
      "           1       0.81      0.75      0.78       174\n",
      "\n",
      "    accuracy                           0.78       348\n",
      "   macro avg       0.79      0.78      0.78       348\n",
      "weighted avg       0.79      0.78      0.78       348\n",
      "\n"
     ]
    }
   ],
   "source": [
    "dt = DecisionTreeClassifier()\n",
    "dt.fit(X_train,y_train)\n",
    "preds = dt.predict(X_test)\n",
    "print(classification_report(y_test,preds))"
   ]
  },
  {
   "cell_type": "code",
   "execution_count": 64,
   "id": "2f023a25",
   "metadata": {},
   "outputs": [],
   "source": [
    "DecisionTreeClassifier()\n",
    "\n",
    "\n",
    "max_depth = [int(x) for x in np.linspace(10, 900,10)]\n",
    "\n",
    "min_samples_split = [int(x) for x in np.linspace(2,100,1)]\n",
    "\n",
    "min_samples_leaf = [int(x) for x in np.linspace(1,100,1)]\n",
    "\n",
    "max_leaf_nodes = [int(x) for x in np.linspace(10, 900,10)]\n",
    "\n",
    "ccp_alpha10         = [np.round(random.random()/10,4) for x in range(1,100)]\n",
    "ccp_alpha100        = [np.round(random.random()/100,4) for x in range(1,100)]\n",
    "ccp_alpha1000       = [np.round(random.random()/1000,4) for x in range(1,100)]\n",
    "\n",
    "ccp_alpha           = ccp_alpha10+ccp_alpha100+ccp_alpha1000\n",
    "\n",
    "\n",
    "random_grid = {'max_depth': max_depth,\n",
    "               'min_samples_split': min_samples_split,\n",
    "               'min_samples_leaf': min_samples_leaf,\n",
    "              'criterion':['entropy','gini'],\n",
    "              'ccp_alpha':ccp_alpha,\n",
    "              'max_leaf_nodes':max_leaf_nodes}"
   ]
  },
  {
   "cell_type": "code",
   "execution_count": 65,
   "id": "8a776949",
   "metadata": {},
   "outputs": [
    {
     "data": {
      "text/html": [
       "<style>#sk-container-id-1 {color: black;background-color: white;}#sk-container-id-1 pre{padding: 0;}#sk-container-id-1 div.sk-toggleable {background-color: white;}#sk-container-id-1 label.sk-toggleable__label {cursor: pointer;display: block;width: 100%;margin-bottom: 0;padding: 0.3em;box-sizing: border-box;text-align: center;}#sk-container-id-1 label.sk-toggleable__label-arrow:before {content: \"▸\";float: left;margin-right: 0.25em;color: #696969;}#sk-container-id-1 label.sk-toggleable__label-arrow:hover:before {color: black;}#sk-container-id-1 div.sk-estimator:hover label.sk-toggleable__label-arrow:before {color: black;}#sk-container-id-1 div.sk-toggleable__content {max-height: 0;max-width: 0;overflow: hidden;text-align: left;background-color: #f0f8ff;}#sk-container-id-1 div.sk-toggleable__content pre {margin: 0.2em;color: black;border-radius: 0.25em;background-color: #f0f8ff;}#sk-container-id-1 input.sk-toggleable__control:checked~div.sk-toggleable__content {max-height: 200px;max-width: 100%;overflow: auto;}#sk-container-id-1 input.sk-toggleable__control:checked~label.sk-toggleable__label-arrow:before {content: \"▾\";}#sk-container-id-1 div.sk-estimator input.sk-toggleable__control:checked~label.sk-toggleable__label {background-color: #d4ebff;}#sk-container-id-1 div.sk-label input.sk-toggleable__control:checked~label.sk-toggleable__label {background-color: #d4ebff;}#sk-container-id-1 input.sk-hidden--visually {border: 0;clip: rect(1px 1px 1px 1px);clip: rect(1px, 1px, 1px, 1px);height: 1px;margin: -1px;overflow: hidden;padding: 0;position: absolute;width: 1px;}#sk-container-id-1 div.sk-estimator {font-family: monospace;background-color: #f0f8ff;border: 1px dotted black;border-radius: 0.25em;box-sizing: border-box;margin-bottom: 0.5em;}#sk-container-id-1 div.sk-estimator:hover {background-color: #d4ebff;}#sk-container-id-1 div.sk-parallel-item::after {content: \"\";width: 100%;border-bottom: 1px solid gray;flex-grow: 1;}#sk-container-id-1 div.sk-label:hover label.sk-toggleable__label {background-color: #d4ebff;}#sk-container-id-1 div.sk-serial::before {content: \"\";position: absolute;border-left: 1px solid gray;box-sizing: border-box;top: 0;bottom: 0;left: 50%;z-index: 0;}#sk-container-id-1 div.sk-serial {display: flex;flex-direction: column;align-items: center;background-color: white;padding-right: 0.2em;padding-left: 0.2em;position: relative;}#sk-container-id-1 div.sk-item {position: relative;z-index: 1;}#sk-container-id-1 div.sk-parallel {display: flex;align-items: stretch;justify-content: center;background-color: white;position: relative;}#sk-container-id-1 div.sk-item::before, #sk-container-id-1 div.sk-parallel-item::before {content: \"\";position: absolute;border-left: 1px solid gray;box-sizing: border-box;top: 0;bottom: 0;left: 50%;z-index: -1;}#sk-container-id-1 div.sk-parallel-item {display: flex;flex-direction: column;z-index: 1;position: relative;background-color: white;}#sk-container-id-1 div.sk-parallel-item:first-child::after {align-self: flex-end;width: 50%;}#sk-container-id-1 div.sk-parallel-item:last-child::after {align-self: flex-start;width: 50%;}#sk-container-id-1 div.sk-parallel-item:only-child::after {width: 0;}#sk-container-id-1 div.sk-dashed-wrapped {border: 1px dashed gray;margin: 0 0.4em 0.5em 0.4em;box-sizing: border-box;padding-bottom: 0.4em;background-color: white;}#sk-container-id-1 div.sk-label label {font-family: monospace;font-weight: bold;display: inline-block;line-height: 1.2em;}#sk-container-id-1 div.sk-label-container {text-align: center;}#sk-container-id-1 div.sk-container {/* jupyter's `normalize.less` sets `[hidden] { display: none; }` but bootstrap.min.css set `[hidden] { display: none !important; }` so we also need the `!important` here to be able to override the default hidden behavior on the sphinx rendered scikit-learn.org. See: https://github.com/scikit-learn/scikit-learn/issues/21755 */display: inline-block !important;position: relative;}#sk-container-id-1 div.sk-text-repr-fallback {display: none;}</style><div id=\"sk-container-id-1\" class=\"sk-top-container\"><div class=\"sk-text-repr-fallback\"><pre>RandomizedSearchCV(estimator=DecisionTreeClassifier(), n_jobs=-1,\n",
       "                   param_distributions={&#x27;ccp_alpha&#x27;: [0.0195, 0.0719, 0.0857,\n",
       "                                                      0.0544, 0.0597, 0.0072,\n",
       "                                                      0.0025, 0.0331, 0.0307,\n",
       "                                                      0.019, 0.017, 0.0057,\n",
       "                                                      0.0311, 0.0221, 0.0899,\n",
       "                                                      0.0838, 0.096, 0.047,\n",
       "                                                      0.0605, 0.0145, 0.0343,\n",
       "                                                      0.021, 0.0114, 0.0437,\n",
       "                                                      0.0801, 0.0323, 0.0177,\n",
       "                                                      0.0881, 0.0736, 0.0561, ...],\n",
       "                                        &#x27;criterion&#x27;: [&#x27;entropy&#x27;, &#x27;gini&#x27;],\n",
       "                                        &#x27;max_depth&#x27;: [10, 108, 207, 306, 405,\n",
       "                                                      504, 603, 702, 801, 900],\n",
       "                                        &#x27;max_leaf_nodes&#x27;: [10, 108, 207, 306,\n",
       "                                                           405, 504, 603, 702,\n",
       "                                                           801, 900],\n",
       "                                        &#x27;min_samples_leaf&#x27;: [1],\n",
       "                                        &#x27;min_samples_split&#x27;: [2]})</pre><b>In a Jupyter environment, please rerun this cell to show the HTML representation or trust the notebook. <br />On GitHub, the HTML representation is unable to render, please try loading this page with nbviewer.org.</b></div><div class=\"sk-container\" hidden><div class=\"sk-item sk-dashed-wrapped\"><div class=\"sk-label-container\"><div class=\"sk-label sk-toggleable\"><input class=\"sk-toggleable__control sk-hidden--visually\" id=\"sk-estimator-id-1\" type=\"checkbox\" ><label for=\"sk-estimator-id-1\" class=\"sk-toggleable__label sk-toggleable__label-arrow\">RandomizedSearchCV</label><div class=\"sk-toggleable__content\"><pre>RandomizedSearchCV(estimator=DecisionTreeClassifier(), n_jobs=-1,\n",
       "                   param_distributions={&#x27;ccp_alpha&#x27;: [0.0195, 0.0719, 0.0857,\n",
       "                                                      0.0544, 0.0597, 0.0072,\n",
       "                                                      0.0025, 0.0331, 0.0307,\n",
       "                                                      0.019, 0.017, 0.0057,\n",
       "                                                      0.0311, 0.0221, 0.0899,\n",
       "                                                      0.0838, 0.096, 0.047,\n",
       "                                                      0.0605, 0.0145, 0.0343,\n",
       "                                                      0.021, 0.0114, 0.0437,\n",
       "                                                      0.0801, 0.0323, 0.0177,\n",
       "                                                      0.0881, 0.0736, 0.0561, ...],\n",
       "                                        &#x27;criterion&#x27;: [&#x27;entropy&#x27;, &#x27;gini&#x27;],\n",
       "                                        &#x27;max_depth&#x27;: [10, 108, 207, 306, 405,\n",
       "                                                      504, 603, 702, 801, 900],\n",
       "                                        &#x27;max_leaf_nodes&#x27;: [10, 108, 207, 306,\n",
       "                                                           405, 504, 603, 702,\n",
       "                                                           801, 900],\n",
       "                                        &#x27;min_samples_leaf&#x27;: [1],\n",
       "                                        &#x27;min_samples_split&#x27;: [2]})</pre></div></div></div><div class=\"sk-parallel\"><div class=\"sk-parallel-item\"><div class=\"sk-item\"><div class=\"sk-label-container\"><div class=\"sk-label sk-toggleable\"><input class=\"sk-toggleable__control sk-hidden--visually\" id=\"sk-estimator-id-2\" type=\"checkbox\" ><label for=\"sk-estimator-id-2\" class=\"sk-toggleable__label sk-toggleable__label-arrow\">estimator: DecisionTreeClassifier</label><div class=\"sk-toggleable__content\"><pre>DecisionTreeClassifier()</pre></div></div></div><div class=\"sk-serial\"><div class=\"sk-item\"><div class=\"sk-estimator sk-toggleable\"><input class=\"sk-toggleable__control sk-hidden--visually\" id=\"sk-estimator-id-3\" type=\"checkbox\" ><label for=\"sk-estimator-id-3\" class=\"sk-toggleable__label sk-toggleable__label-arrow\">DecisionTreeClassifier</label><div class=\"sk-toggleable__content\"><pre>DecisionTreeClassifier()</pre></div></div></div></div></div></div></div></div></div></div>"
      ],
      "text/plain": [
       "RandomizedSearchCV(estimator=DecisionTreeClassifier(), n_jobs=-1,\n",
       "                   param_distributions={'ccp_alpha': [0.0195, 0.0719, 0.0857,\n",
       "                                                      0.0544, 0.0597, 0.0072,\n",
       "                                                      0.0025, 0.0331, 0.0307,\n",
       "                                                      0.019, 0.017, 0.0057,\n",
       "                                                      0.0311, 0.0221, 0.0899,\n",
       "                                                      0.0838, 0.096, 0.047,\n",
       "                                                      0.0605, 0.0145, 0.0343,\n",
       "                                                      0.021, 0.0114, 0.0437,\n",
       "                                                      0.0801, 0.0323, 0.0177,\n",
       "                                                      0.0881, 0.0736, 0.0561, ...],\n",
       "                                        'criterion': ['entropy', 'gini'],\n",
       "                                        'max_depth': [10, 108, 207, 306, 405,\n",
       "                                                      504, 603, 702, 801, 900],\n",
       "                                        'max_leaf_nodes': [10, 108, 207, 306,\n",
       "                                                           405, 504, 603, 702,\n",
       "                                                           801, 900],\n",
       "                                        'min_samples_leaf': [1],\n",
       "                                        'min_samples_split': [2]})"
      ]
     },
     "execution_count": 65,
     "metadata": {},
     "output_type": "execute_result"
    }
   ],
   "source": [
    "dt1 = DecisionTreeClassifier()\n",
    "dt_randomcv = RandomizedSearchCV(estimator=dt1,param_distributions=random_grid,n_jobs=-1)\n",
    "dt_randomcv.fit(X_train,y_train)"
   ]
  },
  {
   "cell_type": "code",
   "execution_count": 66,
   "id": "a22dcfc3",
   "metadata": {},
   "outputs": [
    {
     "data": {
      "text/plain": [
       "{'min_samples_split': 2,\n",
       " 'min_samples_leaf': 1,\n",
       " 'max_leaf_nodes': 306,\n",
       " 'max_depth': 504,\n",
       " 'criterion': 'entropy',\n",
       " 'ccp_alpha': 0.0022}"
      ]
     },
     "execution_count": 66,
     "metadata": {},
     "output_type": "execute_result"
    }
   ],
   "source": [
    "params_dt = dt_randomcv.best_params_\n",
    "params_dt"
   ]
  },
  {
   "cell_type": "code",
   "execution_count": 67,
   "id": "e2b3cc5a",
   "metadata": {},
   "outputs": [
    {
     "name": "stdout",
     "output_type": "stream",
     "text": [
      "              precision    recall  f1-score   support\n",
      "\n",
      "           0       0.83      0.89      0.86       174\n",
      "           1       0.88      0.82      0.85       174\n",
      "\n",
      "    accuracy                           0.85       348\n",
      "   macro avg       0.85      0.85      0.85       348\n",
      "weighted avg       0.85      0.85      0.85       348\n",
      "\n"
     ]
    }
   ],
   "source": [
    "dt = DecisionTreeClassifier(min_samples_leaf=params_dt['min_samples_leaf'],\n",
    "                            min_samples_split=params_dt['min_samples_split'],\n",
    "                           max_leaf_nodes=params_dt['max_leaf_nodes'],\n",
    "                           max_features=len(X_train.columns),\n",
    "                           max_depth=params_dt['max_depth'],\n",
    "                           criterion=params_dt['criterion'],\n",
    "                           ccp_alpha=params_dt['ccp_alpha'])\n",
    "dt.fit(X_train,y_train)\n",
    "preds = dt.predict(X_test)\n",
    "print(classification_report(y_test,preds))"
   ]
  },
  {
   "cell_type": "markdown",
   "id": "2303aa22",
   "metadata": {},
   "source": [
    "#### for RandomForest"
   ]
  },
  {
   "cell_type": "code",
   "execution_count": 68,
   "id": "cf02dac8",
   "metadata": {},
   "outputs": [
    {
     "name": "stdout",
     "output_type": "stream",
     "text": [
      "              precision    recall  f1-score   support\n",
      "\n",
      "           0       0.79      0.83      0.81       174\n",
      "           1       0.82      0.78      0.80       174\n",
      "\n",
      "    accuracy                           0.80       348\n",
      "   macro avg       0.80      0.80      0.80       348\n",
      "weighted avg       0.80      0.80      0.80       348\n",
      "\n"
     ]
    }
   ],
   "source": [
    "rf = RandomForestClassifier()\n",
    "rf.fit(X_train,y_train)\n",
    "preds = rf.predict(X_test)\n",
    "print(classification_report(y_test,preds))"
   ]
  },
  {
   "cell_type": "code",
   "execution_count": 69,
   "id": "85f0946f",
   "metadata": {},
   "outputs": [],
   "source": [
    "\n",
    "\n",
    "n_estimators = [int(x) for x in np.linspace(start = 200, stop = 1000, num = 10)]\n",
    "\n",
    "\n",
    "max_depth = [int(x) for x in np.linspace(10, 900,10)]\n",
    "\n",
    "min_samples_split = [int(x) for x in np.linspace(2,100,1)]\n",
    "\n",
    "min_samples_leaf = [int(x) for x in np.linspace(1,100,1)]\n",
    "\n",
    "ccp_alpha10         = [np.round(random.random()/10,4) for x in range(1,100)]\n",
    "ccp_alpha100        = [np.round(random.random()/100,4) for x in range(1,100)]\n",
    "ccp_alpha1000       = [np.round(random.random()/1000,4) for x in range(1,100)]\n",
    "\n",
    "ccp_alpha           = ccp_alpha10+ccp_alpha100+ccp_alpha1000\n",
    "\n",
    "class_weight     = ['balanced','balanced_subsample']\n",
    "\n",
    "random_grid = {'n_estimators': n_estimators,\n",
    "               'max_depth': max_depth,\n",
    "               'min_samples_split': min_samples_split,\n",
    "               'min_samples_leaf': min_samples_leaf,\n",
    "              'criterion':['entropy','gini'],\n",
    "              'ccp_alpha':ccp_alpha,\n",
    "              'class_weight':class_weight}"
   ]
  },
  {
   "cell_type": "code",
   "execution_count": 70,
   "id": "154079ae",
   "metadata": {},
   "outputs": [
    {
     "data": {
      "text/html": [
       "<style>#sk-container-id-2 {color: black;background-color: white;}#sk-container-id-2 pre{padding: 0;}#sk-container-id-2 div.sk-toggleable {background-color: white;}#sk-container-id-2 label.sk-toggleable__label {cursor: pointer;display: block;width: 100%;margin-bottom: 0;padding: 0.3em;box-sizing: border-box;text-align: center;}#sk-container-id-2 label.sk-toggleable__label-arrow:before {content: \"▸\";float: left;margin-right: 0.25em;color: #696969;}#sk-container-id-2 label.sk-toggleable__label-arrow:hover:before {color: black;}#sk-container-id-2 div.sk-estimator:hover label.sk-toggleable__label-arrow:before {color: black;}#sk-container-id-2 div.sk-toggleable__content {max-height: 0;max-width: 0;overflow: hidden;text-align: left;background-color: #f0f8ff;}#sk-container-id-2 div.sk-toggleable__content pre {margin: 0.2em;color: black;border-radius: 0.25em;background-color: #f0f8ff;}#sk-container-id-2 input.sk-toggleable__control:checked~div.sk-toggleable__content {max-height: 200px;max-width: 100%;overflow: auto;}#sk-container-id-2 input.sk-toggleable__control:checked~label.sk-toggleable__label-arrow:before {content: \"▾\";}#sk-container-id-2 div.sk-estimator input.sk-toggleable__control:checked~label.sk-toggleable__label {background-color: #d4ebff;}#sk-container-id-2 div.sk-label input.sk-toggleable__control:checked~label.sk-toggleable__label {background-color: #d4ebff;}#sk-container-id-2 input.sk-hidden--visually {border: 0;clip: rect(1px 1px 1px 1px);clip: rect(1px, 1px, 1px, 1px);height: 1px;margin: -1px;overflow: hidden;padding: 0;position: absolute;width: 1px;}#sk-container-id-2 div.sk-estimator {font-family: monospace;background-color: #f0f8ff;border: 1px dotted black;border-radius: 0.25em;box-sizing: border-box;margin-bottom: 0.5em;}#sk-container-id-2 div.sk-estimator:hover {background-color: #d4ebff;}#sk-container-id-2 div.sk-parallel-item::after {content: \"\";width: 100%;border-bottom: 1px solid gray;flex-grow: 1;}#sk-container-id-2 div.sk-label:hover label.sk-toggleable__label {background-color: #d4ebff;}#sk-container-id-2 div.sk-serial::before {content: \"\";position: absolute;border-left: 1px solid gray;box-sizing: border-box;top: 0;bottom: 0;left: 50%;z-index: 0;}#sk-container-id-2 div.sk-serial {display: flex;flex-direction: column;align-items: center;background-color: white;padding-right: 0.2em;padding-left: 0.2em;position: relative;}#sk-container-id-2 div.sk-item {position: relative;z-index: 1;}#sk-container-id-2 div.sk-parallel {display: flex;align-items: stretch;justify-content: center;background-color: white;position: relative;}#sk-container-id-2 div.sk-item::before, #sk-container-id-2 div.sk-parallel-item::before {content: \"\";position: absolute;border-left: 1px solid gray;box-sizing: border-box;top: 0;bottom: 0;left: 50%;z-index: -1;}#sk-container-id-2 div.sk-parallel-item {display: flex;flex-direction: column;z-index: 1;position: relative;background-color: white;}#sk-container-id-2 div.sk-parallel-item:first-child::after {align-self: flex-end;width: 50%;}#sk-container-id-2 div.sk-parallel-item:last-child::after {align-self: flex-start;width: 50%;}#sk-container-id-2 div.sk-parallel-item:only-child::after {width: 0;}#sk-container-id-2 div.sk-dashed-wrapped {border: 1px dashed gray;margin: 0 0.4em 0.5em 0.4em;box-sizing: border-box;padding-bottom: 0.4em;background-color: white;}#sk-container-id-2 div.sk-label label {font-family: monospace;font-weight: bold;display: inline-block;line-height: 1.2em;}#sk-container-id-2 div.sk-label-container {text-align: center;}#sk-container-id-2 div.sk-container {/* jupyter's `normalize.less` sets `[hidden] { display: none; }` but bootstrap.min.css set `[hidden] { display: none !important; }` so we also need the `!important` here to be able to override the default hidden behavior on the sphinx rendered scikit-learn.org. See: https://github.com/scikit-learn/scikit-learn/issues/21755 */display: inline-block !important;position: relative;}#sk-container-id-2 div.sk-text-repr-fallback {display: none;}</style><div id=\"sk-container-id-2\" class=\"sk-top-container\"><div class=\"sk-text-repr-fallback\"><pre>RandomizedSearchCV(estimator=RandomForestClassifier(), n_jobs=-1,\n",
       "                   param_distributions={&#x27;ccp_alpha&#x27;: [0.0041, 0.0775, 0.0231,\n",
       "                                                      0.0692, 0.0673, 0.0206,\n",
       "                                                      0.0439, 0.0889, 0.0083,\n",
       "                                                      0.0234, 0.0035, 0.0271,\n",
       "                                                      0.0592, 0.0448, 0.0576,\n",
       "                                                      0.0564, 0.0863, 0.0465,\n",
       "                                                      0.0231, 0.0167, 0.0309,\n",
       "                                                      0.0007, 0.0782, 0.0703,\n",
       "                                                      0.0502, 0.0085, 0.0135,\n",
       "                                                      0.081, 0.0833, 0.0948, ...],\n",
       "                                        &#x27;class_weight&#x27;: [&#x27;balanced&#x27;,\n",
       "                                                         &#x27;balanced_subsample&#x27;],\n",
       "                                        &#x27;criterion&#x27;: [&#x27;entropy&#x27;, &#x27;gini&#x27;],\n",
       "                                        &#x27;max_depth&#x27;: [10, 108, 207, 306, 405,\n",
       "                                                      504, 603, 702, 801, 900],\n",
       "                                        &#x27;min_samples_leaf&#x27;: [1],\n",
       "                                        &#x27;min_samples_split&#x27;: [2],\n",
       "                                        &#x27;n_estimators&#x27;: [200, 288, 377, 466,\n",
       "                                                         555, 644, 733, 822,\n",
       "                                                         911, 1000]})</pre><b>In a Jupyter environment, please rerun this cell to show the HTML representation or trust the notebook. <br />On GitHub, the HTML representation is unable to render, please try loading this page with nbviewer.org.</b></div><div class=\"sk-container\" hidden><div class=\"sk-item sk-dashed-wrapped\"><div class=\"sk-label-container\"><div class=\"sk-label sk-toggleable\"><input class=\"sk-toggleable__control sk-hidden--visually\" id=\"sk-estimator-id-4\" type=\"checkbox\" ><label for=\"sk-estimator-id-4\" class=\"sk-toggleable__label sk-toggleable__label-arrow\">RandomizedSearchCV</label><div class=\"sk-toggleable__content\"><pre>RandomizedSearchCV(estimator=RandomForestClassifier(), n_jobs=-1,\n",
       "                   param_distributions={&#x27;ccp_alpha&#x27;: [0.0041, 0.0775, 0.0231,\n",
       "                                                      0.0692, 0.0673, 0.0206,\n",
       "                                                      0.0439, 0.0889, 0.0083,\n",
       "                                                      0.0234, 0.0035, 0.0271,\n",
       "                                                      0.0592, 0.0448, 0.0576,\n",
       "                                                      0.0564, 0.0863, 0.0465,\n",
       "                                                      0.0231, 0.0167, 0.0309,\n",
       "                                                      0.0007, 0.0782, 0.0703,\n",
       "                                                      0.0502, 0.0085, 0.0135,\n",
       "                                                      0.081, 0.0833, 0.0948, ...],\n",
       "                                        &#x27;class_weight&#x27;: [&#x27;balanced&#x27;,\n",
       "                                                         &#x27;balanced_subsample&#x27;],\n",
       "                                        &#x27;criterion&#x27;: [&#x27;entropy&#x27;, &#x27;gini&#x27;],\n",
       "                                        &#x27;max_depth&#x27;: [10, 108, 207, 306, 405,\n",
       "                                                      504, 603, 702, 801, 900],\n",
       "                                        &#x27;min_samples_leaf&#x27;: [1],\n",
       "                                        &#x27;min_samples_split&#x27;: [2],\n",
       "                                        &#x27;n_estimators&#x27;: [200, 288, 377, 466,\n",
       "                                                         555, 644, 733, 822,\n",
       "                                                         911, 1000]})</pre></div></div></div><div class=\"sk-parallel\"><div class=\"sk-parallel-item\"><div class=\"sk-item\"><div class=\"sk-label-container\"><div class=\"sk-label sk-toggleable\"><input class=\"sk-toggleable__control sk-hidden--visually\" id=\"sk-estimator-id-5\" type=\"checkbox\" ><label for=\"sk-estimator-id-5\" class=\"sk-toggleable__label sk-toggleable__label-arrow\">estimator: RandomForestClassifier</label><div class=\"sk-toggleable__content\"><pre>RandomForestClassifier()</pre></div></div></div><div class=\"sk-serial\"><div class=\"sk-item\"><div class=\"sk-estimator sk-toggleable\"><input class=\"sk-toggleable__control sk-hidden--visually\" id=\"sk-estimator-id-6\" type=\"checkbox\" ><label for=\"sk-estimator-id-6\" class=\"sk-toggleable__label sk-toggleable__label-arrow\">RandomForestClassifier</label><div class=\"sk-toggleable__content\"><pre>RandomForestClassifier()</pre></div></div></div></div></div></div></div></div></div></div>"
      ],
      "text/plain": [
       "RandomizedSearchCV(estimator=RandomForestClassifier(), n_jobs=-1,\n",
       "                   param_distributions={'ccp_alpha': [0.0041, 0.0775, 0.0231,\n",
       "                                                      0.0692, 0.0673, 0.0206,\n",
       "                                                      0.0439, 0.0889, 0.0083,\n",
       "                                                      0.0234, 0.0035, 0.0271,\n",
       "                                                      0.0592, 0.0448, 0.0576,\n",
       "                                                      0.0564, 0.0863, 0.0465,\n",
       "                                                      0.0231, 0.0167, 0.0309,\n",
       "                                                      0.0007, 0.0782, 0.0703,\n",
       "                                                      0.0502, 0.0085, 0.0135,\n",
       "                                                      0.081, 0.0833, 0.0948, ...],\n",
       "                                        'class_weight': ['balanced',\n",
       "                                                         'balanced_subsample'],\n",
       "                                        'criterion': ['entropy', 'gini'],\n",
       "                                        'max_depth': [10, 108, 207, 306, 405,\n",
       "                                                      504, 603, 702, 801, 900],\n",
       "                                        'min_samples_leaf': [1],\n",
       "                                        'min_samples_split': [2],\n",
       "                                        'n_estimators': [200, 288, 377, 466,\n",
       "                                                         555, 644, 733, 822,\n",
       "                                                         911, 1000]})"
      ]
     },
     "execution_count": 70,
     "metadata": {},
     "output_type": "execute_result"
    }
   ],
   "source": [
    "rf1 = RandomForestClassifier()\n",
    "rf_randomcv = RandomizedSearchCV(estimator=rf1,param_distributions=random_grid,n_jobs=-1)\n",
    "rf_randomcv.fit(X_train,y_train)"
   ]
  },
  {
   "cell_type": "code",
   "execution_count": 71,
   "id": "24692efe",
   "metadata": {
    "scrolled": false
   },
   "outputs": [],
   "source": [
    "params = rf_randomcv.best_params_"
   ]
  },
  {
   "cell_type": "code",
   "execution_count": 72,
   "id": "18929df4",
   "metadata": {},
   "outputs": [
    {
     "name": "stdout",
     "output_type": "stream",
     "text": [
      "              precision    recall  f1-score   support\n",
      "\n",
      "           0       0.90      0.87      0.88       174\n",
      "           1       0.87      0.90      0.89       174\n",
      "\n",
      "    accuracy                           0.89       348\n",
      "   macro avg       0.89      0.89      0.89       348\n",
      "weighted avg       0.89      0.89      0.89       348\n",
      "\n"
     ]
    }
   ],
   "source": [
    "rf = RandomForestClassifier(n_estimators=params['n_estimators'],min_samples_split= params['min_samples_split'],\n",
    "                            min_samples_leaf= params['min_samples_leaf'],\n",
    "                            max_features=len(X_train.columns),\n",
    "                            criterion=params['criterion'],max_depth=params['max_depth'],\n",
    "                           class_weight=params['class_weight'],ccp_alpha=params['ccp_alpha'])\n",
    "rf.fit(X_train,y_train)\n",
    "preds = rf.predict(X_test)\n",
    "print(classification_report(y_test,preds))"
   ]
  },
  {
   "cell_type": "markdown",
   "id": "1d58fcb9",
   "metadata": {},
   "source": [
    "#### for adaboost"
   ]
  },
  {
   "cell_type": "code",
   "execution_count": 73,
   "id": "bbf7b311",
   "metadata": {},
   "outputs": [
    {
     "name": "stdout",
     "output_type": "stream",
     "text": [
      "              precision    recall  f1-score   support\n",
      "\n",
      "           0       0.94      0.93      0.93       174\n",
      "           1       0.93      0.94      0.93       174\n",
      "\n",
      "    accuracy                           0.93       348\n",
      "   macro avg       0.93      0.93      0.93       348\n",
      "weighted avg       0.93      0.93      0.93       348\n",
      "\n"
     ]
    }
   ],
   "source": [
    "adb = AdaBoostClassifier(base_estimator=DecisionTreeClassifier(max_depth=1))\n",
    "adb.fit(X_train,y_train)\n",
    "preds = adb.predict(X_test)\n",
    "print(classification_report(y_test,preds))"
   ]
  },
  {
   "cell_type": "code",
   "execution_count": 74,
   "id": "69e9cc36",
   "metadata": {},
   "outputs": [],
   "source": [
    "alpha10         = [np.round(random.random()/10,4) for x in range(1,100)]\n",
    "alpha100        = [np.round(random.random()/100,4) for x in range(1,100)]\n",
    "alpha1000       = [np.round(random.random()/1000,4) for x in range(1,100)]\n",
    "\n",
    "learning_rate = alpha10+alpha100+alpha1000\n",
    "n_estimators = [int(x) for x in np.linspace(start = 10, stop = 2000, num = 10)]\n",
    "\n",
    "random_grid = {'learning_rate':learning_rate,\n",
    "              'n_estimators':n_estimators,\n",
    "              'algorithm':['SAMME','SAMME.R']}"
   ]
  },
  {
   "cell_type": "code",
   "execution_count": 75,
   "id": "a30b2920",
   "metadata": {},
   "outputs": [],
   "source": [
    "adb1 = AdaBoostClassifier()\n",
    "ada_randomcv = RandomizedSearchCV(estimator=adb1,param_distributions=random_grid,n_jobs=-1)"
   ]
  },
  {
   "cell_type": "code",
   "execution_count": 76,
   "id": "34603865",
   "metadata": {},
   "outputs": [
    {
     "data": {
      "text/html": [
       "<style>#sk-container-id-3 {color: black;background-color: white;}#sk-container-id-3 pre{padding: 0;}#sk-container-id-3 div.sk-toggleable {background-color: white;}#sk-container-id-3 label.sk-toggleable__label {cursor: pointer;display: block;width: 100%;margin-bottom: 0;padding: 0.3em;box-sizing: border-box;text-align: center;}#sk-container-id-3 label.sk-toggleable__label-arrow:before {content: \"▸\";float: left;margin-right: 0.25em;color: #696969;}#sk-container-id-3 label.sk-toggleable__label-arrow:hover:before {color: black;}#sk-container-id-3 div.sk-estimator:hover label.sk-toggleable__label-arrow:before {color: black;}#sk-container-id-3 div.sk-toggleable__content {max-height: 0;max-width: 0;overflow: hidden;text-align: left;background-color: #f0f8ff;}#sk-container-id-3 div.sk-toggleable__content pre {margin: 0.2em;color: black;border-radius: 0.25em;background-color: #f0f8ff;}#sk-container-id-3 input.sk-toggleable__control:checked~div.sk-toggleable__content {max-height: 200px;max-width: 100%;overflow: auto;}#sk-container-id-3 input.sk-toggleable__control:checked~label.sk-toggleable__label-arrow:before {content: \"▾\";}#sk-container-id-3 div.sk-estimator input.sk-toggleable__control:checked~label.sk-toggleable__label {background-color: #d4ebff;}#sk-container-id-3 div.sk-label input.sk-toggleable__control:checked~label.sk-toggleable__label {background-color: #d4ebff;}#sk-container-id-3 input.sk-hidden--visually {border: 0;clip: rect(1px 1px 1px 1px);clip: rect(1px, 1px, 1px, 1px);height: 1px;margin: -1px;overflow: hidden;padding: 0;position: absolute;width: 1px;}#sk-container-id-3 div.sk-estimator {font-family: monospace;background-color: #f0f8ff;border: 1px dotted black;border-radius: 0.25em;box-sizing: border-box;margin-bottom: 0.5em;}#sk-container-id-3 div.sk-estimator:hover {background-color: #d4ebff;}#sk-container-id-3 div.sk-parallel-item::after {content: \"\";width: 100%;border-bottom: 1px solid gray;flex-grow: 1;}#sk-container-id-3 div.sk-label:hover label.sk-toggleable__label {background-color: #d4ebff;}#sk-container-id-3 div.sk-serial::before {content: \"\";position: absolute;border-left: 1px solid gray;box-sizing: border-box;top: 0;bottom: 0;left: 50%;z-index: 0;}#sk-container-id-3 div.sk-serial {display: flex;flex-direction: column;align-items: center;background-color: white;padding-right: 0.2em;padding-left: 0.2em;position: relative;}#sk-container-id-3 div.sk-item {position: relative;z-index: 1;}#sk-container-id-3 div.sk-parallel {display: flex;align-items: stretch;justify-content: center;background-color: white;position: relative;}#sk-container-id-3 div.sk-item::before, #sk-container-id-3 div.sk-parallel-item::before {content: \"\";position: absolute;border-left: 1px solid gray;box-sizing: border-box;top: 0;bottom: 0;left: 50%;z-index: -1;}#sk-container-id-3 div.sk-parallel-item {display: flex;flex-direction: column;z-index: 1;position: relative;background-color: white;}#sk-container-id-3 div.sk-parallel-item:first-child::after {align-self: flex-end;width: 50%;}#sk-container-id-3 div.sk-parallel-item:last-child::after {align-self: flex-start;width: 50%;}#sk-container-id-3 div.sk-parallel-item:only-child::after {width: 0;}#sk-container-id-3 div.sk-dashed-wrapped {border: 1px dashed gray;margin: 0 0.4em 0.5em 0.4em;box-sizing: border-box;padding-bottom: 0.4em;background-color: white;}#sk-container-id-3 div.sk-label label {font-family: monospace;font-weight: bold;display: inline-block;line-height: 1.2em;}#sk-container-id-3 div.sk-label-container {text-align: center;}#sk-container-id-3 div.sk-container {/* jupyter's `normalize.less` sets `[hidden] { display: none; }` but bootstrap.min.css set `[hidden] { display: none !important; }` so we also need the `!important` here to be able to override the default hidden behavior on the sphinx rendered scikit-learn.org. See: https://github.com/scikit-learn/scikit-learn/issues/21755 */display: inline-block !important;position: relative;}#sk-container-id-3 div.sk-text-repr-fallback {display: none;}</style><div id=\"sk-container-id-3\" class=\"sk-top-container\"><div class=\"sk-text-repr-fallback\"><pre>RandomizedSearchCV(estimator=AdaBoostClassifier(), n_jobs=-1,\n",
       "                   param_distributions={&#x27;algorithm&#x27;: [&#x27;SAMME&#x27;, &#x27;SAMME.R&#x27;],\n",
       "                                        &#x27;learning_rate&#x27;: [0.0745, 0.083, 0.0746,\n",
       "                                                          0.0531, 0.0313,\n",
       "                                                          0.0429, 0.0795,\n",
       "                                                          0.0214, 0.0888,\n",
       "                                                          0.0302, 0.0665,\n",
       "                                                          0.0606, 0.0239,\n",
       "                                                          0.0307, 0.0379,\n",
       "                                                          0.0976, 0.0796,\n",
       "                                                          0.0084, 0.0139,\n",
       "                                                          0.0042, 0.0512,\n",
       "                                                          0.0841, 0.0006,\n",
       "                                                          0.0657, 0.0841,\n",
       "                                                          0.0409, 0.0245,\n",
       "                                                          0.0827, 0.0819,\n",
       "                                                          0.0731, ...],\n",
       "                                        &#x27;n_estimators&#x27;: [10, 231, 452, 673, 894,\n",
       "                                                         1115, 1336, 1557, 1778,\n",
       "                                                         2000]})</pre><b>In a Jupyter environment, please rerun this cell to show the HTML representation or trust the notebook. <br />On GitHub, the HTML representation is unable to render, please try loading this page with nbviewer.org.</b></div><div class=\"sk-container\" hidden><div class=\"sk-item sk-dashed-wrapped\"><div class=\"sk-label-container\"><div class=\"sk-label sk-toggleable\"><input class=\"sk-toggleable__control sk-hidden--visually\" id=\"sk-estimator-id-7\" type=\"checkbox\" ><label for=\"sk-estimator-id-7\" class=\"sk-toggleable__label sk-toggleable__label-arrow\">RandomizedSearchCV</label><div class=\"sk-toggleable__content\"><pre>RandomizedSearchCV(estimator=AdaBoostClassifier(), n_jobs=-1,\n",
       "                   param_distributions={&#x27;algorithm&#x27;: [&#x27;SAMME&#x27;, &#x27;SAMME.R&#x27;],\n",
       "                                        &#x27;learning_rate&#x27;: [0.0745, 0.083, 0.0746,\n",
       "                                                          0.0531, 0.0313,\n",
       "                                                          0.0429, 0.0795,\n",
       "                                                          0.0214, 0.0888,\n",
       "                                                          0.0302, 0.0665,\n",
       "                                                          0.0606, 0.0239,\n",
       "                                                          0.0307, 0.0379,\n",
       "                                                          0.0976, 0.0796,\n",
       "                                                          0.0084, 0.0139,\n",
       "                                                          0.0042, 0.0512,\n",
       "                                                          0.0841, 0.0006,\n",
       "                                                          0.0657, 0.0841,\n",
       "                                                          0.0409, 0.0245,\n",
       "                                                          0.0827, 0.0819,\n",
       "                                                          0.0731, ...],\n",
       "                                        &#x27;n_estimators&#x27;: [10, 231, 452, 673, 894,\n",
       "                                                         1115, 1336, 1557, 1778,\n",
       "                                                         2000]})</pre></div></div></div><div class=\"sk-parallel\"><div class=\"sk-parallel-item\"><div class=\"sk-item\"><div class=\"sk-label-container\"><div class=\"sk-label sk-toggleable\"><input class=\"sk-toggleable__control sk-hidden--visually\" id=\"sk-estimator-id-8\" type=\"checkbox\" ><label for=\"sk-estimator-id-8\" class=\"sk-toggleable__label sk-toggleable__label-arrow\">estimator: AdaBoostClassifier</label><div class=\"sk-toggleable__content\"><pre>AdaBoostClassifier()</pre></div></div></div><div class=\"sk-serial\"><div class=\"sk-item\"><div class=\"sk-estimator sk-toggleable\"><input class=\"sk-toggleable__control sk-hidden--visually\" id=\"sk-estimator-id-9\" type=\"checkbox\" ><label for=\"sk-estimator-id-9\" class=\"sk-toggleable__label sk-toggleable__label-arrow\">AdaBoostClassifier</label><div class=\"sk-toggleable__content\"><pre>AdaBoostClassifier()</pre></div></div></div></div></div></div></div></div></div></div>"
      ],
      "text/plain": [
       "RandomizedSearchCV(estimator=AdaBoostClassifier(), n_jobs=-1,\n",
       "                   param_distributions={'algorithm': ['SAMME', 'SAMME.R'],\n",
       "                                        'learning_rate': [0.0745, 0.083, 0.0746,\n",
       "                                                          0.0531, 0.0313,\n",
       "                                                          0.0429, 0.0795,\n",
       "                                                          0.0214, 0.0888,\n",
       "                                                          0.0302, 0.0665,\n",
       "                                                          0.0606, 0.0239,\n",
       "                                                          0.0307, 0.0379,\n",
       "                                                          0.0976, 0.0796,\n",
       "                                                          0.0084, 0.0139,\n",
       "                                                          0.0042, 0.0512,\n",
       "                                                          0.0841, 0.0006,\n",
       "                                                          0.0657, 0.0841,\n",
       "                                                          0.0409, 0.0245,\n",
       "                                                          0.0827, 0.0819,\n",
       "                                                          0.0731, ...],\n",
       "                                        'n_estimators': [10, 231, 452, 673, 894,\n",
       "                                                         1115, 1336, 1557, 1778,\n",
       "                                                         2000]})"
      ]
     },
     "execution_count": 76,
     "metadata": {},
     "output_type": "execute_result"
    }
   ],
   "source": [
    "ada_randomcv.fit(X_train,y_train)"
   ]
  },
  {
   "cell_type": "code",
   "execution_count": 77,
   "id": "38fb93e4",
   "metadata": {},
   "outputs": [
    {
     "data": {
      "text/plain": [
       "{'n_estimators': 1336, 'learning_rate': 0.0124, 'algorithm': 'SAMME.R'}"
      ]
     },
     "execution_count": 77,
     "metadata": {},
     "output_type": "execute_result"
    }
   ],
   "source": [
    "params_adb = ada_randomcv.best_params_\n",
    "params_adb"
   ]
  },
  {
   "cell_type": "code",
   "execution_count": 78,
   "id": "a5a9d079",
   "metadata": {},
   "outputs": [
    {
     "name": "stdout",
     "output_type": "stream",
     "text": [
      "              precision    recall  f1-score   support\n",
      "\n",
      "           0       0.83      0.88      0.85       174\n",
      "           1       0.87      0.82      0.84       174\n",
      "\n",
      "    accuracy                           0.85       348\n",
      "   macro avg       0.85      0.85      0.85       348\n",
      "weighted avg       0.85      0.85      0.85       348\n",
      "\n"
     ]
    }
   ],
   "source": [
    "adbr = AdaBoostClassifier(base_estimator=DecisionTreeClassifier(min_samples_leaf=params_dt['min_samples_leaf'],\n",
    "                            min_samples_split=params_dt['min_samples_split'],\n",
    "                           max_leaf_nodes=params_dt['max_leaf_nodes'],\n",
    "                           max_features=len(X_train.columns),\n",
    "                           max_depth=params_dt['max_depth'],\n",
    "                           criterion=params_dt['criterion'],\n",
    "                           ccp_alpha=params_dt['ccp_alpha'])\n",
    "                          ,n_estimators=params_adb['n_estimators'],\n",
    "                           learning_rate=params_adb['learning_rate'],\n",
    "                           algorithm=params_adb['algorithm'])\n",
    "adbr.fit(X_train,y_train)\n",
    "preds = adbr.predict(X_test)\n",
    "print(classification_report(y_test,preds))"
   ]
  },
  {
   "cell_type": "code",
   "execution_count": 79,
   "id": "d5c7f1ad",
   "metadata": {},
   "outputs": [],
   "source": [
    "level0 = [('dt_classifier',DecisionTreeClassifier(min_samples_leaf=params_dt['min_samples_leaf'],\n",
    "                            min_samples_split=params_dt['min_samples_split'],\n",
    "                           max_leaf_nodes=params_dt['max_leaf_nodes'],\n",
    "                           max_features=len(X_train.columns),\n",
    "                           max_depth=params_dt['max_depth'],\n",
    "                           criterion=params_dt['criterion'],\n",
    "                           ccp_alpha=params_dt['ccp_alpha'])),\n",
    "          ('rf_classifier', RandomForestClassifier(n_estimators=params['n_estimators'],\n",
    "                                                   min_samples_split= params['min_samples_split'],\n",
    "                                                   min_samples_leaf= params['min_samples_leaf'],\n",
    "                                                   max_features=len(X_train.columns),\n",
    "                                                   criterion=params['criterion'],\n",
    "                                                   max_depth=params['max_depth'],\n",
    "                                                   class_weight=params['class_weight'],\n",
    "                                                   ccp_alpha=params['ccp_alpha'])),\n",
    "          ('ad_classifier',AdaBoostClassifier(base_estimator=DecisionTreeClassifier(\n",
    "              min_samples_leaf=params_dt['min_samples_leaf'],\n",
    "                            min_samples_split=params_dt['min_samples_split'],\n",
    "                           max_leaf_nodes=params_dt['max_leaf_nodes'],\n",
    "                           max_features=len(X_train.columns),\n",
    "                           max_depth=params_dt['max_depth'],\n",
    "                           criterion=params_dt['criterion'],\n",
    "                           ccp_alpha=params_dt['ccp_alpha'])\n",
    "                          ,n_estimators=params_adb['n_estimators'],\n",
    "                           learning_rate=params_adb['learning_rate'],\n",
    "                           algorithm=params_adb['algorithm']))]\n",
    "\n",
    "level1 = LogisticRegression()\n",
    "\n",
    "\n",
    "model = StackingClassifier(estimators=level0,final_estimator=level1,n_jobs=-1)\n"
   ]
  },
  {
   "cell_type": "code",
   "execution_count": 80,
   "id": "1e6786bd",
   "metadata": {},
   "outputs": [],
   "source": [
    "model.fit(X_train,y_train)\n",
    "y_preds = model.predict(X_test)"
   ]
  },
  {
   "cell_type": "code",
   "execution_count": 81,
   "id": "b72820a9",
   "metadata": {
    "scrolled": true
   },
   "outputs": [
    {
     "name": "stdout",
     "output_type": "stream",
     "text": [
      "[[155  19]\n",
      " [ 15 159]]\n",
      "0.9022988505747126\n"
     ]
    }
   ],
   "source": [
    "print(confusion_matrix(y_test,y_preds))\n",
    "print(accuracy_score(y_test,y_preds))"
   ]
  },
  {
   "cell_type": "code",
   "execution_count": 82,
   "id": "7984c67e",
   "metadata": {
    "scrolled": false
   },
   "outputs": [
    {
     "name": "stdout",
     "output_type": "stream",
     "text": [
      "              precision    recall  f1-score   support\n",
      "\n",
      "           0       0.91      0.89      0.90       174\n",
      "           1       0.89      0.91      0.90       174\n",
      "\n",
      "    accuracy                           0.90       348\n",
      "   macro avg       0.90      0.90      0.90       348\n",
      "weighted avg       0.90      0.90      0.90       348\n",
      "\n"
     ]
    }
   ],
   "source": [
    "print(classification_report(y_test,y_preds))"
   ]
  },
  {
   "cell_type": "code",
   "execution_count": 83,
   "id": "c4addc5e",
   "metadata": {},
   "outputs": [],
   "source": [
    "x = [3,0,600,500000,0.581699,0.16339,0.065600,0.001200,1,1,2]"
   ]
  },
  {
   "cell_type": "code",
   "execution_count": 84,
   "id": "8009898f",
   "metadata": {},
   "outputs": [],
   "source": [
    "x = np.reshape(x,(1,-1))\n",
    "#model.predict(x)"
   ]
  },
  {
   "cell_type": "code",
   "execution_count": 85,
   "id": "c4a496e5",
   "metadata": {},
   "outputs": [],
   "source": [
    "filename = 'modellib.sav'"
   ]
  },
  {
   "cell_type": "code",
   "execution_count": 86,
   "id": "8c5751c2",
   "metadata": {},
   "outputs": [
    {
     "data": {
      "text/plain": [
       "['modellib.sav']"
      ]
     },
     "execution_count": 86,
     "metadata": {},
     "output_type": "execute_result"
    }
   ],
   "source": [
    "joblib.dump(model, filename)\n",
    " "
   ]
  },
  {
   "cell_type": "code",
   "execution_count": 87,
   "id": "d5725bca",
   "metadata": {},
   "outputs": [],
   "source": [
    "loaded_model = joblib.load(filename)"
   ]
  },
  {
   "cell_type": "code",
   "execution_count": 88,
   "id": "43e63cd4",
   "metadata": {},
   "outputs": [],
   "source": [
    "preds = loaded_model.predict_proba(x)"
   ]
  },
  {
   "cell_type": "code",
   "execution_count": 89,
   "id": "1aa94fbd",
   "metadata": {
    "scrolled": true
   },
   "outputs": [
    {
     "data": {
      "text/plain": [
       "array([0.94695613, 0.05304387])"
      ]
     },
     "execution_count": 89,
     "metadata": {},
     "output_type": "execute_result"
    }
   ],
   "source": [
    "preds[0]"
   ]
  },
  {
   "cell_type": "code",
   "execution_count": 90,
   "id": "31ab95e6",
   "metadata": {
    "scrolled": false
   },
   "outputs": [],
   "source": [
    "x1 = loaded_model.predict_proba(x)"
   ]
  },
  {
   "cell_type": "code",
   "execution_count": 91,
   "id": "c3c98ec6",
   "metadata": {},
   "outputs": [
    {
     "data": {
      "text/plain": [
       "array([[0.94695613, 0.05304387]])"
      ]
     },
     "execution_count": 91,
     "metadata": {},
     "output_type": "execute_result"
    }
   ],
   "source": [
    "x1"
   ]
  },
  {
   "cell_type": "code",
   "execution_count": 92,
   "id": "bed17102",
   "metadata": {},
   "outputs": [
    {
     "data": {
      "text/plain": [
       "0.9469561330261844"
      ]
     },
     "execution_count": 92,
     "metadata": {},
     "output_type": "execute_result"
    }
   ],
   "source": [
    "x1.tolist()[0][0]"
   ]
  }
 ],
 "metadata": {
  "kernelspec": {
   "display_name": "Python 3 (ipykernel)",
   "language": "python",
   "name": "python3"
  },
  "language_info": {
   "codemirror_mode": {
    "name": "ipython",
    "version": 3
   },
   "file_extension": ".py",
   "mimetype": "text/x-python",
   "name": "python",
   "nbconvert_exporter": "python",
   "pygments_lexer": "ipython3",
   "version": "3.10.7"
  }
 },
 "nbformat": 4,
 "nbformat_minor": 5
}
